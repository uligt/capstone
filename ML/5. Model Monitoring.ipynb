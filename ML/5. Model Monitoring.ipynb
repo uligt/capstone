{
 "cells": [
  {
   "cell_type": "markdown",
   "metadata": {},
   "source": [
    "# Model Monitoring and Maintenance\n",
    "\n",
    "This notebook sets up automated monitoring systems to ensure our machine learning models continue to perform well over time. It helps detect when models need updates and keeps them running smoothly in production."
   ]
  },
  {
   "cell_type": "markdown",
   "metadata": {},
   "source": [
    "## Libraries"
   ]
  },
  {
   "cell_type": "code",
   "execution_count": null,
   "metadata": {},
   "outputs": [],
   "source": [
    "import pandas as pd\n",
    "import numpy as np\n",
    "import matplotlib.pyplot as plt\n",
    "import seaborn as sns\n",
    "from sklearn.metrics import roc_auc_score\n",
    "from sklearn.calibration import CalibratedClassifierCV"
   ]
  },
  {
   "cell_type": "markdown",
   "metadata": {
    "id": "NHVIwa7I5mBQ"
   },
   "source": [
    "### 1. Predictive Performance Monitoring"
   ]
  },
  {
   "cell_type": "markdown",
   "metadata": {},
   "source": [
    "## Monitoring Functions\n",
    "\n",
    "We need to continuously check how well our models are performing with new data. These monitoring functions help us detect when model accuracy starts to decline and needs attention."
   ]
  },
  {
   "cell_type": "markdown",
   "metadata": {
    "id": "vDV_MeMn5qnK"
   },
   "source": [
    "#### 1.1 Batch Inference Function"
   ]
  },
  {
   "cell_type": "markdown",
   "metadata": {},
   "source": [
    "This function runs our model on new data and measures how accurately it performs. It's like giving the model a test to see if it's still working as expected."
   ]
  },
  {
   "cell_type": "code",
   "execution_count": null,
   "metadata": {
    "id": "E73QscWV5sl_"
   },
   "outputs": [],
   "source": [
    "def run_inference(model, X, y_true=None):\n",
    "    y_pred = model.predict_proba(X)[:, 1]\n",
    "    if y_true is not None:\n",
    "        auc = roc_auc_score(y_true, y_pred)\n",
    "        print(f\"AUC: {auc:.4f}\")\n",
    "    return y_pred"
   ]
  },
  {
   "cell_type": "markdown",
   "metadata": {
    "id": "fVALbtKq57f_"
   },
   "source": [
    "#### 1.2 Drift and Performance Report"
   ]
  },
  {
   "cell_type": "markdown",
   "metadata": {},
   "source": [
    "This monitoring function automatically checks if our model performance has dropped below acceptable levels. When performance degrades, it alerts us that the model may need to be retrained with fresh data."
   ]
  },
  {
   "cell_type": "code",
   "execution_count": null,
   "metadata": {
    "id": "BnWobF6Z59va"
   },
   "outputs": [],
   "source": [
    "def monitor_performance(model, X_new, y_new, threshold_auc=0.7):\n",
    "    y_pred = run_inference(model, X_new, y_new)\n",
    "    auc = roc_auc_score(y_new, y_pred)\n",
    "    if auc < threshold_auc:\n",
    "        print(\"Model performance degraded. Consider recalibration or retraining.\")\n",
    "    else:\n",
    "        print(\"Model performance acceptable.\")"
   ]
  },
  {
   "cell_type": "markdown",
   "metadata": {
    "id": "iioeeFn96VaS"
   },
   "source": [
    "### 2. Recalibration Monitoring"
   ]
  },
  {
   "cell_type": "markdown",
   "metadata": {},
   "source": [
    "Sometimes models need fine-tuning rather than complete retraining. Recalibration adjusts the model's confidence levels to ensure predictions remain reliable and well-calibrated over time."
   ]
  },
  {
   "cell_type": "markdown",
   "metadata": {
    "id": "ugkZXldH6W0p"
   },
   "source": [
    "#### 2.1 Recalibration"
   ]
  },
  {
   "cell_type": "markdown",
   "metadata": {},
   "source": [
    "This function fine-tunes our model's prediction confidence without completely retraining it. It's a quicker way to improve model reliability when we notice calibration issues."
   ]
  },
  {
   "cell_type": "code",
   "execution_count": null,
   "metadata": {
    "id": "uOEexewB6b__"
   },
   "outputs": [],
   "source": [
    "from sklearn.calibration import CalibratedClassifierCV\n",
    "\n",
    "def calibrate_model(model, X_val, y_val):\n",
    "    calibrator = CalibratedClassifierCV(model, cv='prefit')\n",
    "    calibrator.fit(X_val, y_val)\n",
    "    return calibrator"
   ]
  },
  {
   "cell_type": "markdown",
   "metadata": {
    "id": "9J_z1amH6gN1"
   },
   "source": [
    "#### 2.2 Comparison"
   ]
  },
  {
   "cell_type": "markdown",
   "metadata": {},
   "source": [
    "This visualization helps us check if our model's confidence levels match reality. Well-calibrated models should have prediction confidence that aligns with actual outcomes."
   ]
  },
  {
   "cell_type": "code",
   "execution_count": null,
   "metadata": {
    "id": "bd2Bi47r6jnb"
   },
   "outputs": [],
   "source": [
    "def plot_calibration(y_true, y_pred):\n",
    "    sns.histplot(y_pred, bins=20, kde=True, label='Predicted Probabilities')\n",
    "    sns.histplot(y_true, bins=2, kde=False, label='True Labels', color='orange')\n",
    "    plt.legend()\n",
    "    plt.title(\"Calibration Check\")\n",
    "    plt.show()"
   ]
  },
  {
   "cell_type": "markdown",
   "metadata": {
    "id": "U7YifZW961x6"
   },
   "source": [
    "### 3. Schema Drift"
   ]
  },
  {
   "cell_type": "markdown",
   "metadata": {},
   "source": [
    "Data formats can change over time, which could break our models. Schema drift monitoring checks if incoming data has the expected structure and warns us about any changes that might cause problems."
   ]
  },
  {
   "cell_type": "code",
   "execution_count": null,
   "metadata": {
    "id": "4SuK9TJi63H8"
   },
   "outputs": [],
   "source": [
    "EXPECTED_COLUMNS = ['col1', 'col2', 'col3', 'col4']\n",
    "\n",
    "def check_new_columns(df):\n",
    "    new_cols = set(df.columns) - set(EXPECTED_COLUMNS)\n",
    "    missing_cols = set(EXPECTED_COLUMNS) - set(df.columns)\n",
    "\n",
    "    if new_cols:\n",
    "        print(f\"New columns detected: {new_cols}\")\n",
    "    if missing_cols:\n",
    "        print(f\"Missing expected columns: {missing_cols}\")\n",
    "    if not new_cols and not missing_cols:\n",
    "        print(\"Schema matches expected input.\")"
   ]
  },
  {
   "cell_type": "markdown",
   "metadata": {
    "id": "fuaiIDOo6-U2"
   },
   "source": [
    "#### 4. Maintainance Pipeline Execution"
   ]
  },
  {
   "cell_type": "markdown",
   "metadata": {},
   "source": [
    "This comprehensive maintenance function combines all our monitoring checks into one automated pipeline. It runs all the necessary health checks to ensure our models stay reliable and accurate in production."
   ]
  },
  {
   "cell_type": "code",
   "execution_count": null,
   "metadata": {
    "id": "Qcyr_4GU7DNg"
   },
   "outputs": [],
   "source": [
    "def full_model_maintenance(model, new_data_df, y_true=None):\n",
    "    check_new_columns(new_data_df)\n",
    "    monitor_performance(model, new_data_df[EXPECTED_COLUMNS], y_true)"
   ]
  }
 ],
 "metadata": {
  "colab": {
   "authorship_tag": "ABX9TyMv52bs5Hl4+5gs4hNGziT8",
   "provenance": []
  },
  "kernelspec": {
   "display_name": "Python 3",
   "name": "python3"
  },
  "language_info": {
   "name": "python"
  }
 },
 "nbformat": 4,
 "nbformat_minor": 0
}
