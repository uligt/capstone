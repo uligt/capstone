{
 "cells": [
  {
   "cell_type": "markdown",
   "id": "bfde0edd",
   "metadata": {},
   "source": [
    "### Imports"
   ]
  },
  {
   "cell_type": "code",
   "execution_count": 1,
   "id": "c8aa1b50",
   "metadata": {},
   "outputs": [],
   "source": [
    "import pandas as pd\n",
    "import numpy as np\n",
    "import matplotlib.pyplot as plt\n",
    "import seaborn as sns"
   ]
  },
  {
   "cell_type": "markdown",
   "id": "08400d16",
   "metadata": {},
   "source": [
    "### Globals"
   ]
  },
  {
   "cell_type": "code",
   "execution_count": 2,
   "id": "973ef584",
   "metadata": {},
   "outputs": [],
   "source": [
    "data_filepath = '../../original_data/'\n",
    "density_report_filepath = data_filepath + 'DensityReports.xlsx'\n",
    "historical_incidents_filepath = data_filepath + 'HistoricalIncidents.xlsx'\n",
    "product_attributes_filepath = data_filepath + 'ProductAttributes.xlsx'\n",
    "supplier_scorecard_filepath = data_filepath + 'SupplierScorecard.xlsx'"
   ]
  },
  {
   "cell_type": "markdown",
   "id": "5d1faa1a",
   "metadata": {},
   "source": [
    "### Load Data"
   ]
  },
  {
   "cell_type": "code",
   "execution_count": 4,
   "id": "c24a8ddc",
   "metadata": {},
   "outputs": [],
   "source": [
    "supplier_scorecard = pd.read_excel(supplier_scorecard_filepath)"
   ]
  },
  {
   "cell_type": "markdown",
   "id": "1bc1d5a7",
   "metadata": {},
   "source": [
    "## Initial Inspection"
   ]
  },
  {
   "cell_type": "code",
   "execution_count": 5,
   "id": "c3864ed3",
   "metadata": {},
   "outputs": [
    {
     "data": {
      "text/html": [
       "<div>\n",
       "<style scoped>\n",
       "    .dataframe tbody tr th:only-of-type {\n",
       "        vertical-align: middle;\n",
       "    }\n",
       "\n",
       "    .dataframe tbody tr th {\n",
       "        vertical-align: top;\n",
       "    }\n",
       "\n",
       "    .dataframe thead th {\n",
       "        text-align: right;\n",
       "    }\n",
       "</style>\n",
       "<table border=\"1\" class=\"dataframe\">\n",
       "  <thead>\n",
       "    <tr style=\"text-align: right;\">\n",
       "      <th></th>\n",
       "      <th>SupplierName</th>\n",
       "      <th>Month</th>\n",
       "      <th>PackagesHandled</th>\n",
       "      <th>BadPackagingRate (%)</th>\n",
       "      <th>TotalIncidents</th>\n",
       "      <th>AverageCostPerIncident (€)</th>\n",
       "      <th>OnTimeDeliveryRate (%)</th>\n",
       "      <th>AnomaliesDetected</th>\n",
       "    </tr>\n",
       "  </thead>\n",
       "  <tbody>\n",
       "    <tr>\n",
       "      <th>0</th>\n",
       "      <td>SupplierA</td>\n",
       "      <td>2023-01</td>\n",
       "      <td>7841</td>\n",
       "      <td>8.46</td>\n",
       "      <td>133</td>\n",
       "      <td>538.23</td>\n",
       "      <td>86.01</td>\n",
       "      <td>23</td>\n",
       "    </tr>\n",
       "    <tr>\n",
       "      <th>1</th>\n",
       "      <td>SupplierA</td>\n",
       "      <td>2023-02</td>\n",
       "      <td>7196</td>\n",
       "      <td>7.78</td>\n",
       "      <td>153</td>\n",
       "      <td>572.14</td>\n",
       "      <td>88.09</td>\n",
       "      <td>16</td>\n",
       "    </tr>\n",
       "    <tr>\n",
       "      <th>2</th>\n",
       "      <td>SupplierA</td>\n",
       "      <td>2023-03</td>\n",
       "      <td>7842</td>\n",
       "      <td>7.94</td>\n",
       "      <td>163</td>\n",
       "      <td>547.51</td>\n",
       "      <td>84.74</td>\n",
       "      <td>21</td>\n",
       "    </tr>\n",
       "    <tr>\n",
       "      <th>3</th>\n",
       "      <td>SupplierA</td>\n",
       "      <td>2023-04</td>\n",
       "      <td>7587</td>\n",
       "      <td>7.70</td>\n",
       "      <td>158</td>\n",
       "      <td>588.33</td>\n",
       "      <td>91.58</td>\n",
       "      <td>18</td>\n",
       "    </tr>\n",
       "    <tr>\n",
       "      <th>4</th>\n",
       "      <td>SupplierA</td>\n",
       "      <td>2023-05</td>\n",
       "      <td>8010</td>\n",
       "      <td>7.77</td>\n",
       "      <td>166</td>\n",
       "      <td>618.34</td>\n",
       "      <td>96.87</td>\n",
       "      <td>18</td>\n",
       "    </tr>\n",
       "  </tbody>\n",
       "</table>\n",
       "</div>"
      ],
      "text/plain": [
       "  SupplierName    Month  PackagesHandled  BadPackagingRate (%)  \\\n",
       "0    SupplierA  2023-01             7841                  8.46   \n",
       "1    SupplierA  2023-02             7196                  7.78   \n",
       "2    SupplierA  2023-03             7842                  7.94   \n",
       "3    SupplierA  2023-04             7587                  7.70   \n",
       "4    SupplierA  2023-05             8010                  7.77   \n",
       "\n",
       "   TotalIncidents  AverageCostPerIncident (€)  OnTimeDeliveryRate (%)  \\\n",
       "0             133                      538.23                   86.01   \n",
       "1             153                      572.14                   88.09   \n",
       "2             163                      547.51                   84.74   \n",
       "3             158                      588.33                   91.58   \n",
       "4             166                      618.34                   96.87   \n",
       "\n",
       "   AnomaliesDetected  \n",
       "0                 23  \n",
       "1                 16  \n",
       "2                 21  \n",
       "3                 18  \n",
       "4                 18  "
      ]
     },
     "execution_count": 5,
     "metadata": {},
     "output_type": "execute_result"
    }
   ],
   "source": [
    "supplier_scorecard.head()\n"
   ]
  },
  {
   "cell_type": "code",
   "execution_count": 6,
   "id": "0cf8ee6a",
   "metadata": {},
   "outputs": [
    {
     "name": "stdout",
     "output_type": "stream",
     "text": [
      "<class 'pandas.core.frame.DataFrame'>\n",
      "RangeIndex: 252 entries, 0 to 251\n",
      "Data columns (total 8 columns):\n",
      " #   Column                      Non-Null Count  Dtype  \n",
      "---  ------                      --------------  -----  \n",
      " 0   SupplierName                252 non-null    object \n",
      " 1   Month                       252 non-null    object \n",
      " 2   PackagesHandled             252 non-null    int64  \n",
      " 3   BadPackagingRate (%)        252 non-null    float64\n",
      " 4   TotalIncidents              252 non-null    int64  \n",
      " 5   AverageCostPerIncident (€)  252 non-null    float64\n",
      " 6   OnTimeDeliveryRate (%)      252 non-null    float64\n",
      " 7   AnomaliesDetected           252 non-null    int64  \n",
      "dtypes: float64(3), int64(3), object(2)\n",
      "memory usage: 15.9+ KB\n"
     ]
    }
   ],
   "source": [
    "supplier_scorecard.info()"
   ]
  },
  {
   "cell_type": "code",
   "execution_count": 7,
   "id": "4b8dbd51",
   "metadata": {},
   "outputs": [
    {
     "data": {
      "text/html": [
       "<div>\n",
       "<style scoped>\n",
       "    .dataframe tbody tr th:only-of-type {\n",
       "        vertical-align: middle;\n",
       "    }\n",
       "\n",
       "    .dataframe tbody tr th {\n",
       "        vertical-align: top;\n",
       "    }\n",
       "\n",
       "    .dataframe thead th {\n",
       "        text-align: right;\n",
       "    }\n",
       "</style>\n",
       "<table border=\"1\" class=\"dataframe\">\n",
       "  <thead>\n",
       "    <tr style=\"text-align: right;\">\n",
       "      <th></th>\n",
       "      <th>SupplierName</th>\n",
       "      <th>Month</th>\n",
       "      <th>PackagesHandled</th>\n",
       "      <th>BadPackagingRate (%)</th>\n",
       "      <th>TotalIncidents</th>\n",
       "      <th>AverageCostPerIncident (€)</th>\n",
       "      <th>OnTimeDeliveryRate (%)</th>\n",
       "      <th>AnomaliesDetected</th>\n",
       "    </tr>\n",
       "  </thead>\n",
       "  <tbody>\n",
       "    <tr>\n",
       "      <th>count</th>\n",
       "      <td>252</td>\n",
       "      <td>252</td>\n",
       "      <td>252.000000</td>\n",
       "      <td>252.000000</td>\n",
       "      <td>252.000000</td>\n",
       "      <td>252.000000</td>\n",
       "      <td>252.000000</td>\n",
       "      <td>252.000000</td>\n",
       "    </tr>\n",
       "    <tr>\n",
       "      <th>unique</th>\n",
       "      <td>14</td>\n",
       "      <td>18</td>\n",
       "      <td>NaN</td>\n",
       "      <td>NaN</td>\n",
       "      <td>NaN</td>\n",
       "      <td>NaN</td>\n",
       "      <td>NaN</td>\n",
       "      <td>NaN</td>\n",
       "    </tr>\n",
       "    <tr>\n",
       "      <th>top</th>\n",
       "      <td>SupplierA</td>\n",
       "      <td>2023-01</td>\n",
       "      <td>NaN</td>\n",
       "      <td>NaN</td>\n",
       "      <td>NaN</td>\n",
       "      <td>NaN</td>\n",
       "      <td>NaN</td>\n",
       "      <td>NaN</td>\n",
       "    </tr>\n",
       "    <tr>\n",
       "      <th>freq</th>\n",
       "      <td>18</td>\n",
       "      <td>14</td>\n",
       "      <td>NaN</td>\n",
       "      <td>NaN</td>\n",
       "      <td>NaN</td>\n",
       "      <td>NaN</td>\n",
       "      <td>NaN</td>\n",
       "      <td>NaN</td>\n",
       "    </tr>\n",
       "    <tr>\n",
       "      <th>mean</th>\n",
       "      <td>NaN</td>\n",
       "      <td>NaN</td>\n",
       "      <td>1984.126984</td>\n",
       "      <td>23.047540</td>\n",
       "      <td>70.436508</td>\n",
       "      <td>552.654524</td>\n",
       "      <td>75.397857</td>\n",
       "      <td>11.698413</td>\n",
       "    </tr>\n",
       "    <tr>\n",
       "      <th>std</th>\n",
       "      <td>NaN</td>\n",
       "      <td>NaN</td>\n",
       "      <td>2382.575890</td>\n",
       "      <td>9.242888</td>\n",
       "      <td>71.666892</td>\n",
       "      <td>215.370064</td>\n",
       "      <td>8.923621</td>\n",
       "      <td>12.036644</td>\n",
       "    </tr>\n",
       "    <tr>\n",
       "      <th>min</th>\n",
       "      <td>NaN</td>\n",
       "      <td>NaN</td>\n",
       "      <td>66.000000</td>\n",
       "      <td>7.290000</td>\n",
       "      <td>0.000000</td>\n",
       "      <td>0.000000</td>\n",
       "      <td>60.000000</td>\n",
       "      <td>0.000000</td>\n",
       "    </tr>\n",
       "    <tr>\n",
       "      <th>25%</th>\n",
       "      <td>NaN</td>\n",
       "      <td>NaN</td>\n",
       "      <td>95.000000</td>\n",
       "      <td>16.652500</td>\n",
       "      <td>3.000000</td>\n",
       "      <td>483.457500</td>\n",
       "      <td>68.837500</td>\n",
       "      <td>1.000000</td>\n",
       "    </tr>\n",
       "    <tr>\n",
       "      <th>50%</th>\n",
       "      <td>NaN</td>\n",
       "      <td>NaN</td>\n",
       "      <td>1097.000000</td>\n",
       "      <td>21.000000</td>\n",
       "      <td>46.000000</td>\n",
       "      <td>544.090000</td>\n",
       "      <td>76.395000</td>\n",
       "      <td>8.500000</td>\n",
       "    </tr>\n",
       "    <tr>\n",
       "      <th>75%</th>\n",
       "      <td>NaN</td>\n",
       "      <td>NaN</td>\n",
       "      <td>2963.750000</td>\n",
       "      <td>27.510000</td>\n",
       "      <td>149.250000</td>\n",
       "      <td>611.607500</td>\n",
       "      <td>81.950000</td>\n",
       "      <td>20.250000</td>\n",
       "    </tr>\n",
       "    <tr>\n",
       "      <th>max</th>\n",
       "      <td>NaN</td>\n",
       "      <td>NaN</td>\n",
       "      <td>8019.000000</td>\n",
       "      <td>45.850000</td>\n",
       "      <td>210.000000</td>\n",
       "      <td>1969.000000</td>\n",
       "      <td>96.870000</td>\n",
       "      <td>43.000000</td>\n",
       "    </tr>\n",
       "  </tbody>\n",
       "</table>\n",
       "</div>"
      ],
      "text/plain": [
       "       SupplierName    Month  PackagesHandled  BadPackagingRate (%)  \\\n",
       "count           252      252       252.000000            252.000000   \n",
       "unique           14       18              NaN                   NaN   \n",
       "top       SupplierA  2023-01              NaN                   NaN   \n",
       "freq             18       14              NaN                   NaN   \n",
       "mean            NaN      NaN      1984.126984             23.047540   \n",
       "std             NaN      NaN      2382.575890              9.242888   \n",
       "min             NaN      NaN        66.000000              7.290000   \n",
       "25%             NaN      NaN        95.000000             16.652500   \n",
       "50%             NaN      NaN      1097.000000             21.000000   \n",
       "75%             NaN      NaN      2963.750000             27.510000   \n",
       "max             NaN      NaN      8019.000000             45.850000   \n",
       "\n",
       "        TotalIncidents  AverageCostPerIncident (€)  OnTimeDeliveryRate (%)  \\\n",
       "count       252.000000                  252.000000              252.000000   \n",
       "unique             NaN                         NaN                     NaN   \n",
       "top                NaN                         NaN                     NaN   \n",
       "freq               NaN                         NaN                     NaN   \n",
       "mean         70.436508                  552.654524               75.397857   \n",
       "std          71.666892                  215.370064                8.923621   \n",
       "min           0.000000                    0.000000               60.000000   \n",
       "25%           3.000000                  483.457500               68.837500   \n",
       "50%          46.000000                  544.090000               76.395000   \n",
       "75%         149.250000                  611.607500               81.950000   \n",
       "max         210.000000                 1969.000000               96.870000   \n",
       "\n",
       "        AnomaliesDetected  \n",
       "count          252.000000  \n",
       "unique                NaN  \n",
       "top                   NaN  \n",
       "freq                  NaN  \n",
       "mean            11.698413  \n",
       "std             12.036644  \n",
       "min              0.000000  \n",
       "25%              1.000000  \n",
       "50%              8.500000  \n",
       "75%             20.250000  \n",
       "max             43.000000  "
      ]
     },
     "execution_count": 7,
     "metadata": {},
     "output_type": "execute_result"
    }
   ],
   "source": [
    "supplier_scorecard.describe(include='all')"
   ]
  },
  {
   "cell_type": "code",
   "execution_count": 8,
   "id": "091f88a4",
   "metadata": {},
   "outputs": [
    {
     "data": {
      "text/plain": [
       "SupplierName                   object\n",
       "Month                          object\n",
       "PackagesHandled                 int64\n",
       "BadPackagingRate (%)          float64\n",
       "TotalIncidents                  int64\n",
       "AverageCostPerIncident (€)    float64\n",
       "OnTimeDeliveryRate (%)        float64\n",
       "AnomaliesDetected               int64\n",
       "dtype: object"
      ]
     },
     "execution_count": 8,
     "metadata": {},
     "output_type": "execute_result"
    }
   ],
   "source": [
    "supplier_scorecard.dtypes"
   ]
  },
  {
   "cell_type": "code",
   "execution_count": 9,
   "id": "ff420a93",
   "metadata": {},
   "outputs": [
    {
     "data": {
      "text/plain": [
       "SupplierName                  0\n",
       "Month                         0\n",
       "PackagesHandled               0\n",
       "BadPackagingRate (%)          0\n",
       "TotalIncidents                0\n",
       "AverageCostPerIncident (€)    0\n",
       "OnTimeDeliveryRate (%)        0\n",
       "AnomaliesDetected             0\n",
       "dtype: int64"
      ]
     },
     "execution_count": 9,
     "metadata": {},
     "output_type": "execute_result"
    }
   ],
   "source": [
    "supplier_scorecard.isnull().sum()"
   ]
  },
  {
   "cell_type": "code",
   "execution_count": 10,
   "id": "5fb95a41",
   "metadata": {},
   "outputs": [
    {
     "data": {
      "text/plain": [
       "0"
      ]
     },
     "execution_count": 10,
     "metadata": {},
     "output_type": "execute_result"
    }
   ],
   "source": [
    "supplier_scorecard.duplicated().sum()\n"
   ]
  }
 ],
 "metadata": {
  "kernelspec": {
   "display_name": "Python 3",
   "language": "python",
   "name": "python3"
  },
  "language_info": {
   "codemirror_mode": {
    "name": "ipython",
    "version": 3
   },
   "file_extension": ".py",
   "mimetype": "text/x-python",
   "name": "python",
   "nbconvert_exporter": "python",
   "pygments_lexer": "ipython3",
   "version": "3.11.9"
  }
 },
 "nbformat": 4,
 "nbformat_minor": 5
}
