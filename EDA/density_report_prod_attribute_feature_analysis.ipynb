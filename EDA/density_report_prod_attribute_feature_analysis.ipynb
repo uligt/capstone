{
 "cells": [
  {
   "cell_type": "markdown",
   "id": "81fc6fc4",
   "metadata": {},
   "source": [
    "### Imports"
   ]
  },
  {
   "cell_type": "code",
   "execution_count": 1,
   "id": "dccd13d3",
   "metadata": {},
   "outputs": [],
   "source": [
    "import pandas as pd\n",
    "import numpy as np\n",
    "import matplotlib.pyplot as plt\n",
    "import seaborn as sns\n",
    "from scipy.stats import chi2_contingency\n",
    "from sklearn.feature_selection import mutual_info_classif\n",
    "from sklearn.preprocessing import LabelEncoder"
   ]
  },
  {
   "cell_type": "code",
   "execution_count": 2,
   "id": "fd6607b7",
   "metadata": {},
   "outputs": [],
   "source": [
    "import pandas as pd\n",
    "import numpy as np\n",
    "from scipy import stats\n",
    "from sklearn.covariance import EmpiricalCovariance\n",
    "from sklearn.ensemble import IsolationForest\n",
    "import matplotlib.pyplot as plt"
   ]
  },
  {
   "cell_type": "markdown",
   "id": "dcf0700d",
   "metadata": {},
   "source": [
    "### Globals"
   ]
  },
  {
   "cell_type": "code",
   "execution_count": 3,
   "id": "cfa401e5",
   "metadata": {},
   "outputs": [],
   "source": [
    "original_data_path = '../data/original/'\n",
    "density_reports_filepath = original_data_path + 'DensityReports.xlsx'\n",
    "historical_incidents_filepath = original_data_path + 'HistoricalIncidents.xlsx'\n",
    "product_attributes_filepath = original_data_path + 'ProductAttributes.xlsx'\n",
    "supplier_scorecard_filepath = original_data_path + 'SupplierScorecard.xlsx'"
   ]
  },
  {
   "cell_type": "markdown",
   "id": "0d87ec7d",
   "metadata": {},
   "source": [
    "### Load Data"
   ]
  },
  {
   "cell_type": "code",
   "execution_count": 4,
   "id": "68b33625",
   "metadata": {},
   "outputs": [],
   "source": [
    "density_reports = pd.read_excel(density_reports_filepath)\n",
    "product_attributes = pd.read_excel(product_attributes_filepath)\n",
    "supplier_scorecard = pd.read_excel(supplier_scorecard_filepath)\n"
   ]
  },
  {
   "cell_type": "markdown",
   "id": "08e6262b",
   "metadata": {},
   "source": [
    "## Data Preparation"
   ]
  },
  {
   "cell_type": "markdown",
   "id": "fca83f3c",
   "metadata": {},
   "source": [
    "### Basic Transformations"
   ]
  },
  {
   "cell_type": "code",
   "execution_count": 5,
   "id": "eeb6d2c9",
   "metadata": {},
   "outputs": [
    {
     "data": {
      "text/plain": [
       "PackagingQuality\n",
       "Good         397338\n",
       "Bad           97017\n",
       "GOOD           1914\n",
       "bad            1868\n",
       "Uncertain      1863\n",
       "Name: count, dtype: int64"
      ]
     },
     "execution_count": 5,
     "metadata": {},
     "output_type": "execute_result"
    }
   ],
   "source": [
    "density_reports['PackagingQuality'].value_counts()"
   ]
  },
  {
   "cell_type": "code",
   "execution_count": 6,
   "id": "b53d99ce",
   "metadata": {},
   "outputs": [
    {
     "name": "stdout",
     "output_type": "stream",
     "text": [
      "['Good' 'Bad' 'GOOD' 'Uncertain' 'bad']\n",
      "['GOOD' 'BAD' 'UNCERTAIN']\n"
     ]
    }
   ],
   "source": [
    "unique_packaging_quality = density_reports['PackagingQuality'].unique()\n",
    "print(unique_packaging_quality)\n",
    "\n",
    "density_reports['PackagingQuality'] = density_reports['PackagingQuality'].str.upper()\n",
    "unique_packaging_quality = density_reports['PackagingQuality'].unique()\n",
    "print(unique_packaging_quality)"
   ]
  },
  {
   "cell_type": "code",
   "execution_count": 7,
   "id": "e9a7cbea",
   "metadata": {},
   "outputs": [
    {
     "data": {
      "text/plain": [
       "SupplierName\n",
       "SupplierA    138607\n",
       "SupplierB    110723\n",
       "SupplierC     74490\n",
       "SupplierD     53416\n",
       "SupplierE     40662\n",
       "SupplierF     32845\n",
       "SupplierG     25510\n",
       "SupplierH     13744\n",
       "supplierA      1721\n",
       "SupllierC      1714\n",
       "supplierh      1674\n",
       "SPLF           1642\n",
       "SuplA          1629\n",
       "SuppB          1623\n",
       "Name: count, dtype: int64"
      ]
     },
     "execution_count": 7,
     "metadata": {},
     "output_type": "execute_result"
    }
   ],
   "source": [
    "density_reports['SupplierName'].value_counts()"
   ]
  },
  {
   "cell_type": "code",
   "execution_count": 8,
   "id": "707f96c4",
   "metadata": {},
   "outputs": [
    {
     "name": "stdout",
     "output_type": "stream",
     "text": [
      "['SupplierA' 'SupplierC' 'SupplierD' 'SupplierB' 'supplierA' 'SupplierF'\n",
      " 'SupplierE' 'supplierh' 'SupplierH' 'SuppB' 'SupplierG' 'SupllierC'\n",
      " 'SPLF' 'SuplA']\n",
      "['A' 'C' 'D' 'B' 'F' 'E' 'H' 'G']\n"
     ]
    }
   ],
   "source": [
    "unique_supplier = density_reports['SupplierName'].unique()\n",
    "print(unique_supplier)\n",
    "\n",
    "# Define the mappings\n",
    "supplier_mappings = {\n",
    "    'SupplierA': 'A',\n",
    "    'supplierA': 'A',\n",
    "    'SuplA': 'A',\n",
    "    'SupplierB': 'B',\n",
    "    'SuppB': 'B',\n",
    "    'SupplierC': 'C',\n",
    "    'SupllierC': 'C',\n",
    "    'SupplierD': 'D',\n",
    "    'SupplierE': 'E',\n",
    "    'SupplierF': 'F',\n",
    "    'SPLF': 'F',\n",
    "    'SupplierG': 'G',\n",
    "    'supplierh': 'H',\n",
    "    'SupplierH': 'H'\n",
    "}\n",
    "# Apply the mapping to standardize SupplierName\n",
    "density_reports['SupplierName'] = density_reports['SupplierName'].map(supplier_mappings).fillna(density_reports['SupplierName'])\n",
    "\n",
    "unique_supplier = density_reports['SupplierName'].unique()\n",
    "print(unique_supplier)"
   ]
  },
  {
   "cell_type": "code",
   "execution_count": 9,
   "id": "1c9fb95d",
   "metadata": {},
   "outputs": [
    {
     "data": {
      "text/plain": [
       "SupplierName\n",
       "A    141957\n",
       "B    112346\n",
       "C     76204\n",
       "D     53416\n",
       "E     40662\n",
       "F     34487\n",
       "G     25510\n",
       "H     15418\n",
       "Name: count, dtype: int64"
      ]
     },
     "execution_count": 9,
     "metadata": {},
     "output_type": "execute_result"
    }
   ],
   "source": [
    "density_reports['SupplierName'].value_counts()"
   ]
  },
  {
   "cell_type": "code",
   "execution_count": 10,
   "id": "5121725a",
   "metadata": {},
   "outputs": [
    {
     "data": {
      "text/plain": [
       "ProposedFoldingMethod\n",
       "Method2     218201\n",
       "Method1     157652\n",
       "Method3     114363\n",
       "Methd1        2450\n",
       "FoldX         2426\n",
       "Method_2      2394\n",
       "Name: count, dtype: int64"
      ]
     },
     "execution_count": 10,
     "metadata": {},
     "output_type": "execute_result"
    }
   ],
   "source": [
    "density_reports['ProposedFoldingMethod'].value_counts()"
   ]
  },
  {
   "cell_type": "code",
   "execution_count": 11,
   "id": "d795d468",
   "metadata": {},
   "outputs": [
    {
     "name": "stdout",
     "output_type": "stream",
     "text": [
      "['Method2' 'Method1' 'Method3' 'Method_2' nan 'Methd1' 'FoldX']\n",
      "['Method2' 'Method1' 'Method3' 'MethodX']\n"
     ]
    }
   ],
   "source": [
    "unique_fold_method = density_reports['ProposedFoldingMethod'].unique()\n",
    "print(unique_fold_method)\n",
    "\n",
    "# Define the mappings\n",
    "fold_method_mappings = {\n",
    "    'Method1': 'Method1',\n",
    "    'Methd1': 'Method1',\n",
    "    'Method2': 'Method2',\n",
    "    'Method_2': 'Method2',\n",
    "    'Method3': 'Method3',\n",
    "    'FoldX': 'MethodX'\n",
    "}\n",
    "# Apply the mapping to standardize SupplierName\n",
    "density_reports['ProposedFoldingMethod'] = density_reports['ProposedFoldingMethod'].map(fold_method_mappings).fillna(density_reports['ProposedFoldingMethod'])\n",
    "\n",
    "# Drop rows with NaN values in 'ProposedFoldingMethod'\n",
    "density_reports = density_reports.dropna(subset=['ProposedFoldingMethod'])\n",
    "\n",
    "unique_fold_method = density_reports['ProposedFoldingMethod'].unique()\n",
    "print(unique_fold_method)"
   ]
  },
  {
   "cell_type": "code",
   "execution_count": 12,
   "id": "9e3c9465",
   "metadata": {},
   "outputs": [
    {
     "data": {
      "text/plain": [
       "ProposedFoldingMethod\n",
       "Method2    220595\n",
       "Method1    160102\n",
       "Method3    114363\n",
       "MethodX      2426\n",
       "Name: count, dtype: int64"
      ]
     },
     "execution_count": 12,
     "metadata": {},
     "output_type": "execute_result"
    }
   ],
   "source": [
    "density_reports['ProposedFoldingMethod'].value_counts()"
   ]
  },
  {
   "cell_type": "code",
   "execution_count": 13,
   "id": "69e3a8df",
   "metadata": {},
   "outputs": [
    {
     "data": {
      "text/plain": [
       "ProposedLayout\n",
       "LayoutB    179446\n",
       "LayoutC    138517\n",
       "LayoutA     83629\n",
       "LayoutD     64326\n",
       "LayoutE     21318\n",
       "LayC         2651\n",
       "Box9         2564\n",
       "LayoutX      2537\n",
       "layouta      2498\n",
       "Name: count, dtype: int64"
      ]
     },
     "execution_count": 13,
     "metadata": {},
     "output_type": "execute_result"
    }
   ],
   "source": [
    "density_reports['ProposedLayout'].value_counts()"
   ]
  },
  {
   "cell_type": "code",
   "execution_count": 14,
   "id": "e3bc62a8",
   "metadata": {},
   "outputs": [
    {
     "name": "stdout",
     "output_type": "stream",
     "text": [
      "['LayoutC' 'LayoutB' 'LayoutA' 'LayoutD' 'LayoutE' 'LayoutX' 'Box9'\n",
      " 'layouta' 'LayC']\n",
      "['LayoutC' 'LayoutB' 'LayoutA' 'LayoutD' 'LayoutE' 'LayoutX']\n"
     ]
    }
   ],
   "source": [
    "unique_layout = density_reports['ProposedLayout'].unique()\n",
    "print(unique_layout)\n",
    "\n",
    "# Define the mappings\n",
    "layout_mappings = {\n",
    "    'LayoutA': 'LayoutA',\n",
    "    'layouta': 'LayoutA',\n",
    "    'LayoutB': 'LayoutB',\n",
    "    'LayoutC': 'LayoutC',\n",
    "    'LayC': 'LayoutC',\n",
    "    'LayoutD': 'LayoutD',\n",
    "    'LayoutE': 'LayoutE',\n",
    "    'LayoutX': 'LayoutX',\n",
    "    'Box9': 'LayoutX',\n",
    "}\n",
    "# Apply the mapping to standardize SupplierName\n",
    "density_reports['ProposedLayout'] = density_reports['ProposedLayout'].map(layout_mappings).fillna(density_reports['ProposedLayout'])\n",
    "\n",
    "# Drop rows with NaN values in 'ProposedLayout'\n",
    "density_reports = density_reports.dropna(subset=['ProposedLayout'])\n",
    "\n",
    "unique_layout = density_reports['ProposedLayout'].unique()\n",
    "print(unique_layout)"
   ]
  },
  {
   "cell_type": "code",
   "execution_count": 15,
   "id": "d5e27666",
   "metadata": {},
   "outputs": [
    {
     "data": {
      "text/plain": [
       "ProposedLayout\n",
       "LayoutB    179446\n",
       "LayoutC    141168\n",
       "LayoutA     86127\n",
       "LayoutD     64326\n",
       "LayoutE     21318\n",
       "LayoutX      5101\n",
       "Name: count, dtype: int64"
      ]
     },
     "execution_count": 15,
     "metadata": {},
     "output_type": "execute_result"
    }
   ],
   "source": [
    "density_reports['ProposedLayout'].value_counts()"
   ]
  },
  {
   "cell_type": "code",
   "execution_count": 16,
   "id": "449cb2f1",
   "metadata": {},
   "outputs": [
    {
     "name": "stdout",
     "output_type": "stream",
     "text": [
      "['Pants' 'T-Shirt' 'Shirt' 'Coat' 'Dress' 'Blouse' 'Suit' 'Hoodie' 'Skirt'\n",
      " 'Jacket' 'Shorts' 'Sweater']\n"
     ]
    }
   ],
   "source": [
    "unique_garment_type = density_reports['GarmentType'].unique()\n",
    "print(unique_garment_type)"
   ]
  },
  {
   "cell_type": "code",
   "execution_count": 17,
   "id": "e4839eba",
   "metadata": {},
   "outputs": [
    {
     "name": "stdout",
     "output_type": "stream",
     "text": [
      "['Polyester' 'Denim' 'Cotton' 'Linen' 'Wool' 'Silk']\n"
     ]
    }
   ],
   "source": [
    "unique_material = density_reports['Material'].unique()\n",
    "print(unique_material)"
   ]
  },
  {
   "cell_type": "markdown",
   "id": "1b1e4492",
   "metadata": {},
   "source": [
    "### Join Density Reports and Product Attributes Data"
   ]
  },
  {
   "cell_type": "code",
   "execution_count": 18,
   "id": "8e5999ba",
   "metadata": {},
   "outputs": [],
   "source": [
    "report_product_attributes = pd.merge(\n",
    "    density_reports[[\"ProductReference\", \"SupplierName\", \"GarmentType\", \"Material\", \n",
    "                     \"Weight\", \"ProposedUnitsPerCarton\", \"ProposedFoldingMethod\", \n",
    "                     \"ProposedLayout\", \"PackagingQuality\"\n",
    "                     ]], \n",
    "    product_attributes[['ProductReference', 'Size', 'Collection']], \n",
    "    on=\"ProductReference\", \n",
    "    how='inner'\n",
    "    )"
   ]
  },
  {
   "cell_type": "code",
   "execution_count": 19,
   "id": "d30e4d1b",
   "metadata": {},
   "outputs": [
    {
     "data": {
      "text/html": [
       "<div>\n",
       "<style scoped>\n",
       "    .dataframe tbody tr th:only-of-type {\n",
       "        vertical-align: middle;\n",
       "    }\n",
       "\n",
       "    .dataframe tbody tr th {\n",
       "        vertical-align: top;\n",
       "    }\n",
       "\n",
       "    .dataframe thead th {\n",
       "        text-align: right;\n",
       "    }\n",
       "</style>\n",
       "<table border=\"1\" class=\"dataframe\">\n",
       "  <thead>\n",
       "    <tr style=\"text-align: right;\">\n",
       "      <th></th>\n",
       "      <th>ProductReference</th>\n",
       "      <th>SupplierName</th>\n",
       "      <th>GarmentType</th>\n",
       "      <th>Material</th>\n",
       "      <th>Weight</th>\n",
       "      <th>ProposedUnitsPerCarton</th>\n",
       "      <th>ProposedFoldingMethod</th>\n",
       "      <th>ProposedLayout</th>\n",
       "      <th>PackagingQuality</th>\n",
       "      <th>Size</th>\n",
       "      <th>Collection</th>\n",
       "    </tr>\n",
       "  </thead>\n",
       "  <tbody>\n",
       "    <tr>\n",
       "      <th>0</th>\n",
       "      <td>PRD07271</td>\n",
       "      <td>A</td>\n",
       "      <td>Pants</td>\n",
       "      <td>Polyester</td>\n",
       "      <td>0.35</td>\n",
       "      <td>29.0</td>\n",
       "      <td>Method2</td>\n",
       "      <td>LayoutC</td>\n",
       "      <td>GOOD</td>\n",
       "      <td>S</td>\n",
       "      <td>Winter</td>\n",
       "    </tr>\n",
       "    <tr>\n",
       "      <th>1</th>\n",
       "      <td>PRD00861</td>\n",
       "      <td>C</td>\n",
       "      <td>T-Shirt</td>\n",
       "      <td>Denim</td>\n",
       "      <td>0.21</td>\n",
       "      <td>20.0</td>\n",
       "      <td>Method2</td>\n",
       "      <td>LayoutB</td>\n",
       "      <td>GOOD</td>\n",
       "      <td>M</td>\n",
       "      <td>Winter</td>\n",
       "    </tr>\n",
       "    <tr>\n",
       "      <th>2</th>\n",
       "      <td>PRD05391</td>\n",
       "      <td>A</td>\n",
       "      <td>Shirt</td>\n",
       "      <td>Cotton</td>\n",
       "      <td>0.20</td>\n",
       "      <td>31.0</td>\n",
       "      <td>Method1</td>\n",
       "      <td>LayoutA</td>\n",
       "      <td>GOOD</td>\n",
       "      <td>S</td>\n",
       "      <td>Winter</td>\n",
       "    </tr>\n",
       "    <tr>\n",
       "      <th>3</th>\n",
       "      <td>PRD05192</td>\n",
       "      <td>A</td>\n",
       "      <td>Coat</td>\n",
       "      <td>Cotton</td>\n",
       "      <td>1.30</td>\n",
       "      <td>5.0</td>\n",
       "      <td>Method1</td>\n",
       "      <td>LayoutD</td>\n",
       "      <td>GOOD</td>\n",
       "      <td>XL</td>\n",
       "      <td>Winter</td>\n",
       "    </tr>\n",
       "    <tr>\n",
       "      <th>4</th>\n",
       "      <td>PRD05735</td>\n",
       "      <td>A</td>\n",
       "      <td>Coat</td>\n",
       "      <td>Polyester</td>\n",
       "      <td>1.11</td>\n",
       "      <td>9.0</td>\n",
       "      <td>Method2</td>\n",
       "      <td>LayoutD</td>\n",
       "      <td>GOOD</td>\n",
       "      <td>M</td>\n",
       "      <td>Autumn</td>\n",
       "    </tr>\n",
       "  </tbody>\n",
       "</table>\n",
       "</div>"
      ],
      "text/plain": [
       "  ProductReference SupplierName GarmentType   Material  Weight  \\\n",
       "0         PRD07271            A       Pants  Polyester    0.35   \n",
       "1         PRD00861            C     T-Shirt      Denim    0.21   \n",
       "2         PRD05391            A       Shirt     Cotton    0.20   \n",
       "3         PRD05192            A        Coat     Cotton    1.30   \n",
       "4         PRD05735            A        Coat  Polyester    1.11   \n",
       "\n",
       "   ProposedUnitsPerCarton ProposedFoldingMethod ProposedLayout  \\\n",
       "0                    29.0               Method2        LayoutC   \n",
       "1                    20.0               Method2        LayoutB   \n",
       "2                    31.0               Method1        LayoutA   \n",
       "3                     5.0               Method1        LayoutD   \n",
       "4                     9.0               Method2        LayoutD   \n",
       "\n",
       "  PackagingQuality Size Collection  \n",
       "0             GOOD    S     Winter  \n",
       "1             GOOD    M     Winter  \n",
       "2             GOOD    S     Winter  \n",
       "3             GOOD   XL     Winter  \n",
       "4             GOOD    M     Autumn  "
      ]
     },
     "execution_count": 19,
     "metadata": {},
     "output_type": "execute_result"
    }
   ],
   "source": [
    "report_product_attributes.head()"
   ]
  },
  {
   "cell_type": "code",
   "execution_count": 20,
   "id": "ca89e1cd",
   "metadata": {},
   "outputs": [
    {
     "data": {
      "text/plain": [
       "ProductReference           object\n",
       "SupplierName               object\n",
       "GarmentType                object\n",
       "Material                   object\n",
       "Weight                    float64\n",
       "ProposedUnitsPerCarton    float64\n",
       "ProposedFoldingMethod      object\n",
       "ProposedLayout             object\n",
       "PackagingQuality           object\n",
       "Size                       object\n",
       "Collection                 object\n",
       "dtype: object"
      ]
     },
     "execution_count": 20,
     "metadata": {},
     "output_type": "execute_result"
    }
   ],
   "source": [
    "report_product_attributes.dtypes"
   ]
  },
  {
   "cell_type": "code",
   "execution_count": 21,
   "id": "1e58863a",
   "metadata": {},
   "outputs": [
    {
     "name": "stdout",
     "output_type": "stream",
     "text": [
      "['Winter' 'Autumn' 'Summer' 'Spring']\n"
     ]
    }
   ],
   "source": [
    "unique_collection = report_product_attributes['Collection'].unique()\n",
    "print(unique_collection)"
   ]
  },
  {
   "cell_type": "code",
   "execution_count": 22,
   "id": "456460af",
   "metadata": {},
   "outputs": [
    {
     "name": "stdout",
     "output_type": "stream",
     "text": [
      "['S' 'M' 'XL' 'L' 'XS']\n"
     ]
    }
   ],
   "source": [
    "unique_size = report_product_attributes['Size'].unique()\n",
    "print(unique_size)"
   ]
  },
  {
   "cell_type": "markdown",
   "id": "ed661773",
   "metadata": {},
   "source": [
    "### Association Analysis"
   ]
  },
  {
   "cell_type": "code",
   "execution_count": 23,
   "id": "c3c5c1cb",
   "metadata": {},
   "outputs": [],
   "source": [
    "df = report_product_attributes.copy()"
   ]
  },
  {
   "cell_type": "code",
   "execution_count": 24,
   "id": "aa1d72d4",
   "metadata": {},
   "outputs": [],
   "source": [
    "def cramers_v(x, y):\n",
    "    confusion_matrix = pd.crosstab(x, y)\n",
    "    chi2, p, dof, expected = chi2_contingency(confusion_matrix)\n",
    "    n = confusion_matrix.sum().sum()\n",
    "    min_dim = min(confusion_matrix.shape) - 1\n",
    "    return np.sqrt(chi2 / (n * min_dim))\n"
   ]
  },
  {
   "cell_type": "code",
   "execution_count": 25,
   "id": "24d3bdd1",
   "metadata": {},
   "outputs": [
    {
     "data": {
      "text/html": [
       "<div>\n",
       "<style scoped>\n",
       "    .dataframe tbody tr th:only-of-type {\n",
       "        vertical-align: middle;\n",
       "    }\n",
       "\n",
       "    .dataframe tbody tr th {\n",
       "        vertical-align: top;\n",
       "    }\n",
       "\n",
       "    .dataframe thead th {\n",
       "        text-align: right;\n",
       "    }\n",
       "</style>\n",
       "<table border=\"1\" class=\"dataframe\">\n",
       "  <thead>\n",
       "    <tr style=\"text-align: right;\">\n",
       "      <th></th>\n",
       "      <th>Var1</th>\n",
       "      <th>Var2</th>\n",
       "      <th>CramersV</th>\n",
       "    </tr>\n",
       "  </thead>\n",
       "  <tbody>\n",
       "    <tr>\n",
       "      <th>11</th>\n",
       "      <td>Material</td>\n",
       "      <td>ProposedFoldingMethod</td>\n",
       "      <td>0.564221</td>\n",
       "    </tr>\n",
       "    <tr>\n",
       "      <th>8</th>\n",
       "      <td>GarmentType</td>\n",
       "      <td>ProposedLayout</td>\n",
       "      <td>0.461266</td>\n",
       "    </tr>\n",
       "    <tr>\n",
       "      <th>12</th>\n",
       "      <td>Material</td>\n",
       "      <td>ProposedLayout</td>\n",
       "      <td>0.085167</td>\n",
       "    </tr>\n",
       "    <tr>\n",
       "      <th>9</th>\n",
       "      <td>GarmentType</td>\n",
       "      <td>Size</td>\n",
       "      <td>0.028900</td>\n",
       "    </tr>\n",
       "    <tr>\n",
       "      <th>14</th>\n",
       "      <td>Material</td>\n",
       "      <td>Collection</td>\n",
       "      <td>0.028399</td>\n",
       "    </tr>\n",
       "    <tr>\n",
       "      <th>6</th>\n",
       "      <td>GarmentType</td>\n",
       "      <td>Material</td>\n",
       "      <td>0.028119</td>\n",
       "    </tr>\n",
       "    <tr>\n",
       "      <th>10</th>\n",
       "      <td>GarmentType</td>\n",
       "      <td>Collection</td>\n",
       "      <td>0.027595</td>\n",
       "    </tr>\n",
       "    <tr>\n",
       "      <th>15</th>\n",
       "      <td>ProposedFoldingMethod</td>\n",
       "      <td>ProposedLayout</td>\n",
       "      <td>0.024207</td>\n",
       "    </tr>\n",
       "    <tr>\n",
       "      <th>13</th>\n",
       "      <td>Material</td>\n",
       "      <td>Size</td>\n",
       "      <td>0.022407</td>\n",
       "    </tr>\n",
       "    <tr>\n",
       "      <th>20</th>\n",
       "      <td>Size</td>\n",
       "      <td>Collection</td>\n",
       "      <td>0.021282</td>\n",
       "    </tr>\n",
       "    <tr>\n",
       "      <th>7</th>\n",
       "      <td>GarmentType</td>\n",
       "      <td>ProposedFoldingMethod</td>\n",
       "      <td>0.019255</td>\n",
       "    </tr>\n",
       "    <tr>\n",
       "      <th>16</th>\n",
       "      <td>ProposedFoldingMethod</td>\n",
       "      <td>Size</td>\n",
       "      <td>0.013864</td>\n",
       "    </tr>\n",
       "    <tr>\n",
       "      <th>18</th>\n",
       "      <td>ProposedLayout</td>\n",
       "      <td>Size</td>\n",
       "      <td>0.013146</td>\n",
       "    </tr>\n",
       "    <tr>\n",
       "      <th>17</th>\n",
       "      <td>ProposedFoldingMethod</td>\n",
       "      <td>Collection</td>\n",
       "      <td>0.011557</td>\n",
       "    </tr>\n",
       "    <tr>\n",
       "      <th>19</th>\n",
       "      <td>ProposedLayout</td>\n",
       "      <td>Collection</td>\n",
       "      <td>0.010819</td>\n",
       "    </tr>\n",
       "    <tr>\n",
       "      <th>0</th>\n",
       "      <td>SupplierName</td>\n",
       "      <td>GarmentType</td>\n",
       "      <td>0.004554</td>\n",
       "    </tr>\n",
       "    <tr>\n",
       "      <th>3</th>\n",
       "      <td>SupplierName</td>\n",
       "      <td>ProposedLayout</td>\n",
       "      <td>0.003677</td>\n",
       "    </tr>\n",
       "    <tr>\n",
       "      <th>4</th>\n",
       "      <td>SupplierName</td>\n",
       "      <td>Size</td>\n",
       "      <td>0.003566</td>\n",
       "    </tr>\n",
       "    <tr>\n",
       "      <th>2</th>\n",
       "      <td>SupplierName</td>\n",
       "      <td>ProposedFoldingMethod</td>\n",
       "      <td>0.003305</td>\n",
       "    </tr>\n",
       "    <tr>\n",
       "      <th>1</th>\n",
       "      <td>SupplierName</td>\n",
       "      <td>Material</td>\n",
       "      <td>0.003245</td>\n",
       "    </tr>\n",
       "    <tr>\n",
       "      <th>5</th>\n",
       "      <td>SupplierName</td>\n",
       "      <td>Collection</td>\n",
       "      <td>0.003122</td>\n",
       "    </tr>\n",
       "  </tbody>\n",
       "</table>\n",
       "</div>"
      ],
      "text/plain": [
       "                     Var1                   Var2  CramersV\n",
       "11               Material  ProposedFoldingMethod  0.564221\n",
       "8             GarmentType         ProposedLayout  0.461266\n",
       "12               Material         ProposedLayout  0.085167\n",
       "9             GarmentType                   Size  0.028900\n",
       "14               Material             Collection  0.028399\n",
       "6             GarmentType               Material  0.028119\n",
       "10            GarmentType             Collection  0.027595\n",
       "15  ProposedFoldingMethod         ProposedLayout  0.024207\n",
       "13               Material                   Size  0.022407\n",
       "20                   Size             Collection  0.021282\n",
       "7             GarmentType  ProposedFoldingMethod  0.019255\n",
       "16  ProposedFoldingMethod                   Size  0.013864\n",
       "18         ProposedLayout                   Size  0.013146\n",
       "17  ProposedFoldingMethod             Collection  0.011557\n",
       "19         ProposedLayout             Collection  0.010819\n",
       "0            SupplierName            GarmentType  0.004554\n",
       "3            SupplierName         ProposedLayout  0.003677\n",
       "4            SupplierName                   Size  0.003566\n",
       "2            SupplierName  ProposedFoldingMethod  0.003305\n",
       "1            SupplierName               Material  0.003245\n",
       "5            SupplierName             Collection  0.003122"
      ]
     },
     "execution_count": 25,
     "metadata": {},
     "output_type": "execute_result"
    }
   ],
   "source": [
    "categorical_columns = ['SupplierName', 'GarmentType', \n",
    "                       'Material', 'ProposedFoldingMethod', \n",
    "                       'ProposedLayout', 'Size', 'Collection']\n",
    "results = []\n",
    "\n",
    "for i, col1 in enumerate(categorical_columns):\n",
    "    for col2 in categorical_columns[i+1:]:\n",
    "        v = cramers_v(df[col1], df[col2])\n",
    "        results.append({'Var1': col1, 'Var2': col2, \"CramersV\": v})\n",
    "\n",
    "cramers_v_df = pd.DataFrame(results).sort_values(by='CramersV', ascending=False)\n",
    "cramers_v_df"
   ]
  },
  {
   "cell_type": "markdown",
   "id": "a63d61df",
   "metadata": {},
   "source": [
    "### Mutual Information Analysis"
   ]
  },
  {
   "cell_type": "code",
   "execution_count": 26,
   "id": "75abbf19",
   "metadata": {},
   "outputs": [],
   "source": [
    "df = report_product_attributes.copy()\n",
    "\n",
    "# Separate features and target, remove unnecessary columns\n",
    "X = df.drop(columns=['PackagingQuality', 'ProductReference'])\n",
    "y = df['PackagingQuality']"
   ]
  },
  {
   "cell_type": "code",
   "execution_count": 27,
   "id": "afb609cb",
   "metadata": {},
   "outputs": [
    {
     "name": "stdout",
     "output_type": "stream",
     "text": [
      "                  Feature  MutualInformation\n",
      "0            SupplierName           0.032370\n",
      "2                Material           0.004636\n",
      "5   ProposedFoldingMethod           0.003300\n",
      "3                  Weight           0.003268\n",
      "4  ProposedUnitsPerCarton           0.002094\n",
      "1             GarmentType           0.001059\n",
      "6          ProposedLayout           0.001041\n",
      "7                    Size           0.000010\n",
      "8              Collection           0.000004\n"
     ]
    }
   ],
   "source": [
    "# Label encode all categorical variables (both features and target)\n",
    "le_y = LabelEncoder()\n",
    "y_encoded = le_y.fit_transform(y)\n",
    "\n",
    "X_encoded = X.copy()\n",
    "discrete_features = []\n",
    "\n",
    "for col in X.columns:\n",
    "    if X[col].dtype == 'object':\n",
    "        le = LabelEncoder()\n",
    "        X_encoded[col] = le.fit_transform(X[col])\n",
    "        discrete_features.append(True)\n",
    "    else:\n",
    "        discrete_features.append(False)  # float columns\n",
    "\n",
    "# Compute mutual information\n",
    "mi_scores = mutual_info_classif(X_encoded, y_encoded, discrete_features=discrete_features)\n",
    "\n",
    "# Present results\n",
    "mi_df = pd.DataFrame({\n",
    "    'Feature': X.columns,\n",
    "    'MutualInformation': mi_scores\n",
    "}).sort_values(by='MutualInformation', ascending=False)\n",
    "\n",
    "print(mi_df)"
   ]
  }
 ],
 "metadata": {
  "kernelspec": {
   "display_name": "Python 3",
   "language": "python",
   "name": "python3"
  },
  "language_info": {
   "codemirror_mode": {
    "name": "ipython",
    "version": 3
   },
   "file_extension": ".py",
   "mimetype": "text/x-python",
   "name": "python",
   "nbconvert_exporter": "python",
   "pygments_lexer": "ipython3",
   "version": "3.11.9"
  }
 },
 "nbformat": 4,
 "nbformat_minor": 5
}
