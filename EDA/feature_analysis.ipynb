{
 "cells": [
  {
   "cell_type": "markdown",
   "id": "81fc6fc4",
   "metadata": {},
   "source": [
    "### Imports"
   ]
  },
  {
   "cell_type": "code",
   "execution_count": 1,
   "id": "dccd13d3",
   "metadata": {},
   "outputs": [],
   "source": [
    "import pandas as pd\n",
    "import numpy as np\n",
    "import matplotlib.pyplot as plt\n",
    "import seaborn as sns\n",
    "from scipy.stats import chi2_contingency\n",
    "from sklearn.feature_selection import mutual_info_classif\n",
    "from sklearn.preprocessing import LabelEncoder"
   ]
  },
  {
   "cell_type": "markdown",
   "id": "dcf0700d",
   "metadata": {},
   "source": [
    "### Globals"
   ]
  },
  {
   "cell_type": "code",
   "execution_count": 2,
   "id": "cfa401e5",
   "metadata": {},
   "outputs": [],
   "source": [
    "data_filepath = '../original_data/'\n",
    "density_reports_filepath = data_filepath + 'DensityReports.xlsx'\n",
    "historical_incidents_filepath = data_filepath + 'HistoricalIncidents.xlsx'\n",
    "product_attributes_filepath = data_filepath + 'ProductAttributes.xlsx'\n",
    "supplier_scorecard_filepath = data_filepath + 'SupplierScorecard.xlsx'"
   ]
  },
  {
   "cell_type": "markdown",
   "id": "0d87ec7d",
   "metadata": {},
   "source": [
    "### Load Data"
   ]
  },
  {
   "cell_type": "code",
   "execution_count": 3,
   "id": "68b33625",
   "metadata": {},
   "outputs": [],
   "source": [
    "density_reports = pd.read_excel(density_reports_filepath)\n",
    "product_attributes = pd.read_excel(product_attributes_filepath)\n",
    "supplier_scorecard = pd.read_excel(supplier_scorecard_filepath)\n"
   ]
  },
  {
   "cell_type": "markdown",
   "id": "08e6262b",
   "metadata": {},
   "source": [
    "## Data Preparation"
   ]
  },
  {
   "cell_type": "markdown",
   "id": "fca83f3c",
   "metadata": {},
   "source": [
    "### Basic Transformations"
   ]
  },
  {
   "cell_type": "code",
   "execution_count": 4,
   "id": "b53d99ce",
   "metadata": {},
   "outputs": [
    {
     "name": "stdout",
     "output_type": "stream",
     "text": [
      "['Good' 'Bad' 'GOOD' 'Uncertain' 'bad']\n",
      "['GOOD' 'BAD' 'UNCERTAIN']\n"
     ]
    }
   ],
   "source": [
    "unique_packaging_quality = density_reports['PackagingQuality'].unique()\n",
    "print(unique_packaging_quality)\n",
    "\n",
    "density_reports['PackagingQuality'] = density_reports['PackagingQuality'].str.upper()\n",
    "unique_packaging_quality = density_reports['PackagingQuality'].unique()\n",
    "print(unique_packaging_quality)"
   ]
  },
  {
   "cell_type": "code",
   "execution_count": 5,
   "id": "707f96c4",
   "metadata": {},
   "outputs": [
    {
     "name": "stdout",
     "output_type": "stream",
     "text": [
      "['SupplierA' 'SupplierC' 'SupplierD' 'SupplierB' 'supplierA' 'SupplierF'\n",
      " 'SupplierE' 'supplierh' 'SupplierH' 'SuppB' 'SupplierG' 'SupllierC'\n",
      " 'SPLF' 'SuplA']\n",
      "['A' 'C' 'D' 'B' 'F' 'E' 'H' 'G']\n"
     ]
    }
   ],
   "source": [
    "unique_supplier = density_reports['SupplierName'].unique()\n",
    "print(unique_supplier)\n",
    "\n",
    "# Define the mappings\n",
    "supplier_mappings = {\n",
    "    'SupplierA': 'A',\n",
    "    'supplierA': 'A',\n",
    "    'SuplA': 'A',\n",
    "    'SupplierB': 'B',\n",
    "    'SuppB': 'B',\n",
    "    'SupplierC': 'C',\n",
    "    'SupllierC': 'C',\n",
    "    'SupplierD': 'D',\n",
    "    'SupplierE': 'E',\n",
    "    'SupplierF': 'F',\n",
    "    'SPLF': 'F',\n",
    "    'SupplierG': 'G',\n",
    "    'supplierh': 'H',\n",
    "    'SupplierH': 'H'\n",
    "}\n",
    "# Apply the mapping to standardize SupplierName\n",
    "density_reports['SupplierName'] = density_reports['SupplierName'].map(supplier_mappings).fillna(density_reports['SupplierName'])\n",
    "\n",
    "unique_supplier = density_reports['SupplierName'].unique()\n",
    "print(unique_supplier)"
   ]
  },
  {
   "cell_type": "markdown",
   "id": "1b1e4492",
   "metadata": {},
   "source": [
    "### Join Density Reports and Product Attributes Data"
   ]
  },
  {
   "cell_type": "code",
   "execution_count": 6,
   "id": "8e5999ba",
   "metadata": {},
   "outputs": [],
   "source": [
    "report_product_attributes = pd.merge(\n",
    "    density_reports[[\"ProductReference\", \"SupplierName\", \"GarmentType\", \"Material\", \n",
    "                     \"Weight\", \"ProposedUnitsPerCarton\", \"ProposedFoldingMethod\", \n",
    "                     \"ProposedLayout\", \"PackagingQuality\"\n",
    "                     ]], \n",
    "    product_attributes[['ProductReference', 'Size', 'Collection']], \n",
    "    on=\"ProductReference\", \n",
    "    how='inner'\n",
    "    )"
   ]
  },
  {
   "cell_type": "code",
   "execution_count": 7,
   "id": "d30e4d1b",
   "metadata": {},
   "outputs": [
    {
     "data": {
      "text/html": [
       "<div>\n",
       "<style scoped>\n",
       "    .dataframe tbody tr th:only-of-type {\n",
       "        vertical-align: middle;\n",
       "    }\n",
       "\n",
       "    .dataframe tbody tr th {\n",
       "        vertical-align: top;\n",
       "    }\n",
       "\n",
       "    .dataframe thead th {\n",
       "        text-align: right;\n",
       "    }\n",
       "</style>\n",
       "<table border=\"1\" class=\"dataframe\">\n",
       "  <thead>\n",
       "    <tr style=\"text-align: right;\">\n",
       "      <th></th>\n",
       "      <th>ProductReference</th>\n",
       "      <th>SupplierName</th>\n",
       "      <th>GarmentType</th>\n",
       "      <th>Material</th>\n",
       "      <th>Weight</th>\n",
       "      <th>ProposedUnitsPerCarton</th>\n",
       "      <th>ProposedFoldingMethod</th>\n",
       "      <th>ProposedLayout</th>\n",
       "      <th>PackagingQuality</th>\n",
       "      <th>Size</th>\n",
       "      <th>Collection</th>\n",
       "    </tr>\n",
       "  </thead>\n",
       "  <tbody>\n",
       "    <tr>\n",
       "      <th>0</th>\n",
       "      <td>PRD07271</td>\n",
       "      <td>A</td>\n",
       "      <td>Pants</td>\n",
       "      <td>Polyester</td>\n",
       "      <td>0.35</td>\n",
       "      <td>29.0</td>\n",
       "      <td>Method2</td>\n",
       "      <td>LayoutC</td>\n",
       "      <td>GOOD</td>\n",
       "      <td>S</td>\n",
       "      <td>Winter</td>\n",
       "    </tr>\n",
       "    <tr>\n",
       "      <th>1</th>\n",
       "      <td>PRD00861</td>\n",
       "      <td>C</td>\n",
       "      <td>T-Shirt</td>\n",
       "      <td>Denim</td>\n",
       "      <td>0.21</td>\n",
       "      <td>20.0</td>\n",
       "      <td>Method2</td>\n",
       "      <td>LayoutB</td>\n",
       "      <td>GOOD</td>\n",
       "      <td>M</td>\n",
       "      <td>Winter</td>\n",
       "    </tr>\n",
       "    <tr>\n",
       "      <th>2</th>\n",
       "      <td>PRD05391</td>\n",
       "      <td>A</td>\n",
       "      <td>Shirt</td>\n",
       "      <td>Cotton</td>\n",
       "      <td>0.20</td>\n",
       "      <td>31.0</td>\n",
       "      <td>Method1</td>\n",
       "      <td>LayoutA</td>\n",
       "      <td>GOOD</td>\n",
       "      <td>S</td>\n",
       "      <td>Winter</td>\n",
       "    </tr>\n",
       "    <tr>\n",
       "      <th>3</th>\n",
       "      <td>PRD05192</td>\n",
       "      <td>A</td>\n",
       "      <td>Coat</td>\n",
       "      <td>Cotton</td>\n",
       "      <td>1.30</td>\n",
       "      <td>5.0</td>\n",
       "      <td>Method1</td>\n",
       "      <td>LayoutD</td>\n",
       "      <td>GOOD</td>\n",
       "      <td>XL</td>\n",
       "      <td>Winter</td>\n",
       "    </tr>\n",
       "    <tr>\n",
       "      <th>4</th>\n",
       "      <td>PRD05735</td>\n",
       "      <td>A</td>\n",
       "      <td>Coat</td>\n",
       "      <td>Polyester</td>\n",
       "      <td>1.11</td>\n",
       "      <td>9.0</td>\n",
       "      <td>Method2</td>\n",
       "      <td>LayoutD</td>\n",
       "      <td>GOOD</td>\n",
       "      <td>M</td>\n",
       "      <td>Autumn</td>\n",
       "    </tr>\n",
       "  </tbody>\n",
       "</table>\n",
       "</div>"
      ],
      "text/plain": [
       "  ProductReference SupplierName GarmentType   Material  Weight  \\\n",
       "0         PRD07271            A       Pants  Polyester    0.35   \n",
       "1         PRD00861            C     T-Shirt      Denim    0.21   \n",
       "2         PRD05391            A       Shirt     Cotton    0.20   \n",
       "3         PRD05192            A        Coat     Cotton    1.30   \n",
       "4         PRD05735            A        Coat  Polyester    1.11   \n",
       "\n",
       "   ProposedUnitsPerCarton ProposedFoldingMethod ProposedLayout  \\\n",
       "0                    29.0               Method2        LayoutC   \n",
       "1                    20.0               Method2        LayoutB   \n",
       "2                    31.0               Method1        LayoutA   \n",
       "3                     5.0               Method1        LayoutD   \n",
       "4                     9.0               Method2        LayoutD   \n",
       "\n",
       "  PackagingQuality Size Collection  \n",
       "0             GOOD    S     Winter  \n",
       "1             GOOD    M     Winter  \n",
       "2             GOOD    S     Winter  \n",
       "3             GOOD   XL     Winter  \n",
       "4             GOOD    M     Autumn  "
      ]
     },
     "execution_count": 7,
     "metadata": {},
     "output_type": "execute_result"
    }
   ],
   "source": [
    "report_product_attributes.head()"
   ]
  },
  {
   "cell_type": "code",
   "execution_count": 8,
   "id": "ca89e1cd",
   "metadata": {},
   "outputs": [
    {
     "data": {
      "text/plain": [
       "ProductReference           object\n",
       "SupplierName               object\n",
       "GarmentType                object\n",
       "Material                   object\n",
       "Weight                    float64\n",
       "ProposedUnitsPerCarton    float64\n",
       "ProposedFoldingMethod      object\n",
       "ProposedLayout             object\n",
       "PackagingQuality           object\n",
       "Size                       object\n",
       "Collection                 object\n",
       "dtype: object"
      ]
     },
     "execution_count": 8,
     "metadata": {},
     "output_type": "execute_result"
    }
   ],
   "source": [
    "report_product_attributes.dtypes"
   ]
  },
  {
   "cell_type": "markdown",
   "id": "ed05e640",
   "metadata": {},
   "source": [
    "## Association Analysis (Cramer's V) - Product Attributes"
   ]
  },
  {
   "cell_type": "code",
   "execution_count": null,
   "id": "aa1d72d4",
   "metadata": {},
   "outputs": [],
   "source": [
    "def cramers_v(x, y):\n",
    "    confusion_matrix = pd.crosstab(x, y)\n",
    "    chi2, p, dof, expected = chi2_contingency(confusion_matrix)\n",
    "    n = confusion_matrix.sum().sum()\n",
    "    min_dim = min(confusion_matrix.shape) - 1\n",
    "    return np.sqrt(chi2 / (n * min_dim))\n"
   ]
  },
  {
   "cell_type": "code",
   "execution_count": 10,
   "id": "24d3bdd1",
   "metadata": {},
   "outputs": [
    {
     "data": {
      "text/html": [
       "<div>\n",
       "<style scoped>\n",
       "    .dataframe tbody tr th:only-of-type {\n",
       "        vertical-align: middle;\n",
       "    }\n",
       "\n",
       "    .dataframe tbody tr th {\n",
       "        vertical-align: top;\n",
       "    }\n",
       "\n",
       "    .dataframe thead th {\n",
       "        text-align: right;\n",
       "    }\n",
       "</style>\n",
       "<table border=\"1\" class=\"dataframe\">\n",
       "  <thead>\n",
       "    <tr style=\"text-align: right;\">\n",
       "      <th></th>\n",
       "      <th>Var1</th>\n",
       "      <th>Var2</th>\n",
       "      <th>CramersV</th>\n",
       "    </tr>\n",
       "  </thead>\n",
       "  <tbody>\n",
       "    <tr>\n",
       "      <th>13</th>\n",
       "      <td>Material</td>\n",
       "      <td>ProposedFoldingMethod</td>\n",
       "      <td>0.437950</td>\n",
       "    </tr>\n",
       "    <tr>\n",
       "      <th>9</th>\n",
       "      <td>GarmentType</td>\n",
       "      <td>ProposedLayout</td>\n",
       "      <td>0.366254</td>\n",
       "    </tr>\n",
       "    <tr>\n",
       "      <th>4</th>\n",
       "      <td>SupplierName</td>\n",
       "      <td>PackagingQuality</td>\n",
       "      <td>0.179167</td>\n",
       "    </tr>\n",
       "    <tr>\n",
       "      <th>14</th>\n",
       "      <td>Material</td>\n",
       "      <td>ProposedLayout</td>\n",
       "      <td>0.085525</td>\n",
       "    </tr>\n",
       "    <tr>\n",
       "      <th>15</th>\n",
       "      <td>Material</td>\n",
       "      <td>PackagingQuality</td>\n",
       "      <td>0.070383</td>\n",
       "    </tr>\n",
       "    <tr>\n",
       "      <th>19</th>\n",
       "      <td>ProposedFoldingMethod</td>\n",
       "      <td>PackagingQuality</td>\n",
       "      <td>0.059047</td>\n",
       "    </tr>\n",
       "    <tr>\n",
       "      <th>10</th>\n",
       "      <td>GarmentType</td>\n",
       "      <td>PackagingQuality</td>\n",
       "      <td>0.033600</td>\n",
       "    </tr>\n",
       "    <tr>\n",
       "      <th>22</th>\n",
       "      <td>ProposedLayout</td>\n",
       "      <td>PackagingQuality</td>\n",
       "      <td>0.033488</td>\n",
       "    </tr>\n",
       "    <tr>\n",
       "      <th>11</th>\n",
       "      <td>GarmentType</td>\n",
       "      <td>Size</td>\n",
       "      <td>0.028838</td>\n",
       "    </tr>\n",
       "    <tr>\n",
       "      <th>17</th>\n",
       "      <td>Material</td>\n",
       "      <td>Collection</td>\n",
       "      <td>0.028337</td>\n",
       "    </tr>\n",
       "    <tr>\n",
       "      <th>7</th>\n",
       "      <td>GarmentType</td>\n",
       "      <td>Material</td>\n",
       "      <td>0.028132</td>\n",
       "    </tr>\n",
       "    <tr>\n",
       "      <th>12</th>\n",
       "      <td>GarmentType</td>\n",
       "      <td>Collection</td>\n",
       "      <td>0.027635</td>\n",
       "    </tr>\n",
       "    <tr>\n",
       "      <th>16</th>\n",
       "      <td>Material</td>\n",
       "      <td>Size</td>\n",
       "      <td>0.022386</td>\n",
       "    </tr>\n",
       "    <tr>\n",
       "      <th>27</th>\n",
       "      <td>Size</td>\n",
       "      <td>Collection</td>\n",
       "      <td>0.021264</td>\n",
       "    </tr>\n",
       "    <tr>\n",
       "      <th>18</th>\n",
       "      <td>ProposedFoldingMethod</td>\n",
       "      <td>ProposedLayout</td>\n",
       "      <td>0.019285</td>\n",
       "    </tr>\n",
       "    <tr>\n",
       "      <th>8</th>\n",
       "      <td>GarmentType</td>\n",
       "      <td>ProposedFoldingMethod</td>\n",
       "      <td>0.015398</td>\n",
       "    </tr>\n",
       "    <tr>\n",
       "      <th>23</th>\n",
       "      <td>ProposedLayout</td>\n",
       "      <td>Size</td>\n",
       "      <td>0.013342</td>\n",
       "    </tr>\n",
       "    <tr>\n",
       "      <th>20</th>\n",
       "      <td>ProposedFoldingMethod</td>\n",
       "      <td>Size</td>\n",
       "      <td>0.012482</td>\n",
       "    </tr>\n",
       "    <tr>\n",
       "      <th>21</th>\n",
       "      <td>ProposedFoldingMethod</td>\n",
       "      <td>Collection</td>\n",
       "      <td>0.011749</td>\n",
       "    </tr>\n",
       "    <tr>\n",
       "      <th>24</th>\n",
       "      <td>ProposedLayout</td>\n",
       "      <td>Collection</td>\n",
       "      <td>0.011594</td>\n",
       "    </tr>\n",
       "    <tr>\n",
       "      <th>0</th>\n",
       "      <td>SupplierName</td>\n",
       "      <td>GarmentType</td>\n",
       "      <td>0.004609</td>\n",
       "    </tr>\n",
       "    <tr>\n",
       "      <th>3</th>\n",
       "      <td>SupplierName</td>\n",
       "      <td>ProposedLayout</td>\n",
       "      <td>0.003846</td>\n",
       "    </tr>\n",
       "    <tr>\n",
       "      <th>5</th>\n",
       "      <td>SupplierName</td>\n",
       "      <td>Size</td>\n",
       "      <td>0.003532</td>\n",
       "    </tr>\n",
       "    <tr>\n",
       "      <th>2</th>\n",
       "      <td>SupplierName</td>\n",
       "      <td>ProposedFoldingMethod</td>\n",
       "      <td>0.003503</td>\n",
       "    </tr>\n",
       "    <tr>\n",
       "      <th>1</th>\n",
       "      <td>SupplierName</td>\n",
       "      <td>Material</td>\n",
       "      <td>0.003199</td>\n",
       "    </tr>\n",
       "    <tr>\n",
       "      <th>25</th>\n",
       "      <td>PackagingQuality</td>\n",
       "      <td>Size</td>\n",
       "      <td>0.003174</td>\n",
       "    </tr>\n",
       "    <tr>\n",
       "      <th>6</th>\n",
       "      <td>SupplierName</td>\n",
       "      <td>Collection</td>\n",
       "      <td>0.003046</td>\n",
       "    </tr>\n",
       "    <tr>\n",
       "      <th>26</th>\n",
       "      <td>PackagingQuality</td>\n",
       "      <td>Collection</td>\n",
       "      <td>0.002064</td>\n",
       "    </tr>\n",
       "  </tbody>\n",
       "</table>\n",
       "</div>"
      ],
      "text/plain": [
       "                     Var1                   Var2  CramersV\n",
       "13               Material  ProposedFoldingMethod  0.437950\n",
       "9             GarmentType         ProposedLayout  0.366254\n",
       "4            SupplierName       PackagingQuality  0.179167\n",
       "14               Material         ProposedLayout  0.085525\n",
       "15               Material       PackagingQuality  0.070383\n",
       "19  ProposedFoldingMethod       PackagingQuality  0.059047\n",
       "10            GarmentType       PackagingQuality  0.033600\n",
       "22         ProposedLayout       PackagingQuality  0.033488\n",
       "11            GarmentType                   Size  0.028838\n",
       "17               Material             Collection  0.028337\n",
       "7             GarmentType               Material  0.028132\n",
       "12            GarmentType             Collection  0.027635\n",
       "16               Material                   Size  0.022386\n",
       "27                   Size             Collection  0.021264\n",
       "18  ProposedFoldingMethod         ProposedLayout  0.019285\n",
       "8             GarmentType  ProposedFoldingMethod  0.015398\n",
       "23         ProposedLayout                   Size  0.013342\n",
       "20  ProposedFoldingMethod                   Size  0.012482\n",
       "21  ProposedFoldingMethod             Collection  0.011749\n",
       "24         ProposedLayout             Collection  0.011594\n",
       "0            SupplierName            GarmentType  0.004609\n",
       "3            SupplierName         ProposedLayout  0.003846\n",
       "5            SupplierName                   Size  0.003532\n",
       "2            SupplierName  ProposedFoldingMethod  0.003503\n",
       "1            SupplierName               Material  0.003199\n",
       "25       PackagingQuality                   Size  0.003174\n",
       "6            SupplierName             Collection  0.003046\n",
       "26       PackagingQuality             Collection  0.002064"
      ]
     },
     "execution_count": 10,
     "metadata": {},
     "output_type": "execute_result"
    }
   ],
   "source": [
    "categorical_columns = ['SupplierName', 'GarmentType', 'Material', 'ProposedFoldingMethod', \n",
    "                       'ProposedLayout', 'PackagingQuality', 'Size', \n",
    "                       'Collection']\n",
    "results = []\n",
    "\n",
    "for i, col1 in enumerate(categorical_columns):\n",
    "    for col2 in categorical_columns[i+1:]:\n",
    "        v = cramers_v(report_product_attributes[col1], report_product_attributes[col2])\n",
    "        results.append({'Var1': col1, 'Var2': col2, \"CramersV\": v})\n",
    "\n",
    "cramers_v_df = pd.DataFrame(results).sort_values(by='CramersV', ascending=False)\n",
    "cramers_v_df"
   ]
  },
  {
   "cell_type": "markdown",
   "id": "41f24b18",
   "metadata": {},
   "source": [
    "## Correlation Analysis - Supplier Metrics"
   ]
  },
  {
   "cell_type": "code",
   "execution_count": 11,
   "id": "a9043b88",
   "metadata": {},
   "outputs": [
    {
     "data": {
      "text/plain": [
       "SupplierName                  0\n",
       "Month                         0\n",
       "PackagesHandled               0\n",
       "BadPackagingRate (%)          0\n",
       "TotalIncidents                0\n",
       "AverageCostPerIncident (€)    0\n",
       "OnTimeDeliveryRate (%)        0\n",
       "AnomaliesDetected             0\n",
       "dtype: int64"
      ]
     },
     "execution_count": 11,
     "metadata": {},
     "output_type": "execute_result"
    }
   ],
   "source": [
    "supplier_scorecard.isnull().sum()"
   ]
  },
  {
   "cell_type": "code",
   "execution_count": 12,
   "id": "f00830d7",
   "metadata": {},
   "outputs": [
    {
     "data": {
      "text/plain": [
       "SupplierName                   object\n",
       "Month                          object\n",
       "PackagesHandled                 int64\n",
       "BadPackagingRate (%)          float64\n",
       "TotalIncidents                  int64\n",
       "AverageCostPerIncident (€)    float64\n",
       "OnTimeDeliveryRate (%)        float64\n",
       "AnomaliesDetected               int64\n",
       "dtype: object"
      ]
     },
     "execution_count": 12,
     "metadata": {},
     "output_type": "execute_result"
    }
   ],
   "source": [
    "supplier_scorecard.dtypes"
   ]
  },
  {
   "cell_type": "code",
   "execution_count": 13,
   "id": "ad22a489",
   "metadata": {},
   "outputs": [],
   "source": [
    "# define correlation matrix for numerical columns\n",
    "numerical_columns = supplier_scorecard.select_dtypes(include=[np.number]).columns.tolist()\n",
    "correlation_matrix = supplier_scorecard[numerical_columns].corr()"
   ]
  },
  {
   "cell_type": "code",
   "execution_count": 14,
   "id": "c0dda82d",
   "metadata": {},
   "outputs": [
    {
     "data": {
      "image/png": "[encoded data removed]",
      "text/plain": [
       "<Figure size 1000x800 with 2 Axes>"
      ]
     },
     "metadata": {},
     "output_type": "display_data"
    }
   ],
   "source": [
    "# plot correlation matrix\n",
    "plt.figure(figsize=(10, 8))\n",
    "sns.heatmap(correlation_matrix, annot=True, cmap='coolwarm', fmt=\".2f\")\n",
    "plt.title('Correlation Matrix for Supplier Scorecard Numerical Columns')\n",
    "plt.show()"
   ]
  },
  {
   "cell_type": "markdown",
   "id": "da92fb0e",
   "metadata": {},
   "source": [
    "## Mutual Information Analysis"
   ]
  },
  {
   "cell_type": "code",
   "execution_count": 15,
   "id": "afb609cb",
   "metadata": {},
   "outputs": [
    {
     "name": "stdout",
     "output_type": "stream",
     "text": [
      "                  Feature  MutualInformation\n",
      "0            SupplierName           0.032411\n",
      "2                Material           0.004629\n",
      "5   ProposedFoldingMethod           0.003317\n",
      "3                  Weight           0.002483\n",
      "4  ProposedUnitsPerCarton           0.001434\n",
      "1             GarmentType           0.001064\n",
      "6          ProposedLayout           0.001050\n",
      "7                    Size           0.000010\n",
      "8              Collection           0.000004\n"
     ]
    }
   ],
   "source": [
    "df = report_product_attributes.copy()\n",
    "\n",
    "# Separate features and target, remove unnecessary columns\n",
    "X = df.drop(columns=['PackagingQuality', 'ProductReference'])\n",
    "y = df['PackagingQuality']\n",
    "\n",
    "# Label encode all categorical variables (both features and target)\n",
    "le_y = LabelEncoder()\n",
    "y_encoded = le_y.fit_transform(y)\n",
    "\n",
    "X_encoded = X.copy()\n",
    "discrete_features = []\n",
    "\n",
    "for col in X.columns:\n",
    "    if X[col].dtype == 'object':\n",
    "        le = LabelEncoder()\n",
    "        X_encoded[col] = le.fit_transform(X[col])\n",
    "        discrete_features.append(True)\n",
    "    else:\n",
    "        discrete_features.append(False)  # float columns\n",
    "\n",
    "# Compute mutual information\n",
    "mi_scores = mutual_info_classif(X_encoded, y_encoded, discrete_features=discrete_features)\n",
    "\n",
    "# Present results\n",
    "mi_df = pd.DataFrame({\n",
    "    'Feature': X.columns,\n",
    "    'MutualInformation': mi_scores\n",
    "}).sort_values(by='MutualInformation', ascending=False)\n",
    "\n",
    "print(mi_df)"
   ]
  },
  {
   "cell_type": "code",
   "execution_count": null,
   "id": "f8bd40d9",
   "metadata": {},
   "outputs": [],
   "source": []
  }
 ],
 "metadata": {
  "kernelspec": {
   "display_name": "Python 3",
   "language": "python",
   "name": "python3"
  },
  "language_info": {
   "codemirror_mode": {
    "name": "ipython",
    "version": 3
   },
   "file_extension": ".py",
   "mimetype": "text/x-python",
   "name": "python",
   "nbconvert_exporter": "python",
   "pygments_lexer": "ipython3",
   "version": "3.11.9"
  }
 },
 "nbformat": 4,
 "nbformat_minor": 5
}
