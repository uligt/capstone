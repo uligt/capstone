{
 "cells": [
  {
   "cell_type": "markdown",
   "metadata": {
    "id": "E_9nryk7DPtX"
   },
   "source": [
    "# Data Integration"
   ]
  },
  {
   "cell_type": "markdown",
   "metadata": {
    "id": "S8CeEnkfD0yL"
   },
   "source": [
    "This code is specically desgined to integrate the data in a unique dataframe and be able to use it in a model"
   ]
  },
  {
   "cell_type": "markdown",
   "metadata": {
    "id": "GJHWKhpBFLSZ"
   },
   "source": [
    "## Libraries import"
   ]
  },
  {
   "cell_type": "code",
   "execution_count": 14,
   "metadata": {
    "executionInfo": {
     "elapsed": 1054,
     "status": "ok",
     "timestamp": 1745185343162,
     "user": {
      "displayName": "Francisco",
      "userId": "11190877053062531761"
     },
     "user_tz": 300
    },
    "id": "Z_JWQ-EZFOd0"
   },
   "outputs": [],
   "source": [
    "import pandas as pd\n",
    "import polars as pl"
   ]
  },
  {
   "cell_type": "markdown",
   "metadata": {
    "id": "l751Y4pzFSGQ"
   },
   "source": [
    "## Global variables"
   ]
  },
  {
   "cell_type": "code",
   "execution_count": 15,
   "metadata": {
    "executionInfo": {
     "elapsed": 4,
     "status": "ok",
     "timestamp": 1745185829148,
     "user": {
      "displayName": "Francisco",
      "userId": "11190877053062531761"
     },
     "user_tz": 300
    },
    "id": "2r_OfAHoFWCq"
   },
   "outputs": [],
   "source": [
    "PATH_DENSITY_REPORT       = 'density_report.csv'\n",
    "PATH_HISTORICAL_INCIDENTS = 'historical_incidents.csv'\n",
    "PATH_PRODUCT_ATTRIBUTES   = 'product_attributes.csv'\n",
    "PATH_SUPPLIER_SCORECARD   = 'supplier_scorecard.csv'\n",
    "\n",
    "EXPORT_TOTAL_DATAFRAME    = 'total_dataframe.csv'"
   ]
  },
  {
   "cell_type": "markdown",
   "metadata": {
    "id": "sngLbxheFs0s"
   },
   "source": [
    "## Execution"
   ]
  },
  {
   "cell_type": "markdown",
   "metadata": {
    "id": "h23cwY4AFwlb"
   },
   "source": [
    "### 1. Read files"
   ]
  },
  {
   "cell_type": "code",
   "execution_count": 17,
   "metadata": {
    "colab": {
     "base_uri": "https://localhost:8080/"
    },
    "executionInfo": {
     "elapsed": 405,
     "status": "ok",
     "timestamp": 1745185517025,
     "user": {
      "displayName": "Francisco",
      "userId": "11190877053062531761"
     },
     "user_tz": 300
    },
    "id": "GN5ztU-UbEb0",
    "outputId": "71b7eef1-941b-4a58-dc71-10efad8dc104"
   },
   "outputs": [
    {
     "name": "stderr",
     "output_type": "stream",
     "text": [
      "/var/folders/fh/z6pvq_495gd075z979mzth4r0000gn/T/ipykernel_7669/1083487986.py:9: ChronoFormatWarning: Detected the pattern `.%f` in the chrono format string. This pattern should not be used to parse values after a decimal point. Use `%.f` instead. See the full specification: https://docs.rs/chrono/latest/chrono/format/strftime\n",
      "  pl.col(\"DateOfReport\").str.strptime(pl.Date, format=\"%Y-%m-%dT%H:%M:%S.%f\")\n",
      "/var/folders/fh/z6pvq_495gd075z979mzth4r0000gn/T/ipykernel_7669/1083487986.py:13: ChronoFormatWarning: Detected the pattern `.%f` in the chrono format string. This pattern should not be used to parse values after a decimal point. Use `%.f` instead. See the full specification: https://docs.rs/chrono/latest/chrono/format/strftime\n",
      "  pl.col(\"DateOfIncident\").str.strptime(pl.Date, format=\"%Y-%m-%dT%H:%M:%S.%f\")\n"
     ]
    }
   ],
   "source": [
    "# Reading csv files\n",
    "df_density_report = pl.read_csv(PATH_DENSITY_REPORT, separator=\";\")\n",
    "df_historical_incidents = pl.read_csv(PATH_HISTORICAL_INCIDENTS, separator=\";\")\n",
    "df_product_attributes = pl.read_csv(PATH_PRODUCT_ATTRIBUTES, separator=\";\")\n",
    "df_supplier_scorecard = pl.read_csv(PATH_SUPPLIER_SCORECARD, separator=\";\")\n",
    "\n",
    "# Adjusting date values\n",
    "df_density_report = df_density_report.with_columns([\n",
    "    pl.col(\"DateOfReport\").str.strptime(pl.Date, format=\"%Y-%m-%dT%H:%M:%S.%f\")\n",
    "])\n",
    "\n",
    "df_historical_incidents = df_historical_incidents.with_columns([\n",
    "    pl.col(\"DateOfIncident\").str.strptime(pl.Date, format=\"%Y-%m-%dT%H:%M:%S.%f\")\n",
    "])\n",
    "\n"
   ]
  },
  {
   "cell_type": "markdown",
   "metadata": {
    "id": "hLovX2SZciBX"
   },
   "source": [
    "### 2. Join files"
   ]
  },
  {
   "cell_type": "code",
   "execution_count": 18,
   "metadata": {
    "executionInfo": {
     "elapsed": 186,
     "status": "ok",
     "timestamp": 1745185529524,
     "user": {
      "displayName": "Francisco",
      "userId": "11190877053062531761"
     },
     "user_tz": 300
    },
    "id": "HIDSvpMtgje2"
   },
   "outputs": [],
   "source": [
    "# Put the same name on the date columns\n",
    "df_density_report       = df_density_report.rename({\"DateOfReport\": \"Date\"})\n",
    "df_historical_incidents = df_historical_incidents.rename({\"DateOfIncident\": \"Date\"})\n",
    "\n",
    "# Drop repeated columns\n",
    "df_product_attributes = df_product_attributes.drop([\"GarmentType\",\"Material\"])\n",
    "\n",
    "# Join the dataframes\n",
    "df_joined = df_density_report.join(\n",
    "    df_historical_incidents,\n",
    "    on=[\"Date\", \"SupplierName\", \"ProductReference\"],\n",
    "    how=\"left\"\n",
    ")\n",
    "\n",
    "df_joined = df_joined.join(\n",
    "    df_product_attributes,\n",
    "    on=[\"ProductReference\"],\n",
    "    how=\"left\"\n",
    ")"
   ]
  },
  {
   "cell_type": "markdown",
   "metadata": {
    "id": "N4f11JDCLNcP"
   },
   "source": [
    "## Export"
   ]
  },
  {
   "cell_type": "code",
   "execution_count": 19,
   "metadata": {
    "executionInfo": {
     "elapsed": 454,
     "status": "ok",
     "timestamp": 1745185832135,
     "user": {
      "displayName": "Francisco",
      "userId": "11190877053062531761"
     },
     "user_tz": 300
    },
    "id": "H4dHj2nWLOgd"
   },
   "outputs": [],
   "source": [
    "df_joined.write_csv(EXPORT_TOTAL_DATAFRAME, separator=\";\")"
   ]
  }
 ],
 "metadata": {
  "colab": {
   "authorship_tag": "ABX9TyN8ytyC9gUVJ5lbeBIHVvJA",
   "provenance": []
  },
  "kernelspec": {
   "display_name": "base",
   "language": "python",
   "name": "python3"
  },
  "language_info": {
   "codemirror_mode": {
    "name": "ipython",
    "version": 3
   },
   "file_extension": ".py",
   "mimetype": "text/x-python",
   "name": "python",
   "nbconvert_exporter": "python",
   "pygments_lexer": "ipython3",
   "version": "3.11.5"
  }
 },
 "nbformat": 4,
 "nbformat_minor": 0
}
