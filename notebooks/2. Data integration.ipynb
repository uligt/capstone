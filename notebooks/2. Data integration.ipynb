{
 "cells": [
  {
   "cell_type": "markdown",
   "metadata": {
    "id": "E_9nryk7DPtX"
   },
   "source": [
    "# Data Integration"
   ]
  },
  {
   "cell_type": "markdown",
   "metadata": {
    "id": "S8CeEnkfD0yL"
   },
   "source": [
    "This code is specically desgined to integrate the data in a unique dataframe and be able to use it in a model"
   ]
  },
  {
   "cell_type": "markdown",
   "metadata": {
    "id": "GJHWKhpBFLSZ"
   },
   "source": [
    "## Libraries import"
   ]
  },
  {
   "cell_type": "code",
   "execution_count": 1,
   "metadata": {
    "executionInfo": {
     "elapsed": 1054,
     "status": "ok",
     "timestamp": 1745185343162,
     "user": {
      "displayName": "Francisco",
      "userId": "11190877053062531761"
     },
     "user_tz": 300
    },
    "id": "Z_JWQ-EZFOd0"
   },
   "outputs": [
    {
     "name": "stderr",
     "output_type": "stream",
     "text": [
      "/Users/ulisesgordillo/anaconda3/lib/python3.11/site-packages/pandas/core/arrays/masked.py:60: UserWarning: Pandas requires version '1.3.6' or newer of 'bottleneck' (version '1.3.5' currently installed).\n",
      "  from pandas.core import (\n"
     ]
    }
   ],
   "source": [
    "import pandas as pd\n",
    "import polars as pl\n",
    "import polars.selectors as cs\n"
   ]
  },
  {
   "cell_type": "code",
   "execution_count": 2,
   "metadata": {},
   "outputs": [
    {
     "name": "stdout",
     "output_type": "stream",
     "text": [
      "Current working directory: /Users/ulisesgordillo/Downloads/capstone/notebooks\n",
      "Changed working directory to: /Users/ulisesgordillo/Downloads/capstone/csv\n"
     ]
    }
   ],
   "source": [
    "# get current working directory\n",
    "import os\n",
    "\n",
    "current_directory = os.getcwd()\n",
    "print(f\"Current working directory: {current_directory}\")\n",
    "\n",
    "#change from  /Users/ulisesgordillo/Downloads/capstone/notebooks to  /Users/ulisesgordillo/Downloads/capstone/data\n",
    "os.chdir('/Users/ulisesgordillo/Downloads/capstone/csv')\n",
    "print(f\"Changed working directory to: {os.getcwd()}\")"
   ]
  },
  {
   "cell_type": "markdown",
   "metadata": {
    "id": "l751Y4pzFSGQ"
   },
   "source": [
    "## Global variables"
   ]
  },
  {
   "cell_type": "code",
   "execution_count": 3,
   "metadata": {
    "executionInfo": {
     "elapsed": 4,
     "status": "ok",
     "timestamp": 1745185829148,
     "user": {
      "displayName": "Francisco",
      "userId": "11190877053062531761"
     },
     "user_tz": 300
    },
    "id": "2r_OfAHoFWCq"
   },
   "outputs": [],
   "source": [
    "PATH_DENSITY_REPORT       = 'density_report.csv'\n",
    "PATH_HISTORICAL_INCIDENTS = 'historical_incidents.csv'\n",
    "PATH_PRODUCT_ATTRIBUTES   = 'product_attributes.csv'\n",
    "PATH_SUPPLIER_SCORECARD   = 'supplier_scorecard.csv'\n",
    "\n",
    "EXPORT_TOTAL_DATAFRAME    = 'total_dataframe.csv'"
   ]
  },
  {
   "cell_type": "markdown",
   "metadata": {
    "id": "sngLbxheFs0s"
   },
   "source": [
    "## Execution"
   ]
  },
  {
   "cell_type": "markdown",
   "metadata": {
    "id": "h23cwY4AFwlb"
   },
   "source": [
    "### 1. Read files"
   ]
  },
  {
   "cell_type": "code",
   "execution_count": 4,
   "metadata": {
    "colab": {
     "base_uri": "https://localhost:8080/"
    },
    "executionInfo": {
     "elapsed": 405,
     "status": "ok",
     "timestamp": 1745185517025,
     "user": {
      "displayName": "Francisco",
      "userId": "11190877053062531761"
     },
     "user_tz": 300
    },
    "id": "GN5ztU-UbEb0",
    "outputId": "71b7eef1-941b-4a58-dc71-10efad8dc104"
   },
   "outputs": [],
   "source": [
    "# Reading csv files\n",
    "df_density_report = pl.read_csv(PATH_DENSITY_REPORT, separator=\";\")\n",
    "df_historical_incidents = pl.read_csv(PATH_HISTORICAL_INCIDENTS, separator=\";\")\n",
    "df_product_attributes = pl.read_csv(PATH_PRODUCT_ATTRIBUTES, separator=\";\")\n",
    "df_supplier_scorecard = pl.read_csv(PATH_SUPPLIER_SCORECARD, separator=\";\")"
   ]
  },
  {
   "cell_type": "markdown",
   "metadata": {},
   "source": [
    "### 2. Join files"
   ]
  },
  {
   "cell_type": "code",
   "execution_count": 5,
   "metadata": {},
   "outputs": [
    {
     "name": "stdout",
     "output_type": "stream",
     "text": [
      "Step 1 & 2: Initialize Master and Join ProductAttributes...\n",
      "   Shape after joining ProductAttributes: (500000, 15)\n"
     ]
    }
   ],
   "source": [
    "print(\"Step 1 & 2: Initialize Master and Join ProductAttributes...\")\n",
    "# Rename product weight column\n",
    "df_product_attributes_renamed = df_product_attributes.rename({'Weight': 'ProductWeight'})\n",
    "\n",
    "# Initialize and join\n",
    "df_master = df_density_report.clone().join(\n",
    "    df_product_attributes_renamed.select(\n",
    "        \"ProductReference\", \"ProductName\", \"Size\", \"Collection\", \"ProductWeight\"\n",
    "    ).drop_nulls(subset=['ProductReference']),\n",
    "    on='ProductReference',\n",
    "    how='left'\n",
    ")\n",
    "print(f\"   Shape after joining ProductAttributes: {df_master.shape}\")"
   ]
  },
  {
   "cell_type": "code",
   "execution_count": 6,
   "metadata": {},
   "outputs": [
    {
     "name": "stdout",
     "output_type": "stream",
     "text": [
      "\n",
      "Step 3: Joining SupplierScorecard...\n",
      "   (Filled numeric SC_ column nulls with 0)\n",
      "   Shape after joining SupplierScorecard: (500000, 21)\n"
     ]
    }
   ],
   "source": [
    "print(\"\\nStep 3: Joining SupplierScorecard...\")\n",
    "\n",
    "# Ensure DateOfReport is Date/Datetime Type\n",
    "try:\n",
    "    df_master = df_master.with_columns(pl.col(\"DateOfReport\").cast(pl.Date))\n",
    "except Exception:\n",
    "    try:\n",
    "         df_master = df_master.with_columns(pl.col(\"DateOfReport\").cast(pl.Datetime))\n",
    "    except Exception as e:\n",
    "         print(f\"ERROR: Failed to cast DateOfReport: {e}\")\n",
    "         # Consider raising error if date is critical\n",
    "\n",
    "# Create YYYY-MM key\n",
    "df_master = df_master.with_columns(\n",
    "    pl.col(\"DateOfReport\").dt.strftime(\"%Y-%m\").alias(\"ReportYearMonth\")\n",
    ")\n",
    "\n",
    "# Prefix Scorecard columns\n",
    "scorecard_cols = df_supplier_scorecard.columns\n",
    "scorecard_cols_prefixed = {\n",
    "    col: f\"SC_{col}\" for col in scorecard_cols if col not in ['SupplierName', 'Month']\n",
    "}\n",
    "df_supplier_scorecard_prefixed = df_supplier_scorecard.rename(scorecard_cols_prefixed)\n",
    "\n",
    "# Join\n",
    "df_master = df_master.join(\n",
    "    df_supplier_scorecard_prefixed,\n",
    "    left_on=['SupplierName', 'ReportYearMonth'],\n",
    "    right_on=['SupplierName', 'Month'],\n",
    "    how='left'\n",
    ")\n",
    "\n",
    "# Simple Null Handling for Scorecard columns: Fill numeric nulls with 0\n",
    "sc_numeric_cols = df_master.select(cs.starts_with(\"SC_\") & (cs.numeric())).columns\n",
    "if sc_numeric_cols:\n",
    "    df_master = df_master.with_columns(\n",
    "        [pl.col(c).fill_null(0) for c in sc_numeric_cols]\n",
    "    )\n",
    "    print(\"   (Filled numeric SC_ column nulls with 0)\")\n",
    "\n",
    "# Drop intermediate key\n",
    "df_master = df_master.drop(\"ReportYearMonth\")\n",
    "print(f\"   Shape after joining SupplierScorecard: {df_master.shape}\")"
   ]
  },
  {
   "cell_type": "code",
   "execution_count": 7,
   "metadata": {},
   "outputs": [
    {
     "name": "stdout",
     "output_type": "stream",
     "text": [
      "\n",
      "Step 4: Simple Aggregation and Join of HistoricalIncidents...\n",
      "   (Filled HistInc_ column nulls with 0)\n",
      "   Shape after joining Aggregated Incidents: (500000, 23)\n"
     ]
    }
   ],
   "source": [
    "# --- Start of Corrected Cell 4 ---\n",
    "\n",
    "print(\"\\nStep 4: Simple Aggregation and Join of HistoricalIncidents...\")\n",
    "\n",
    "# Optional: Verify column names if needed (can be commented out after confirming)\n",
    "# print(f\"Columns in df_historical_incidents: {df_historical_incidents.columns}\")\n",
    "\n",
    "# Aggregate Incidents by ProductReference ONLY (total lifetime stats)\n",
    "df_incidents_agg_simple = df_historical_incidents.group_by(\"ProductReference\").agg(\n",
    "    pl.len().alias(\"HistInc_TotalCount_Product\"),\n",
    "    # Use the correct column name here: \"CostImpact (€)\"\n",
    "    pl.sum(\"CostImpact (€)\").fill_null(0).alias(\"HistInc_TotalCost_Product\")\n",
    ").drop_nulls(subset=[\"ProductReference\"]) # Drop if ProductReference was null\n",
    "\n",
    "# Join the simple aggregates\n",
    "df_master = df_master.join(\n",
    "    df_incidents_agg_simple,\n",
    "    on=\"ProductReference\",\n",
    "    how=\"left\"\n",
    ")\n",
    "\n",
    "# Simple Null Handling: Fill incident aggregates with 0 (means no history for product)\n",
    "hist_inc_cols = [\"HistInc_TotalCount_Product\", \"HistInc_TotalCost_Product\"]\n",
    "df_master = df_master.with_columns(\n",
    "    [pl.col(c).fill_null(0) for c in hist_inc_cols if c in df_master.columns]\n",
    ")\n",
    "print(\"   (Filled HistInc_ column nulls with 0)\")\n",
    "\n",
    "# Print final shape for this step\n",
    "print(f\"   Shape after joining Aggregated Incidents: {df_master.shape}\")\n",
    "\n"
   ]
  },
  {
   "cell_type": "markdown",
   "metadata": {
    "id": "N4f11JDCLNcP"
   },
   "source": [
    "## Export"
   ]
  },
  {
   "cell_type": "code",
   "execution_count": 8,
   "metadata": {},
   "outputs": [
    {
     "name": "stdout",
     "output_type": "stream",
     "text": [
      "\n",
      "Step 5: Exporting Final Master Table to total_dataframe.csv...\n",
      "   Successfully exported master table with shape (500000, 23).\n"
     ]
    }
   ],
   "source": [
    "# Step 5: Export the Final Master Table\n",
    "print(f\"\\nStep 5: Exporting Final Master Table to {EXPORT_TOTAL_DATAFRAME}...\")\n",
    "\n",
    "try:\n",
    "    # Use df_master directly here\n",
    "    df_master.write_csv(EXPORT_TOTAL_DATAFRAME, separator=\";\")\n",
    "    print(f\"   Successfully exported master table with shape {df_master.shape}.\")\n",
    "except Exception as e:\n",
    "    print(f\"   Error exporting master table: {e}\")"
   ]
  }
 ],
 "metadata": {
  "colab": {
   "authorship_tag": "ABX9TyN8ytyC9gUVJ5lbeBIHVvJA",
   "provenance": []
  },
  "kernelspec": {
   "display_name": "base",
   "language": "python",
   "name": "python3"
  },
  "language_info": {
   "codemirror_mode": {
    "name": "ipython",
    "version": 3
   },
   "file_extension": ".py",
   "mimetype": "text/x-python",
   "name": "python",
   "nbconvert_exporter": "python",
   "pygments_lexer": "ipython3",
   "version": "3.11.5"
  }
 },
 "nbformat": 4,
 "nbformat_minor": 0
}
