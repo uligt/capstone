{
 "cells": [
  {
   "cell_type": "markdown",
   "metadata": {
    "id": "E_9nryk7DPtX"
   },
   "source": [
    "# Data Integration"
   ]
  },
  {
   "cell_type": "markdown",
   "metadata": {
    "id": "S8CeEnkfD0yL"
   },
   "source": [
    "This code is specically desgined to integrate the data in a unique dataframe and be able to use it in a model"
   ]
  },
  {
   "cell_type": "markdown",
   "metadata": {
    "id": "GJHWKhpBFLSZ"
   },
   "source": [
    "## Libraries import"
   ]
  },
  {
   "cell_type": "code",
   "execution_count": 1,
   "metadata": {
    "executionInfo": {
     "elapsed": 1054,
     "status": "ok",
     "timestamp": 1745185343162,
     "user": {
      "displayName": "Francisco",
      "userId": "11190877053062531761"
     },
     "user_tz": 300
    },
    "id": "Z_JWQ-EZFOd0"
   },
   "outputs": [
    {
     "name": "stderr",
     "output_type": "stream",
     "text": [
      "/Users/ulisesgordillo/anaconda3/lib/python3.11/site-packages/pandas/core/arrays/masked.py:60: UserWarning: Pandas requires version '1.3.6' or newer of 'bottleneck' (version '1.3.5' currently installed).\n",
      "  from pandas.core import (\n"
     ]
    }
   ],
   "source": [
    "import pandas as pd\n",
    "import polars as pl"
   ]
  },
  {
   "cell_type": "markdown",
   "metadata": {
    "id": "l751Y4pzFSGQ"
   },
   "source": [
    "## Global variables"
   ]
  },
  {
   "cell_type": "code",
   "execution_count": 3,
   "metadata": {
    "executionInfo": {
     "elapsed": 4,
     "status": "ok",
     "timestamp": 1745185829148,
     "user": {
      "displayName": "Francisco",
      "userId": "11190877053062531761"
     },
     "user_tz": 300
    },
    "id": "2r_OfAHoFWCq"
   },
   "outputs": [],
   "source": [
    "PATH_DENSITY_REPORT       = 'density_report.csv'\n",
    "PATH_HISTORICAL_INCIDENTS = 'historical_incidents.csv'\n",
    "PATH_PRODUCT_ATTRIBUTES   = 'product_attributes.csv'\n",
    "PATH_SUPPLIER_SCORECARD   = 'supplier_scorecard.csv'\n",
    "\n",
    "EXPORT_TOTAL_DATAFRAME    = 'total_dataframe.csv'"
   ]
  },
  {
   "cell_type": "markdown",
   "metadata": {
    "id": "sngLbxheFs0s"
   },
   "source": [
    "## Execution"
   ]
  },
  {
   "cell_type": "markdown",
   "metadata": {
    "id": "h23cwY4AFwlb"
   },
   "source": [
    "### 1. Read files"
   ]
  },
  {
   "cell_type": "code",
   "execution_count": 4,
   "metadata": {
    "colab": {
     "base_uri": "https://localhost:8080/"
    },
    "executionInfo": {
     "elapsed": 405,
     "status": "ok",
     "timestamp": 1745185517025,
     "user": {
      "displayName": "Francisco",
      "userId": "11190877053062531761"
     },
     "user_tz": 300
    },
    "id": "GN5ztU-UbEb0",
    "outputId": "71b7eef1-941b-4a58-dc71-10efad8dc104"
   },
   "outputs": [
    {
     "name": "stderr",
     "output_type": "stream",
     "text": [
      "/var/folders/fh/z6pvq_495gd075z979mzth4r0000gn/T/ipykernel_16423/1083487986.py:9: ChronoFormatWarning: Detected the pattern `.%f` in the chrono format string. This pattern should not be used to parse values after a decimal point. Use `%.f` instead. See the full specification: https://docs.rs/chrono/latest/chrono/format/strftime\n",
      "  pl.col(\"DateOfReport\").str.strptime(pl.Date, format=\"%Y-%m-%dT%H:%M:%S.%f\")\n"
     ]
    },
    {
     "ename": "InvalidOperationError",
     "evalue": "conversion from `str` to `date` failed in column 'DateOfReport' for 3125 out of 3125 values: [\"2023-01-30\", \"2023-01-14\", … \"2024-02-02\"]\n\nYou might want to try:\n- setting `strict=False` to set values that cannot be converted to `null`\n- using `str.strptime`, `str.to_date`, or `str.to_datetime` and providing a format string",
     "output_type": "error",
     "traceback": [
      "\u001b[0;31m---------------------------------------------------------------------------\u001b[0m",
      "\u001b[0;31mInvalidOperationError\u001b[0m                     Traceback (most recent call last)",
      "Cell \u001b[0;32mIn[4], line 8\u001b[0m\n\u001b[1;32m      5\u001b[0m df_supplier_scorecard \u001b[38;5;241m=\u001b[39m pl\u001b[38;5;241m.\u001b[39mread_csv(PATH_SUPPLIER_SCORECARD, separator\u001b[38;5;241m=\u001b[39m\u001b[38;5;124m\"\u001b[39m\u001b[38;5;124m;\u001b[39m\u001b[38;5;124m\"\u001b[39m)\n\u001b[1;32m      7\u001b[0m \u001b[38;5;66;03m# Adjusting date values\u001b[39;00m\n\u001b[0;32m----> 8\u001b[0m df_density_report \u001b[38;5;241m=\u001b[39m df_density_report\u001b[38;5;241m.\u001b[39mwith_columns([\n\u001b[1;32m      9\u001b[0m     pl\u001b[38;5;241m.\u001b[39mcol(\u001b[38;5;124m\"\u001b[39m\u001b[38;5;124mDateOfReport\u001b[39m\u001b[38;5;124m\"\u001b[39m)\u001b[38;5;241m.\u001b[39mstr\u001b[38;5;241m.\u001b[39mstrptime(pl\u001b[38;5;241m.\u001b[39mDate, \u001b[38;5;28mformat\u001b[39m\u001b[38;5;241m=\u001b[39m\u001b[38;5;124m\"\u001b[39m\u001b[38;5;124m%\u001b[39m\u001b[38;5;124mY-\u001b[39m\u001b[38;5;124m%\u001b[39m\u001b[38;5;124mm-\u001b[39m\u001b[38;5;132;01m%d\u001b[39;00m\u001b[38;5;124mT\u001b[39m\u001b[38;5;124m%\u001b[39m\u001b[38;5;124mH:\u001b[39m\u001b[38;5;124m%\u001b[39m\u001b[38;5;124mM:\u001b[39m\u001b[38;5;124m%\u001b[39m\u001b[38;5;124mS.\u001b[39m\u001b[38;5;132;01m%f\u001b[39;00m\u001b[38;5;124m\"\u001b[39m)\n\u001b[1;32m     10\u001b[0m ])\n\u001b[1;32m     12\u001b[0m df_historical_incidents \u001b[38;5;241m=\u001b[39m df_historical_incidents\u001b[38;5;241m.\u001b[39mwith_columns([\n\u001b[1;32m     13\u001b[0m     pl\u001b[38;5;241m.\u001b[39mcol(\u001b[38;5;124m\"\u001b[39m\u001b[38;5;124mDateOfIncident\u001b[39m\u001b[38;5;124m\"\u001b[39m)\u001b[38;5;241m.\u001b[39mstr\u001b[38;5;241m.\u001b[39mstrptime(pl\u001b[38;5;241m.\u001b[39mDate, \u001b[38;5;28mformat\u001b[39m\u001b[38;5;241m=\u001b[39m\u001b[38;5;124m\"\u001b[39m\u001b[38;5;124m%\u001b[39m\u001b[38;5;124mY-\u001b[39m\u001b[38;5;124m%\u001b[39m\u001b[38;5;124mm-\u001b[39m\u001b[38;5;132;01m%d\u001b[39;00m\u001b[38;5;124mT\u001b[39m\u001b[38;5;124m%\u001b[39m\u001b[38;5;124mH:\u001b[39m\u001b[38;5;124m%\u001b[39m\u001b[38;5;124mM:\u001b[39m\u001b[38;5;124m%\u001b[39m\u001b[38;5;124mS.\u001b[39m\u001b[38;5;132;01m%f\u001b[39;00m\u001b[38;5;124m\"\u001b[39m)\n\u001b[1;32m     14\u001b[0m ])\n",
      "File \u001b[0;32m~/anaconda3/lib/python3.11/site-packages/polars/dataframe/frame.py:9806\u001b[0m, in \u001b[0;36mDataFrame.with_columns\u001b[0;34m(self, *exprs, **named_exprs)\u001b[0m\n\u001b[1;32m   9660\u001b[0m \u001b[38;5;28;01mdef\u001b[39;00m \u001b[38;5;21mwith_columns\u001b[39m(\n\u001b[1;32m   9661\u001b[0m     \u001b[38;5;28mself\u001b[39m,\n\u001b[1;32m   9662\u001b[0m     \u001b[38;5;241m*\u001b[39mexprs: IntoExpr \u001b[38;5;241m|\u001b[39m Iterable[IntoExpr],\n\u001b[1;32m   9663\u001b[0m     \u001b[38;5;241m*\u001b[39m\u001b[38;5;241m*\u001b[39mnamed_exprs: IntoExpr,\n\u001b[1;32m   9664\u001b[0m ) \u001b[38;5;241m-\u001b[39m\u001b[38;5;241m>\u001b[39m DataFrame:\n\u001b[1;32m   9665\u001b[0m \u001b[38;5;250m    \u001b[39m\u001b[38;5;124;03m\"\"\"\u001b[39;00m\n\u001b[1;32m   9666\u001b[0m \u001b[38;5;124;03m    Add columns to this DataFrame.\u001b[39;00m\n\u001b[1;32m   9667\u001b[0m \n\u001b[0;32m   (...)\u001b[0m\n\u001b[1;32m   9804\u001b[0m \u001b[38;5;124;03m    └─────┴──────┴─────────────┘\u001b[39;00m\n\u001b[1;32m   9805\u001b[0m \u001b[38;5;124;03m    \"\"\"\u001b[39;00m\n\u001b[0;32m-> 9806\u001b[0m     \u001b[38;5;28;01mreturn\u001b[39;00m \u001b[38;5;28mself\u001b[39m\u001b[38;5;241m.\u001b[39mlazy()\u001b[38;5;241m.\u001b[39mwith_columns(\u001b[38;5;241m*\u001b[39mexprs, \u001b[38;5;241m*\u001b[39m\u001b[38;5;241m*\u001b[39mnamed_exprs)\u001b[38;5;241m.\u001b[39mcollect(_eager\u001b[38;5;241m=\u001b[39m\u001b[38;5;28;01mTrue\u001b[39;00m)\n",
      "File \u001b[0;32m~/anaconda3/lib/python3.11/site-packages/polars/_utils/deprecation.py:93\u001b[0m, in \u001b[0;36mdeprecate_streaming_parameter.<locals>.decorate.<locals>.wrapper\u001b[0;34m(*args, **kwargs)\u001b[0m\n\u001b[1;32m     89\u001b[0m         kwargs[\u001b[38;5;124m\"\u001b[39m\u001b[38;5;124mengine\u001b[39m\u001b[38;5;124m\"\u001b[39m] \u001b[38;5;241m=\u001b[39m \u001b[38;5;124m\"\u001b[39m\u001b[38;5;124min-memory\u001b[39m\u001b[38;5;124m\"\u001b[39m\n\u001b[1;32m     91\u001b[0m     \u001b[38;5;28;01mdel\u001b[39;00m kwargs[\u001b[38;5;124m\"\u001b[39m\u001b[38;5;124mstreaming\u001b[39m\u001b[38;5;124m\"\u001b[39m]\n\u001b[0;32m---> 93\u001b[0m \u001b[38;5;28;01mreturn\u001b[39;00m function(\u001b[38;5;241m*\u001b[39margs, \u001b[38;5;241m*\u001b[39m\u001b[38;5;241m*\u001b[39mkwargs)\n",
      "File \u001b[0;32m~/anaconda3/lib/python3.11/site-packages/polars/lazyframe/frame.py:2206\u001b[0m, in \u001b[0;36mLazyFrame.collect\u001b[0;34m(self, type_coercion, _type_check, predicate_pushdown, projection_pushdown, simplify_expression, slice_pushdown, comm_subplan_elim, comm_subexpr_elim, cluster_with_columns, collapse_joins, no_optimization, engine, background, _check_order, _eager, **_kwargs)\u001b[0m\n\u001b[1;32m   2204\u001b[0m \u001b[38;5;66;03m# Only for testing purposes\u001b[39;00m\n\u001b[1;32m   2205\u001b[0m callback \u001b[38;5;241m=\u001b[39m _kwargs\u001b[38;5;241m.\u001b[39mget(\u001b[38;5;124m\"\u001b[39m\u001b[38;5;124mpost_opt_callback\u001b[39m\u001b[38;5;124m\"\u001b[39m, callback)\n\u001b[0;32m-> 2206\u001b[0m \u001b[38;5;28;01mreturn\u001b[39;00m wrap_df(ldf\u001b[38;5;241m.\u001b[39mcollect(engine, callback))\n",
      "\u001b[0;31mInvalidOperationError\u001b[0m: conversion from `str` to `date` failed in column 'DateOfReport' for 3125 out of 3125 values: [\"2023-01-30\", \"2023-01-14\", … \"2024-02-02\"]\n\nYou might want to try:\n- setting `strict=False` to set values that cannot be converted to `null`\n- using `str.strptime`, `str.to_date`, or `str.to_datetime` and providing a format string"
     ]
    }
   ],
   "source": [
    "# Reading csv files\n",
    "df_density_report = pl.read_csv(PATH_DENSITY_REPORT, separator=\";\")\n",
    "df_historical_incidents = pl.read_csv(PATH_HISTORICAL_INCIDENTS, separator=\";\")\n",
    "df_product_attributes = pl.read_csv(PATH_PRODUCT_ATTRIBUTES, separator=\";\")\n",
    "df_supplier_scorecard = pl.read_csv(PATH_SUPPLIER_SCORECARD, separator=\";\")\n",
    "\n",
    "# Adjusting date values\n",
    "df_density_report = df_density_report.with_columns([\n",
    "    pl.col(\"DateOfReport\").str.strptime(pl.Date, format=\"%Y-%m-%dT%H:%M:%S.%f\")\n",
    "])\n",
    "\n",
    "df_historical_incidents = df_historical_incidents.with_columns([\n",
    "    pl.col(\"DateOfIncident\").str.strptime(pl.Date, format=\"%Y-%m-%dT%H:%M:%S.%f\")\n",
    "])\n",
    "\n"
   ]
  },
  {
   "cell_type": "code",
   "execution_count": null,
   "metadata": {},
   "outputs": [
    {
     "name": "stdout",
     "output_type": "stream",
     "text": [
      "Adjusting DateOfReport in df_density_report...\n",
      "New dtype: Date\n",
      "shape: (2, 11)\n",
      "┌───────────┬───────────┬───────────┬───────────┬───┬───────────┬───────────┬───────────┬──────────┐\n",
      "│ ReportID  ┆ ProductRe ┆ DateOfRep ┆ SupplierN ┆ … ┆ ProposedU ┆ ProposedF ┆ ProposedL ┆ Packagin │\n",
      "│ ---       ┆ ference   ┆ ort       ┆ ame       ┆   ┆ nitsPerCa ┆ oldingMet ┆ ayout     ┆ gQuality │\n",
      "│ str       ┆ ---       ┆ ---       ┆ ---       ┆   ┆ rton      ┆ hod       ┆ ---       ┆ ---      │\n",
      "│           ┆ str       ┆ date      ┆ str       ┆   ┆ ---       ┆ ---       ┆ str       ┆ str      │\n",
      "│           ┆           ┆           ┆           ┆   ┆ f64       ┆ str       ┆           ┆          │\n",
      "╞═══════════╪═══════════╪═══════════╪═══════════╪═══╪═══════════╪═══════════╪═══════════╪══════════╡\n",
      "│ RPT000000 ┆ PRD07271  ┆ 2024-03-0 ┆ SupplierA ┆ … ┆ 29.0      ┆ Method2   ┆ LayoutC   ┆ Good     │\n",
      "│ 1         ┆           ┆ 4         ┆           ┆   ┆           ┆           ┆           ┆          │\n",
      "│ RPT000000 ┆ PRD00861  ┆ 2024-05-2 ┆ SupplierC ┆ … ┆ 20.0      ┆ Method2   ┆ LayoutB   ┆ Good     │\n",
      "│ 2         ┆           ┆ 7         ┆           ┆   ┆           ┆           ┆           ┆          │\n",
      "└───────────┴───────────┴───────────┴───────────┴───┴───────────┴───────────┴───────────┴──────────┘\n",
      "\n",
      "Adjusting DateOfIncident in df_historical_incidents...\n",
      "New dtype: Date\n",
      "shape: (2, 6)\n",
      "┌─────────────────┬──────────────┬─────────────────┬─────────────────┬────────────────┬────────────┐\n",
      "│ ProductReferenc ┆ SupplierName ┆ DateOfIncident  ┆ IssueDescriptio ┆ ResolutionStat ┆ CostImpact │\n",
      "│ e               ┆ ---          ┆ ---             ┆ n               ┆ us             ┆ (€)        │\n",
      "│ ---             ┆ str          ┆ date            ┆ ---             ┆ ---            ┆ ---        │\n",
      "│ str             ┆              ┆                 ┆ str             ┆ str            ┆ f64        │\n",
      "╞═════════════════╪══════════════╪═════════════════╪═════════════════╪════════════════╪════════════╡\n",
      "│ PRD08586        ┆ SupplierC    ┆ 2023-10-25      ┆ Other           ┆ Resolved       ┆ 69.0       │\n",
      "│ PRD06004        ┆ SupplierA    ┆ 2024-03-07      ┆ Packaging       ┆ Resolved       ┆ 1912.0     │\n",
      "│                 ┆              ┆                 ┆ Damage          ┆                ┆            │\n",
      "└─────────────────┴──────────────┴─────────────────┴─────────────────┴────────────────┴────────────┘\n"
     ]
    }
   ],
   "source": [
    "#  Read CSV files \n",
    "df_density_report = pl.read_csv(PATH_DENSITY_REPORT, separator=\";\")\n",
    "df_historical_incidents = pl.read_csv(PATH_HISTORICAL_INCIDENTS, separator=\";\")\n",
    "df_product_attributes = pl.read_csv(PATH_PRODUCT_ATTRIBUTES, separator=\";\")\n",
    "df_supplier_scorecard = pl.read_csv(PATH_SUPPLIER_SCORECARD, separator=\";\")\n",
    "\n",
    "\n",
    "# --- Adjust date values for df_density_report ---\n",
    "print(\"Adjusting DateOfReport in df_density_report...\")\n",
    "df_density_report = df_density_report.with_columns(\n",
    "    pl.col(\"DateOfReport\")\n",
    "      .str.strptime(pl.Date, format=\"%Y-%m-%d\", strict=False) # Parse string directly to Date with the correct format\n",
    "      .alias(\"DateOfReport\")                                  # Overwrite column (optional)\n",
    ")\n",
    "print(f\"New dtype: {df_density_report['DateOfReport'].dtype}\")\n",
    "print(df_density_report.head(2)) # Show result\n",
    "\n",
    "\n",
    "# --- Adjust date values for df_historical_incidents ---\n",
    "print(\"\\nAdjusting DateOfIncident in df_historical_incidents...\")\n",
    "df_historical_incidents = df_historical_incidents.with_columns(\n",
    "    pl.col(\"DateOfIncident\")\n",
    "      .str.strptime(pl.Date, format=\"%Y-%m-%d\", strict=False) # Parse string directly to Date with the correct format\n",
    "      .alias(\"DateOfIncident\")                                # Overwrite column\n",
    ")\n",
    "print(f\"New dtype: {df_historical_incidents['DateOfIncident'].dtype}\")\n",
    "print(df_historical_incidents.head(2)) # Show result\n",
    "\n"
   ]
  },
  {
   "cell_type": "markdown",
   "metadata": {
    "id": "hLovX2SZciBX"
   },
   "source": [
    "### 2. Join files"
   ]
  },
  {
   "cell_type": "code",
   "execution_count": 7,
   "metadata": {
    "executionInfo": {
     "elapsed": 186,
     "status": "ok",
     "timestamp": 1745185529524,
     "user": {
      "displayName": "Francisco",
      "userId": "11190877053062531761"
     },
     "user_tz": 300
    },
    "id": "HIDSvpMtgje2"
   },
   "outputs": [],
   "source": [
    "# Put the same name on the date columns\n",
    "df_density_report       = df_density_report.rename({\"DateOfReport\": \"Date\"})\n",
    "df_historical_incidents = df_historical_incidents.rename({\"DateOfIncident\": \"Date\"})\n",
    "\n",
    "# Drop repeated columns\n",
    "df_product_attributes = df_product_attributes.drop([\"GarmentType\",\"Material\"])\n",
    "\n",
    "# Join the dataframes\n",
    "df_joined = df_density_report.join(\n",
    "    df_historical_incidents,\n",
    "    on=[\"Date\", \"SupplierName\", \"ProductReference\"],\n",
    "    how=\"left\"\n",
    ")\n",
    "\n",
    "df_joined = df_joined.join(\n",
    "    df_product_attributes,\n",
    "    on=[\"ProductReference\"],\n",
    "    how=\"left\"\n",
    ")"
   ]
  },
  {
   "cell_type": "markdown",
   "metadata": {
    "id": "N4f11JDCLNcP"
   },
   "source": [
    "## Export"
   ]
  },
  {
   "cell_type": "code",
   "execution_count": 8,
   "metadata": {
    "executionInfo": {
     "elapsed": 454,
     "status": "ok",
     "timestamp": 1745185832135,
     "user": {
      "displayName": "Francisco",
      "userId": "11190877053062531761"
     },
     "user_tz": 300
    },
    "id": "H4dHj2nWLOgd"
   },
   "outputs": [],
   "source": [
    "df_joined.write_csv(EXPORT_TOTAL_DATAFRAME, separator=\";\")"
   ]
  },
  {
   "cell_type": "code",
   "execution_count": null,
   "metadata": {},
   "outputs": [],
   "source": []
  }
 ],
 "metadata": {
  "colab": {
   "authorship_tag": "ABX9TyN8ytyC9gUVJ5lbeBIHVvJA",
   "provenance": []
  },
  "kernelspec": {
   "display_name": "base",
   "language": "python",
   "name": "python3"
  },
  "language_info": {
   "codemirror_mode": {
    "name": "ipython",
    "version": 3
   },
   "file_extension": ".py",
   "mimetype": "text/x-python",
   "name": "python",
   "nbconvert_exporter": "python",
   "pygments_lexer": "ipython3",
   "version": "3.11.5"
  }
 },
 "nbformat": 4,
 "nbformat_minor": 0
}
