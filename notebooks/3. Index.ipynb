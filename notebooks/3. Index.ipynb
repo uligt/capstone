{
 "cells": [
  {
   "cell_type": "markdown",
   "id": "9a3246eb",
   "metadata": {},
   "source": [
    "## Libraries"
   ]
  },
  {
   "cell_type": "code",
   "execution_count": 1,
   "id": "3f124d77",
   "metadata": {},
   "outputs": [
    {
     "name": "stderr",
     "output_type": "stream",
     "text": [
      "/Users/ulisesgordillo/anaconda3/lib/python3.11/site-packages/pandas/core/arrays/masked.py:60: UserWarning: Pandas requires version '1.3.6' or newer of 'bottleneck' (version '1.3.5' currently installed).\n",
      "  from pandas.core import (\n"
     ]
    }
   ],
   "source": [
    "import pandas as pd\n",
    "import numpy as np  \n",
    "import polars as pl\n"
   ]
  },
  {
   "cell_type": "markdown",
   "id": "27ee1c71",
   "metadata": {},
   "source": [
    "## Global Variables"
   ]
  },
  {
   "cell_type": "code",
   "execution_count": 3,
   "id": "f34e2bf4",
   "metadata": {},
   "outputs": [],
   "source": [
    "# Input paths\n",
    "PATH_DATAFRAME = 'lightgbm_results.xlsx'"
   ]
  },
  {
   "cell_type": "markdown",
   "id": "ae563af0",
   "metadata": {},
   "source": [
    "## Global Functions"
   ]
  },
  {
   "cell_type": "code",
   "execution_count": 4,
   "id": "9a1f9afe",
   "metadata": {},
   "outputs": [],
   "source": [
    "def polars_read_excel(file_name, sheet_name='Sheet1'):\n",
    "  return pl.read_excel(source=file_name, sheet_name=sheet_name)"
   ]
  },
  {
   "cell_type": "markdown",
   "id": "10a293ac",
   "metadata": {},
   "source": [
    "## Import Data"
   ]
  },
  {
   "cell_type": "code",
   "execution_count": 5,
   "id": "b2067773",
   "metadata": {},
   "outputs": [],
   "source": [
    "df=polars_read_excel(PATH_DATAFRAME, sheet_name='Sheet1')"
   ]
  },
  {
   "cell_type": "markdown",
   "id": "08c0a2e8",
   "metadata": {},
   "source": [
    "## Data Manipulation"
   ]
  },
  {
   "cell_type": "code",
   "execution_count": 7,
   "id": "2b8e27b1",
   "metadata": {},
   "outputs": [],
   "source": [
    "key_features = [\n",
    "    'SupplierName',\n",
    "    'GarmentType',\n",
    "    'Material',\n",
    "    'ProposedFoldingMethod',\n",
    "    'ProposedLayout',\n",
    "    'Size'\n",
    "]"
   ]
  },
  {
   "cell_type": "code",
   "execution_count": 15,
   "id": "ac508a63",
   "metadata": {},
   "outputs": [],
   "source": [
    "w_q1 = 0.2  # 25th percentile\n",
    "w_q3 = 0.62 # 75th percentile\n",
    "\n",
    "# We'll define bins: <= w_q1 (Light), > w_q1 and <= w_q3 (Medium), > w_q3 (Heavy)\n",
    "df = df.with_columns(\n",
    "    pl.when(pl.col(\"Weight\") <= w_q1)\n",
    "    .then(pl.lit(\"Light_W\")) # Added _W for clarity if Units bin also uses Light/Medium/Heavy\n",
    "    .when(pl.col(\"Weight\") <= w_q3) # This implies > w_q1 due to chain\n",
    "    .then(pl.lit(\"Medium_W\"))\n",
    "    .otherwise(pl.lit(\"Heavy_W\"))\n",
    "    .alias(\"Weight_Bin\")\n",
    ")\n",
    "key_features.append('Weight_Bin')"
   ]
  },
  {
   "cell_type": "code",
   "execution_count": null,
   "id": "66bd350f",
   "metadata": {},
   "outputs": [],
   "source": [
    "# Bin 'ProposedUnitsPerCarton' \n",
    "try:\n",
    "    uc_q33 = df.select(pl.col(\"ProposedUnitsPerCarton\").quantile(0.33)).item()\n",
    "    uc_q66 = df.select(pl.col(\"ProposedUnitsPerCarton\").quantile(0.66)).item()\n",
    "\n",
    "    if uc_q33 is not None and uc_q66 is not None and uc_q33 < uc_q66 : # Ensure quantiles are distinct and ordered\n",
    "        df = df.with_columns(\n",
    "            pl.when(pl.col(\"ProposedUnitsPerCarton\") <= uc_q33)\n",
    "            .then(pl.lit(\"Low_Units\"))\n",
    "            .when(pl.col(\"ProposedUnitsPerCarton\") <= uc_q66)\n",
    "            .then(pl.lit(\"Medium_Units\"))\n",
    "            .otherwise(pl.lit(\"High_Units\"))\n",
    "            .alias(\"UnitsPerCarton_Bin\")\n",
    "        )\n",
    "        key_features.append('UnitsPerCarton_Bin')\n",
    "    elif uc_q33 is not None and uc_q66 is not None and uc_q33 == uc_q66: # Case where 33rd and 66th percentile are the same\n",
    "        print(f\"Warning: 33rd and 66th percentiles for 'ProposedUnitsPerCarton' are the same ({uc_q33}). Creating 2 bins: Low/High.\")\n",
    "        df = df.with_columns(\n",
    "            pl.when(pl.col(\"ProposedUnitsPerCarton\") <= uc_q33)\n",
    "            .then(pl.lit(\"Low_Units\"))\n",
    "            .otherwise(pl.lit(\"High_Units\")) # All values > uc_q33 (or >= uc_q33 if many are equal)\n",
    "            .alias(\"UnitsPerCarton_Bin\")\n",
    "        )\n",
    "        key_features.append('UnitsPerCarton_Bin')\n",
    "    else: \n",
    "        print(f\"Warning: Could not robustly determine distinct quantiles for 'UnitsPerCarton_Bin'. uc_q33={uc_q33}, uc_q66={uc_q66}. Check 'ProposedUnitsPerCarton' distribution. Skipping UnitsPerCarton_Bin.\")\n",
    "\n",
    "except Exception as e:\n",
    "    print(f\"Error during 'ProposedUnitsPerCarton' binning: {e}. Skipping UnitsPerCarton_Bin.\")"
   ]
  },
  {
   "cell_type": "code",
   "execution_count": 19,
   "id": "f6f8d672",
   "metadata": {},
   "outputs": [
    {
     "name": "stdout",
     "output_type": "stream",
     "text": [
      "Using features for combinations: ['SupplierName', 'GarmentType', 'Material', 'ProposedFoldingMethod', 'ProposedLayout', 'Size', 'Weight_Bin', 'UnitsPerCarton_Bin']\n"
     ]
    }
   ],
   "source": [
    "# Ensure no duplicate features if script is re-run\n",
    "key_combination_features = sorted(list(set(key_features)))\n",
    "print(f\"Using features for combinations: {key_features}\")"
   ]
  },
  {
   "cell_type": "markdown",
   "id": "56ab677f",
   "metadata": {},
   "source": [
    "## Creating Risk Index"
   ]
  },
  {
   "cell_type": "code",
   "execution_count": null,
   "id": "628af833",
   "metadata": {},
   "outputs": [],
   "source": [
    "# Group by the selected features and calculate aggregate metrics\n",
    "risk_index_df = df.group_by(key_combination_features, maintain_order=False).agg(\n",
    "    pl.col(\"Probability\").mean().alias(\"Average_Probability_GOOD_State\"),\n",
    "    pl.col(\"Probability\").count().alias(\"NumberOfPackages\"),\n",
    "    pl.col(\"Probability\").std().alias(\"StdDev_Probability_GOOD_State\"),\n",
    "    pl.col(\"Actual\").mean().alias(\"Actual_Observed_GOOD_Rate\")\n",
    ")\n",
    "\n",
    "# Add calculated BAD state probabilities/rates\n",
    "risk_index_df = risk_index_df.with_columns([\n",
    "    (1 - pl.col(\"Average_Probability_GOOD_State\")).alias(\"Model_Avg_Probability_BAD_State\"),\n",
    "    (1 - pl.col(\"Actual_Observed_GOOD_Rate\")).alias(\"Actual_Observed_BAD_Rate\")\n",
    "])"
   ]
  },
  {
   "cell_type": "markdown",
   "id": "3d172ede",
   "metadata": {},
   "source": [
    "## Results"
   ]
  },
  {
   "cell_type": "code",
   "execution_count": 31,
   "id": "0692e618",
   "metadata": {},
   "outputs": [
    {
     "name": "stdout",
     "output_type": "stream",
     "text": [
      "We have 3767 combinations with at least 10 packages\n"
     ]
    }
   ],
   "source": [
    "# how many combinations do we have of at least 10 packages?\n",
    "risk_index_df = risk_index_df.with_columns(\n",
    "    pl.when(pl.col(\"NumberOfPackages\") >= 10)\n",
    "    .then(pl.lit(1))\n",
    "    .otherwise(pl.lit(0))\n",
    "    .alias(\"ValidCombination\")\n",
    ")\n",
    "\n",
    "# size of risk index\n",
    "risk_index_df.shape\n",
    "print (\"We have\",risk_index_df.shape[0], \"combinations with at least 10 packages\")"
   ]
  },
  {
   "cell_type": "code",
   "execution_count": null,
   "id": "7d206c11",
   "metadata": {},
   "outputs": [
    {
     "name": "stdout",
     "output_type": "stream",
     "text": [
      "Top 20 combinations likely to be in a bad state\n"
     ]
    },
    {
     "data": {
      "text/html": [
       "<div><style>\n",
       ".dataframe > thead > tr,\n",
       ".dataframe > tbody > tr {\n",
       "  text-align: right;\n",
       "  white-space: pre-wrap;\n",
       "}\n",
       "</style>\n",
       "<small>shape: (20, 14)</small><table border=\"1\" class=\"dataframe\"><thead><tr><th>GarmentType</th><th>Material</th><th>ProposedFoldingMethod</th><th>ProposedLayout</th><th>Size</th><th>SupplierName</th><th>UnitsPerCarton_Bin</th><th>Weight_Bin</th><th>Average_Probability_GOOD_State</th><th>NumberOfPackages</th><th>StdDev_Probability_GOOD_State</th><th>Actual_Observed_GOOD_Rate</th><th>Model_Avg_Probability_BAD_State</th><th>Actual_Observed_BAD_Rate</th></tr><tr><td>str</td><td>str</td><td>str</td><td>str</td><td>str</td><td>str</td><td>str</td><td>str</td><td>f64</td><td>u32</td><td>f64</td><td>f64</td><td>f64</td><td>f64</td></tr></thead><tbody><tr><td>&quot;Hoodie&quot;</td><td>&quot;Wool&quot;</td><td>&quot;Method3&quot;</td><td>&quot;LayoutD&quot;</td><td>&quot;M&quot;</td><td>&quot;SupplierF&quot;</td><td>&quot;Low_Units&quot;</td><td>&quot;Heavy_W&quot;</td><td>0.249233</td><td>10</td><td>0.026476</td><td>0.6</td><td>0.750767</td><td>0.4</td></tr><tr><td>&quot;Suit&quot;</td><td>&quot;Wool&quot;</td><td>&quot;Method3&quot;</td><td>&quot;LayoutD&quot;</td><td>&quot;XL&quot;</td><td>&quot;SupplierD&quot;</td><td>&quot;Low_Units&quot;</td><td>&quot;Heavy_W&quot;</td><td>0.267472</td><td>11</td><td>0.055674</td><td>0.454545</td><td>0.732528</td><td>0.545455</td></tr><tr><td>&quot;Coat&quot;</td><td>&quot;Wool&quot;</td><td>&quot;Method3&quot;</td><td>&quot;LayoutD&quot;</td><td>&quot;M&quot;</td><td>&quot;SupplierF&quot;</td><td>&quot;Low_Units&quot;</td><td>&quot;Heavy_W&quot;</td><td>0.267608</td><td>11</td><td>0.054778</td><td>0.909091</td><td>0.732392</td><td>0.090909</td></tr><tr><td>&quot;Coat&quot;</td><td>&quot;Wool&quot;</td><td>&quot;Method3&quot;</td><td>&quot;LayoutE&quot;</td><td>&quot;M&quot;</td><td>&quot;SupplierF&quot;</td><td>&quot;Low_Units&quot;</td><td>&quot;Heavy_W&quot;</td><td>0.273011</td><td>13</td><td>0.041331</td><td>0.538462</td><td>0.726989</td><td>0.461538</td></tr><tr><td>&quot;Coat&quot;</td><td>&quot;Silk&quot;</td><td>&quot;Method3&quot;</td><td>&quot;LayoutD&quot;</td><td>&quot;M&quot;</td><td>&quot;SupplierD&quot;</td><td>&quot;Low_Units&quot;</td><td>&quot;Heavy_W&quot;</td><td>0.274087</td><td>10</td><td>0.016554</td><td>0.8</td><td>0.725913</td><td>0.2</td></tr><tr><td>&quot;Suit&quot;</td><td>&quot;Wool&quot;</td><td>&quot;Method3&quot;</td><td>&quot;LayoutD&quot;</td><td>&quot;L&quot;</td><td>&quot;SupplierD&quot;</td><td>&quot;Low_Units&quot;</td><td>&quot;Heavy_W&quot;</td><td>0.278199</td><td>11</td><td>0.032047</td><td>0.636364</td><td>0.721801</td><td>0.363636</td></tr><tr><td>&quot;Sweater&quot;</td><td>&quot;Wool&quot;</td><td>&quot;Method3&quot;</td><td>&quot;LayoutC&quot;</td><td>&quot;M&quot;</td><td>&quot;SupplierF&quot;</td><td>&quot;Low_Units&quot;</td><td>&quot;Heavy_W&quot;</td><td>0.278497</td><td>12</td><td>0.023538</td><td>0.666667</td><td>0.721503</td><td>0.333333</td></tr><tr><td>&quot;Jacket&quot;</td><td>&quot;Wool&quot;</td><td>&quot;Method3&quot;</td><td>&quot;LayoutD&quot;</td><td>&quot;L&quot;</td><td>&quot;SupplierF&quot;</td><td>&quot;Low_Units&quot;</td><td>&quot;Heavy_W&quot;</td><td>0.28188</td><td>12</td><td>0.022931</td><td>0.666667</td><td>0.71812</td><td>0.333333</td></tr><tr><td>&quot;Skirt&quot;</td><td>&quot;Wool&quot;</td><td>&quot;Method3&quot;</td><td>&quot;LayoutB&quot;</td><td>&quot;L&quot;</td><td>&quot;SupplierF&quot;</td><td>&quot;Medium_Units&quot;</td><td>&quot;Medium_W&quot;</td><td>0.283543</td><td>12</td><td>0.015749</td><td>0.583333</td><td>0.716457</td><td>0.416667</td></tr><tr><td>&quot;Suit&quot;</td><td>&quot;Wool&quot;</td><td>&quot;Method3&quot;</td><td>&quot;LayoutD&quot;</td><td>&quot;L&quot;</td><td>&quot;SupplierF&quot;</td><td>&quot;Low_Units&quot;</td><td>&quot;Heavy_W&quot;</td><td>0.28602</td><td>10</td><td>0.064558</td><td>0.6</td><td>0.71398</td><td>0.4</td></tr><tr><td>&quot;Suit&quot;</td><td>&quot;Wool&quot;</td><td>&quot;Method3&quot;</td><td>&quot;LayoutE&quot;</td><td>&quot;M&quot;</td><td>&quot;SupplierF&quot;</td><td>&quot;Low_Units&quot;</td><td>&quot;Heavy_W&quot;</td><td>0.286454</td><td>13</td><td>0.048137</td><td>0.461538</td><td>0.713546</td><td>0.538462</td></tr><tr><td>&quot;Suit&quot;</td><td>&quot;Wool&quot;</td><td>&quot;Method3&quot;</td><td>&quot;LayoutE&quot;</td><td>&quot;S&quot;</td><td>&quot;SupplierD&quot;</td><td>&quot;Low_Units&quot;</td><td>&quot;Heavy_W&quot;</td><td>0.287658</td><td>10</td><td>0.041025</td><td>0.3</td><td>0.712342</td><td>0.7</td></tr><tr><td>&quot;Coat&quot;</td><td>&quot;Wool&quot;</td><td>&quot;Method3&quot;</td><td>&quot;LayoutD&quot;</td><td>&quot;M&quot;</td><td>&quot;SupplierD&quot;</td><td>&quot;Low_Units&quot;</td><td>&quot;Heavy_W&quot;</td><td>0.288047</td><td>12</td><td>0.050498</td><td>0.25</td><td>0.711953</td><td>0.75</td></tr><tr><td>&quot;Skirt&quot;</td><td>&quot;Wool&quot;</td><td>&quot;Method3&quot;</td><td>&quot;LayoutC&quot;</td><td>&quot;L&quot;</td><td>&quot;SupplierF&quot;</td><td>&quot;Medium_Units&quot;</td><td>&quot;Medium_W&quot;</td><td>0.289224</td><td>11</td><td>0.014814</td><td>0.272727</td><td>0.710776</td><td>0.727273</td></tr><tr><td>&quot;Jacket&quot;</td><td>&quot;Wool&quot;</td><td>&quot;Method3&quot;</td><td>&quot;LayoutC&quot;</td><td>&quot;M&quot;</td><td>&quot;SupplierF&quot;</td><td>&quot;Low_Units&quot;</td><td>&quot;Heavy_W&quot;</td><td>0.289334</td><td>13</td><td>0.025923</td><td>0.692308</td><td>0.710666</td><td>0.307692</td></tr><tr><td>&quot;Shirt&quot;</td><td>&quot;Silk&quot;</td><td>&quot;Method3&quot;</td><td>&quot;LayoutB&quot;</td><td>&quot;M&quot;</td><td>&quot;SupplierF&quot;</td><td>&quot;High_Units&quot;</td><td>&quot;Light_W&quot;</td><td>0.290133</td><td>16</td><td>0.064084</td><td>0.625</td><td>0.709867</td><td>0.375</td></tr><tr><td>&quot;Coat&quot;</td><td>&quot;Silk&quot;</td><td>&quot;Method3&quot;</td><td>&quot;LayoutE&quot;</td><td>&quot;M&quot;</td><td>&quot;SupplierC&quot;</td><td>&quot;Low_Units&quot;</td><td>&quot;Heavy_W&quot;</td><td>0.292099</td><td>10</td><td>0.014022</td><td>0.5</td><td>0.707901</td><td>0.5</td></tr><tr><td>&quot;Suit&quot;</td><td>&quot;Wool&quot;</td><td>&quot;Method3&quot;</td><td>&quot;LayoutE&quot;</td><td>&quot;XL&quot;</td><td>&quot;SupplierD&quot;</td><td>&quot;Low_Units&quot;</td><td>&quot;Heavy_W&quot;</td><td>0.293372</td><td>11</td><td>0.079313</td><td>0.636364</td><td>0.706628</td><td>0.363636</td></tr><tr><td>&quot;Shirt&quot;</td><td>&quot;Silk&quot;</td><td>&quot;Method3&quot;</td><td>&quot;LayoutB&quot;</td><td>&quot;M&quot;</td><td>&quot;SupplierH&quot;</td><td>&quot;High_Units&quot;</td><td>&quot;Light_W&quot;</td><td>0.293928</td><td>15</td><td>0.096426</td><td>0.666667</td><td>0.706072</td><td>0.333333</td></tr><tr><td>&quot;Suit&quot;</td><td>&quot;Wool&quot;</td><td>&quot;Method3&quot;</td><td>&quot;LayoutE&quot;</td><td>&quot;M&quot;</td><td>&quot;SupplierD&quot;</td><td>&quot;Low_Units&quot;</td><td>&quot;Heavy_W&quot;</td><td>0.294271</td><td>14</td><td>0.037036</td><td>0.5</td><td>0.705729</td><td>0.5</td></tr></tbody></table></div>"
      ],
      "text/plain": [
       "shape: (20, 14)\n",
       "┌───────────┬──────────┬───────────┬───────────┬───┬───────────┬───────────┬───────────┬───────────┐\n",
       "│ GarmentTy ┆ Material ┆ ProposedF ┆ ProposedL ┆ … ┆ StdDev_Pr ┆ Actual_Ob ┆ Model_Avg ┆ Actual_Ob │\n",
       "│ pe        ┆ ---      ┆ oldingMet ┆ ayout     ┆   ┆ obability ┆ served_GO ┆ _Probabil ┆ served_BA │\n",
       "│ ---       ┆ str      ┆ hod       ┆ ---       ┆   ┆ _GOOD_Sta ┆ OD_Rate   ┆ ity_BAD_S ┆ D_Rate    │\n",
       "│ str       ┆          ┆ ---       ┆ str       ┆   ┆ te        ┆ ---       ┆ tat…      ┆ ---       │\n",
       "│           ┆          ┆ str       ┆           ┆   ┆ ---       ┆ f64       ┆ ---       ┆ f64       │\n",
       "│           ┆          ┆           ┆           ┆   ┆ f64       ┆           ┆ f64       ┆           │\n",
       "╞═══════════╪══════════╪═══════════╪═══════════╪═══╪═══════════╪═══════════╪═══════════╪═══════════╡\n",
       "│ Hoodie    ┆ Wool     ┆ Method3   ┆ LayoutD   ┆ … ┆ 0.026476  ┆ 0.6       ┆ 0.750767  ┆ 0.4       │\n",
       "│ Suit      ┆ Wool     ┆ Method3   ┆ LayoutD   ┆ … ┆ 0.055674  ┆ 0.454545  ┆ 0.732528  ┆ 0.545455  │\n",
       "│ Coat      ┆ Wool     ┆ Method3   ┆ LayoutD   ┆ … ┆ 0.054778  ┆ 0.909091  ┆ 0.732392  ┆ 0.090909  │\n",
       "│ Coat      ┆ Wool     ┆ Method3   ┆ LayoutE   ┆ … ┆ 0.041331  ┆ 0.538462  ┆ 0.726989  ┆ 0.461538  │\n",
       "│ Coat      ┆ Silk     ┆ Method3   ┆ LayoutD   ┆ … ┆ 0.016554  ┆ 0.8       ┆ 0.725913  ┆ 0.2       │\n",
       "│ Suit      ┆ Wool     ┆ Method3   ┆ LayoutD   ┆ … ┆ 0.032047  ┆ 0.636364  ┆ 0.721801  ┆ 0.363636  │\n",
       "│ Sweater   ┆ Wool     ┆ Method3   ┆ LayoutC   ┆ … ┆ 0.023538  ┆ 0.666667  ┆ 0.721503  ┆ 0.333333  │\n",
       "│ Jacket    ┆ Wool     ┆ Method3   ┆ LayoutD   ┆ … ┆ 0.022931  ┆ 0.666667  ┆ 0.71812   ┆ 0.333333  │\n",
       "│ Skirt     ┆ Wool     ┆ Method3   ┆ LayoutB   ┆ … ┆ 0.015749  ┆ 0.583333  ┆ 0.716457  ┆ 0.416667  │\n",
       "│ Suit      ┆ Wool     ┆ Method3   ┆ LayoutD   ┆ … ┆ 0.064558  ┆ 0.6       ┆ 0.71398   ┆ 0.4       │\n",
       "│ Suit      ┆ Wool     ┆ Method3   ┆ LayoutE   ┆ … ┆ 0.048137  ┆ 0.461538  ┆ 0.713546  ┆ 0.538462  │\n",
       "│ Suit      ┆ Wool     ┆ Method3   ┆ LayoutE   ┆ … ┆ 0.041025  ┆ 0.3       ┆ 0.712342  ┆ 0.7       │\n",
       "│ Coat      ┆ Wool     ┆ Method3   ┆ LayoutD   ┆ … ┆ 0.050498  ┆ 0.25      ┆ 0.711953  ┆ 0.75      │\n",
       "│ Skirt     ┆ Wool     ┆ Method3   ┆ LayoutC   ┆ … ┆ 0.014814  ┆ 0.272727  ┆ 0.710776  ┆ 0.727273  │\n",
       "│ Jacket    ┆ Wool     ┆ Method3   ┆ LayoutC   ┆ … ┆ 0.025923  ┆ 0.692308  ┆ 0.710666  ┆ 0.307692  │\n",
       "│ Shirt     ┆ Silk     ┆ Method3   ┆ LayoutB   ┆ … ┆ 0.064084  ┆ 0.625     ┆ 0.709867  ┆ 0.375     │\n",
       "│ Coat      ┆ Silk     ┆ Method3   ┆ LayoutE   ┆ … ┆ 0.014022  ┆ 0.5       ┆ 0.707901  ┆ 0.5       │\n",
       "│ Suit      ┆ Wool     ┆ Method3   ┆ LayoutE   ┆ … ┆ 0.079313  ┆ 0.636364  ┆ 0.706628  ┆ 0.363636  │\n",
       "│ Shirt     ┆ Silk     ┆ Method3   ┆ LayoutB   ┆ … ┆ 0.096426  ┆ 0.666667  ┆ 0.706072  ┆ 0.333333  │\n",
       "│ Suit      ┆ Wool     ┆ Method3   ┆ LayoutE   ┆ … ┆ 0.037036  ┆ 0.5       ┆ 0.705729  ┆ 0.5       │\n",
       "└───────────┴──────────┴───────────┴───────────┴───┴───────────┴───────────┴───────────┴───────────┘"
      ]
     },
     "metadata": {},
     "output_type": "display_data"
    }
   ],
   "source": [
    "# Filter for combinations with a minimum number of packages for reliability\n",
    "min_packages_threshold = 10 # Adjust as needed\n",
    "\n",
    "# Combinations with highest modeled probability of being in a BAD state\n",
    "highest_risk_combinations = risk_index_df.filter(\n",
    "    pl.col('NumberOfPackages') >= min_packages_threshold\n",
    ").sort(by='Model_Avg_Probability_BAD_State', descending=True)\n",
    "\n",
    "print(f\"Top 20 combinations likely to be in a bad state\")\n",
    "with pl.Config(tbl_rows=20): # To control number of rows displayed\n",
    "    display(highest_risk_combinations.head(20))"
   ]
  },
  {
   "cell_type": "code",
   "execution_count": null,
   "id": "85ff7357",
   "metadata": {},
   "outputs": [
    {
     "name": "stdout",
     "output_type": "stream",
     "text": [
      "Top 20 combinations likely to be in a good state\n"
     ]
    },
    {
     "data": {
      "text/html": [
       "<div><style>\n",
       ".dataframe > thead > tr,\n",
       ".dataframe > tbody > tr {\n",
       "  text-align: right;\n",
       "  white-space: pre-wrap;\n",
       "}\n",
       "</style>\n",
       "<small>shape: (20, 14)</small><table border=\"1\" class=\"dataframe\"><thead><tr><th>GarmentType</th><th>Material</th><th>ProposedFoldingMethod</th><th>ProposedLayout</th><th>Size</th><th>SupplierName</th><th>UnitsPerCarton_Bin</th><th>Weight_Bin</th><th>Average_Probability_GOOD_State</th><th>NumberOfPackages</th><th>StdDev_Probability_GOOD_State</th><th>Actual_Observed_GOOD_Rate</th><th>Model_Avg_Probability_BAD_State</th><th>Actual_Observed_BAD_Rate</th></tr><tr><td>str</td><td>str</td><td>str</td><td>str</td><td>str</td><td>str</td><td>str</td><td>str</td><td>f64</td><td>u32</td><td>f64</td><td>f64</td><td>f64</td><td>f64</td></tr></thead><tbody><tr><td>&quot;Sweater&quot;</td><td>&quot;Cotton&quot;</td><td>&quot;Method1&quot;</td><td>&quot;LayoutD&quot;</td><td>&quot;S&quot;</td><td>&quot;SupplierA&quot;</td><td>&quot;Low_Units&quot;</td><td>&quot;Heavy_W&quot;</td><td>0.88121</td><td>26</td><td>0.027269</td><td>0.923077</td><td>0.11879</td><td>0.076923</td></tr><tr><td>&quot;Sweater&quot;</td><td>&quot;Cotton&quot;</td><td>&quot;Method2&quot;</td><td>&quot;LayoutD&quot;</td><td>&quot;S&quot;</td><td>&quot;SupplierA&quot;</td><td>&quot;Low_Units&quot;</td><td>&quot;Heavy_W&quot;</td><td>0.88116</td><td>22</td><td>0.029693</td><td>0.954545</td><td>0.11884</td><td>0.045455</td></tr><tr><td>&quot;Blouse&quot;</td><td>&quot;Polyester&quot;</td><td>&quot;Method2&quot;</td><td>&quot;LayoutA&quot;</td><td>&quot;L&quot;</td><td>&quot;SupplierA&quot;</td><td>&quot;High_Units&quot;</td><td>&quot;Light_W&quot;</td><td>0.87929</td><td>10</td><td>0.020248</td><td>1.0</td><td>0.12071</td><td>0.0</td></tr><tr><td>&quot;Shirt&quot;</td><td>&quot;Linen&quot;</td><td>&quot;Method3&quot;</td><td>&quot;LayoutA&quot;</td><td>&quot;S&quot;</td><td>&quot;SupplierA&quot;</td><td>&quot;High_Units&quot;</td><td>&quot;Light_W&quot;</td><td>0.878447</td><td>29</td><td>0.023696</td><td>1.0</td><td>0.121553</td><td>0.0</td></tr><tr><td>&quot;Sweater&quot;</td><td>&quot;Polyester&quot;</td><td>&quot;Method2&quot;</td><td>&quot;LayoutC&quot;</td><td>&quot;XL&quot;</td><td>&quot;SupplierA&quot;</td><td>&quot;Low_Units&quot;</td><td>&quot;Medium_W&quot;</td><td>0.877131</td><td>12</td><td>0.026543</td><td>1.0</td><td>0.122869</td><td>0.0</td></tr><tr><td>&quot;Blouse&quot;</td><td>&quot;Polyester&quot;</td><td>&quot;Method2&quot;</td><td>&quot;LayoutA&quot;</td><td>&quot;S&quot;</td><td>&quot;SupplierA&quot;</td><td>&quot;High_Units&quot;</td><td>&quot;Light_W&quot;</td><td>0.876336</td><td>11</td><td>0.023761</td><td>0.909091</td><td>0.123664</td><td>0.090909</td></tr><tr><td>&quot;Blouse&quot;</td><td>&quot;Linen&quot;</td><td>&quot;Method3&quot;</td><td>&quot;LayoutA&quot;</td><td>&quot;M&quot;</td><td>&quot;SupplierA&quot;</td><td>&quot;Medium_Units&quot;</td><td>&quot;Medium_W&quot;</td><td>0.876157</td><td>11</td><td>0.035587</td><td>0.727273</td><td>0.123843</td><td>0.272727</td></tr><tr><td>&quot;T-Shirt&quot;</td><td>&quot;Linen&quot;</td><td>&quot;Method3&quot;</td><td>&quot;LayoutB&quot;</td><td>&quot;S&quot;</td><td>&quot;SupplierA&quot;</td><td>&quot;High_Units&quot;</td><td>&quot;Light_W&quot;</td><td>0.87574</td><td>16</td><td>0.02576</td><td>1.0</td><td>0.12426</td><td>0.0</td></tr><tr><td>&quot;Sweater&quot;</td><td>&quot;Polyester&quot;</td><td>&quot;Method1&quot;</td><td>&quot;LayoutB&quot;</td><td>&quot;M&quot;</td><td>&quot;SupplierA&quot;</td><td>&quot;Low_Units&quot;</td><td>&quot;Medium_W&quot;</td><td>0.874945</td><td>24</td><td>0.025927</td><td>0.916667</td><td>0.125055</td><td>0.083333</td></tr><tr><td>&quot;Shirt&quot;</td><td>&quot;Linen&quot;</td><td>&quot;Method2&quot;</td><td>&quot;LayoutB&quot;</td><td>&quot;XS&quot;</td><td>&quot;SupplierA&quot;</td><td>&quot;High_Units&quot;</td><td>&quot;Light_W&quot;</td><td>0.874244</td><td>10</td><td>0.020977</td><td>1.0</td><td>0.125756</td><td>0.0</td></tr><tr><td>&quot;Sweater&quot;</td><td>&quot;Cotton&quot;</td><td>&quot;Method1&quot;</td><td>&quot;LayoutD&quot;</td><td>&quot;L&quot;</td><td>&quot;SupplierA&quot;</td><td>&quot;Low_Units&quot;</td><td>&quot;Heavy_W&quot;</td><td>0.874188</td><td>49</td><td>0.018767</td><td>0.897959</td><td>0.125812</td><td>0.102041</td></tr><tr><td>&quot;Skirt&quot;</td><td>&quot;Polyester&quot;</td><td>&quot;Method2&quot;</td><td>&quot;LayoutA&quot;</td><td>&quot;S&quot;</td><td>&quot;SupplierA&quot;</td><td>&quot;Medium_Units&quot;</td><td>&quot;Medium_W&quot;</td><td>0.872058</td><td>10</td><td>0.02238</td><td>0.9</td><td>0.127942</td><td>0.1</td></tr><tr><td>&quot;Hoodie&quot;</td><td>&quot;Polyester&quot;</td><td>&quot;Method2&quot;</td><td>&quot;LayoutD&quot;</td><td>&quot;S&quot;</td><td>&quot;SupplierA&quot;</td><td>&quot;Low_Units&quot;</td><td>&quot;Heavy_W&quot;</td><td>0.871873</td><td>12</td><td>0.020102</td><td>0.833333</td><td>0.128127</td><td>0.166667</td></tr><tr><td>&quot;T-Shirt&quot;</td><td>&quot;Linen&quot;</td><td>&quot;Method2&quot;</td><td>&quot;LayoutB&quot;</td><td>&quot;S&quot;</td><td>&quot;SupplierA&quot;</td><td>&quot;High_Units&quot;</td><td>&quot;Light_W&quot;</td><td>0.871837</td><td>21</td><td>0.028651</td><td>0.857143</td><td>0.128163</td><td>0.142857</td></tr><tr><td>&quot;Shorts&quot;</td><td>&quot;Cotton&quot;</td><td>&quot;Method1&quot;</td><td>&quot;LayoutC&quot;</td><td>&quot;S&quot;</td><td>&quot;SupplierA&quot;</td><td>&quot;High_Units&quot;</td><td>&quot;Medium_W&quot;</td><td>0.87147</td><td>11</td><td>0.026294</td><td>0.909091</td><td>0.12853</td><td>0.090909</td></tr><tr><td>&quot;Sweater&quot;</td><td>&quot;Polyester&quot;</td><td>&quot;Method1&quot;</td><td>&quot;LayoutB&quot;</td><td>&quot;S&quot;</td><td>&quot;SupplierA&quot;</td><td>&quot;Low_Units&quot;</td><td>&quot;Medium_W&quot;</td><td>0.871366</td><td>20</td><td>0.024827</td><td>0.95</td><td>0.128634</td><td>0.05</td></tr><tr><td>&quot;Skirt&quot;</td><td>&quot;Denim&quot;</td><td>&quot;Method2&quot;</td><td>&quot;LayoutC&quot;</td><td>&quot;L&quot;</td><td>&quot;SupplierA&quot;</td><td>&quot;Medium_Units&quot;</td><td>&quot;Medium_W&quot;</td><td>0.870721</td><td>28</td><td>0.031575</td><td>0.928571</td><td>0.129279</td><td>0.071429</td></tr><tr><td>&quot;Sweater&quot;</td><td>&quot;Cotton&quot;</td><td>&quot;Method2&quot;</td><td>&quot;LayoutC&quot;</td><td>&quot;S&quot;</td><td>&quot;SupplierA&quot;</td><td>&quot;Low_Units&quot;</td><td>&quot;Heavy_W&quot;</td><td>0.869855</td><td>25</td><td>0.025169</td><td>1.0</td><td>0.130145</td><td>0.0</td></tr><tr><td>&quot;Sweater&quot;</td><td>&quot;Polyester&quot;</td><td>&quot;Method1&quot;</td><td>&quot;LayoutC&quot;</td><td>&quot;S&quot;</td><td>&quot;SupplierA&quot;</td><td>&quot;Low_Units&quot;</td><td>&quot;Medium_W&quot;</td><td>0.869675</td><td>22</td><td>0.021781</td><td>0.954545</td><td>0.130325</td><td>0.045455</td></tr><tr><td>&quot;Sweater&quot;</td><td>&quot;Polyester&quot;</td><td>&quot;Method1&quot;</td><td>&quot;LayoutC&quot;</td><td>&quot;M&quot;</td><td>&quot;SupplierA&quot;</td><td>&quot;Low_Units&quot;</td><td>&quot;Medium_W&quot;</td><td>0.869454</td><td>23</td><td>0.022129</td><td>0.913043</td><td>0.130546</td><td>0.086957</td></tr></tbody></table></div>"
      ],
      "text/plain": [
       "shape: (20, 14)\n",
       "┌───────────┬───────────┬───────────┬───────────┬───┬───────────┬───────────┬───────────┬──────────┐\n",
       "│ GarmentTy ┆ Material  ┆ ProposedF ┆ ProposedL ┆ … ┆ StdDev_Pr ┆ Actual_Ob ┆ Model_Avg ┆ Actual_O │\n",
       "│ pe        ┆ ---       ┆ oldingMet ┆ ayout     ┆   ┆ obability ┆ served_GO ┆ _Probabil ┆ bserved_ │\n",
       "│ ---       ┆ str       ┆ hod       ┆ ---       ┆   ┆ _GOOD_Sta ┆ OD_Rate   ┆ ity_BAD_S ┆ BAD_Rate │\n",
       "│ str       ┆           ┆ ---       ┆ str       ┆   ┆ te        ┆ ---       ┆ tat…      ┆ ---      │\n",
       "│           ┆           ┆ str       ┆           ┆   ┆ ---       ┆ f64       ┆ ---       ┆ f64      │\n",
       "│           ┆           ┆           ┆           ┆   ┆ f64       ┆           ┆ f64       ┆          │\n",
       "╞═══════════╪═══════════╪═══════════╪═══════════╪═══╪═══════════╪═══════════╪═══════════╪══════════╡\n",
       "│ Sweater   ┆ Cotton    ┆ Method1   ┆ LayoutD   ┆ … ┆ 0.027269  ┆ 0.923077  ┆ 0.11879   ┆ 0.076923 │\n",
       "│ Sweater   ┆ Cotton    ┆ Method2   ┆ LayoutD   ┆ … ┆ 0.029693  ┆ 0.954545  ┆ 0.11884   ┆ 0.045455 │\n",
       "│ Blouse    ┆ Polyester ┆ Method2   ┆ LayoutA   ┆ … ┆ 0.020248  ┆ 1.0       ┆ 0.12071   ┆ 0.0      │\n",
       "│ Shirt     ┆ Linen     ┆ Method3   ┆ LayoutA   ┆ … ┆ 0.023696  ┆ 1.0       ┆ 0.121553  ┆ 0.0      │\n",
       "│ Sweater   ┆ Polyester ┆ Method2   ┆ LayoutC   ┆ … ┆ 0.026543  ┆ 1.0       ┆ 0.122869  ┆ 0.0      │\n",
       "│ Blouse    ┆ Polyester ┆ Method2   ┆ LayoutA   ┆ … ┆ 0.023761  ┆ 0.909091  ┆ 0.123664  ┆ 0.090909 │\n",
       "│ Blouse    ┆ Linen     ┆ Method3   ┆ LayoutA   ┆ … ┆ 0.035587  ┆ 0.727273  ┆ 0.123843  ┆ 0.272727 │\n",
       "│ T-Shirt   ┆ Linen     ┆ Method3   ┆ LayoutB   ┆ … ┆ 0.02576   ┆ 1.0       ┆ 0.12426   ┆ 0.0      │\n",
       "│ Sweater   ┆ Polyester ┆ Method1   ┆ LayoutB   ┆ … ┆ 0.025927  ┆ 0.916667  ┆ 0.125055  ┆ 0.083333 │\n",
       "│ Shirt     ┆ Linen     ┆ Method2   ┆ LayoutB   ┆ … ┆ 0.020977  ┆ 1.0       ┆ 0.125756  ┆ 0.0      │\n",
       "│ Sweater   ┆ Cotton    ┆ Method1   ┆ LayoutD   ┆ … ┆ 0.018767  ┆ 0.897959  ┆ 0.125812  ┆ 0.102041 │\n",
       "│ Skirt     ┆ Polyester ┆ Method2   ┆ LayoutA   ┆ … ┆ 0.02238   ┆ 0.9       ┆ 0.127942  ┆ 0.1      │\n",
       "│ Hoodie    ┆ Polyester ┆ Method2   ┆ LayoutD   ┆ … ┆ 0.020102  ┆ 0.833333  ┆ 0.128127  ┆ 0.166667 │\n",
       "│ T-Shirt   ┆ Linen     ┆ Method2   ┆ LayoutB   ┆ … ┆ 0.028651  ┆ 0.857143  ┆ 0.128163  ┆ 0.142857 │\n",
       "│ Shorts    ┆ Cotton    ┆ Method1   ┆ LayoutC   ┆ … ┆ 0.026294  ┆ 0.909091  ┆ 0.12853   ┆ 0.090909 │\n",
       "│ Sweater   ┆ Polyester ┆ Method1   ┆ LayoutB   ┆ … ┆ 0.024827  ┆ 0.95      ┆ 0.128634  ┆ 0.05     │\n",
       "│ Skirt     ┆ Denim     ┆ Method2   ┆ LayoutC   ┆ … ┆ 0.031575  ┆ 0.928571  ┆ 0.129279  ┆ 0.071429 │\n",
       "│ Sweater   ┆ Cotton    ┆ Method2   ┆ LayoutC   ┆ … ┆ 0.025169  ┆ 1.0       ┆ 0.130145  ┆ 0.0      │\n",
       "│ Sweater   ┆ Polyester ┆ Method1   ┆ LayoutC   ┆ … ┆ 0.021781  ┆ 0.954545  ┆ 0.130325  ┆ 0.045455 │\n",
       "│ Sweater   ┆ Polyester ┆ Method1   ┆ LayoutC   ┆ … ┆ 0.022129  ┆ 0.913043  ┆ 0.130546  ┆ 0.086957 │\n",
       "└───────────┴───────────┴───────────┴───────────┴───┴───────────┴───────────┴───────────┴──────────┘"
      ]
     },
     "metadata": {},
     "output_type": "display_data"
    }
   ],
   "source": [
    "# Sort by Average_Probability_GOOD_State (descending) to see lowest risk\n",
    "\n",
    "# Combinations with highest modeled probability of being in a GOOD state\n",
    "lowest_risk_combinations = risk_index_df.filter(\n",
    "    pl.col('NumberOfPackages') >= min_packages_threshold\n",
    ").sort(by='Average_Probability_GOOD_State', descending=True)\n",
    "\n",
    "print(f\"Top 20 combinations likely to be in a good state\")\n",
    "with pl.Config(tbl_rows=20):\n",
    "    display(lowest_risk_combinations.head(20))"
   ]
  }
 ],
 "metadata": {
  "kernelspec": {
   "display_name": "base",
   "language": "python",
   "name": "python3"
  },
  "language_info": {
   "codemirror_mode": {
    "name": "ipython",
    "version": 3
   },
   "file_extension": ".py",
   "mimetype": "text/x-python",
   "name": "python",
   "nbconvert_exporter": "python",
   "pygments_lexer": "ipython3",
   "version": "3.11.5"
  }
 },
 "nbformat": 4,
 "nbformat_minor": 5
}
