{
 "cells": [
  {
   "cell_type": "markdown",
   "metadata": {
    "id": "E_9nryk7DPtX"
   },
   "source": [
    "# Data cleaning"
   ]
  },
  {
   "cell_type": "markdown",
   "metadata": {
    "id": "S8CeEnkfD0yL"
   },
   "source": [
    "This code is specically desgined to clean the data provided by CapGemini for the Capstone Project 2025"
   ]
  },
  {
   "cell_type": "markdown",
   "metadata": {
    "id": "GJHWKhpBFLSZ"
   },
   "source": [
    "## Libraries import"
   ]
  },
  {
   "cell_type": "code",
   "execution_count": 15,
   "metadata": {
    "executionInfo": {
     "elapsed": 2725,
     "status": "ok",
     "timestamp": 1744902182031,
     "user": {
      "displayName": "Francisco",
      "userId": "11190877053062531761"
     },
     "user_tz": 300
    },
    "id": "Z_JWQ-EZFOd0"
   },
   "outputs": [],
   "source": [
    "import pandas as pd\n",
    "import polars as pl"
   ]
  },
  {
   "cell_type": "markdown",
   "metadata": {
    "id": "l751Y4pzFSGQ"
   },
   "source": [
    "## Global variables"
   ]
  },
  {
   "cell_type": "code",
   "execution_count": 17,
   "metadata": {
    "executionInfo": {
     "elapsed": 15,
     "status": "ok",
     "timestamp": 1744904221904,
     "user": {
      "displayName": "Francisco",
      "userId": "11190877053062531761"
     },
     "user_tz": 300
    },
    "id": "2r_OfAHoFWCq"
   },
   "outputs": [],
   "source": [
    "PATH_DENSITY_REPORT       = 'DensityReports.xlsx'\n",
    "PATH_HISTORICAL_INCIDENTS = 'HistoricalIncidents.xlsx'\n",
    "PATH_PRODUCT_ATTRIBUTES   = 'ProductAttributes.xlsx'\n",
    "PATH_SUPPLIER_SCORECARD   = 'SupplierScorecard.xlsx'\n",
    "\n",
    "EXPORT_DENSITY_REPORT       = 'density_report.csv'\n",
    "EXPORT_HISTORICAL_INCIDENTS = 'historical_incidents.csv'\n",
    "EXPORT_PRODUCT_ATTRIBUTES   = 'product_attributes.csv'\n",
    "EXPORT_SUPPLIER_SCORECARD   = 'supplier_scorecard.csv'"
   ]
  },
  {
   "cell_type": "markdown",
   "metadata": {
    "id": "sngLbxheFs0s"
   },
   "source": [
    "## Execution"
   ]
  },
  {
   "cell_type": "markdown",
   "metadata": {
    "id": "h23cwY4AFwlb"
   },
   "source": [
    "### 1. Density Report"
   ]
  },
  {
   "cell_type": "code",
   "execution_count": 18,
   "metadata": {
    "executionInfo": {
     "elapsed": 80893,
     "status": "ok",
     "timestamp": 1744902443731,
     "user": {
      "displayName": "Francisco",
      "userId": "11190877053062531761"
     },
     "user_tz": 300
    },
    "id": "mX7OUbB3Fvmi"
   },
   "outputs": [],
   "source": [
    "# Read excel file of density report\n",
    "df_density_report = pl.from_pandas(pd.read_excel(PATH_DENSITY_REPORT))\n",
    "\n",
    "# Suppliers' strings corrections\n",
    "corrections = {\n",
    "    \"SuplierA\": \"SupplierA\",\n",
    "    \"SuplierB\": \"SupplierB\",\n",
    "    \"SuplierC\": \"SupplierC\"\n",
    "}\n",
    "\n",
    "df_density_report = df_density_report.with_columns([\n",
    "    pl.col(\"SupplierName\").replace(corrections).alias(\"SupplierName\")\n",
    "])\n",
    "\n",
    "# Replace incorrect unit values to null\n",
    "df_density_report = df_density_report.with_columns([\n",
    "    pl.when(\n",
    "        (pl.col(\"ProposedUnitsPerCarton\") <= -5) | (pl.col(\"ProposedUnitsPerCarton\") >= 50)\n",
    "    )\n",
    "    .then(None)\n",
    "    .otherwise(pl.col(\"ProposedUnitsPerCarton\"))\n",
    "    .alias(\"ProposedUnitsPerCarton\")\n",
    "])\n",
    "\n",
    "# Replace the \"Unknown\" values to null\n",
    "df_density_report = df_density_report.with_columns([\n",
    "    pl.when(pl.col(\"ProposedFoldingMethod\") == \"Unknown\")\n",
    "    .then(None)\n",
    "    .otherwise(pl.col(\"ProposedFoldingMethod\"))\n",
    "    .alias(\"ProposedFoldingMethod\")\n",
    "])\n",
    "\n"
   ]
  },
  {
   "cell_type": "markdown",
   "metadata": {
    "id": "IjEfI6mnUI5_"
   },
   "source": [
    "### 2. Historical Incidents"
   ]
  },
  {
   "cell_type": "markdown",
   "metadata": {
    "id": "BuL-BBQBUrDq"
   },
   "source": [
    "There is no need to clean this dataset"
   ]
  },
  {
   "cell_type": "code",
   "execution_count": 19,
   "metadata": {
    "executionInfo": {
     "elapsed": 1607,
     "status": "ok",
     "timestamp": 1744902895257,
     "user": {
      "displayName": "Francisco",
      "userId": "11190877053062531761"
     },
     "user_tz": 300
    },
    "id": "ckTJgzGzUOiZ"
   },
   "outputs": [],
   "source": [
    "# Read excel file of historical incidents\n",
    "df_historical_incidents = pl.from_pandas(pd.read_excel(PATH_HISTORICAL_INCIDENTS))"
   ]
  },
  {
   "cell_type": "markdown",
   "metadata": {
    "id": "T4vmAYqoVHzI"
   },
   "source": [
    "### 3. Product Attributes"
   ]
  },
  {
   "cell_type": "markdown",
   "metadata": {
    "id": "WBaiu_s6Wk7w"
   },
   "source": [
    "There is no need to clean this dataset"
   ]
  },
  {
   "cell_type": "code",
   "execution_count": 20,
   "metadata": {
    "executionInfo": {
     "elapsed": 916,
     "status": "ok",
     "timestamp": 1744903305591,
     "user": {
      "displayName": "Francisco",
      "userId": "11190877053062531761"
     },
     "user_tz": 300
    },
    "id": "tcViNNZ6ViKF"
   },
   "outputs": [],
   "source": [
    "# Read excel file of product attributes\n",
    "df_product_attributes = pl.from_pandas(pd.read_excel(PATH_PRODUCT_ATTRIBUTES))"
   ]
  },
  {
   "cell_type": "markdown",
   "metadata": {
    "id": "kNl3APC6WmW9"
   },
   "source": [
    "### 4. Supplier Scorecard"
   ]
  },
  {
   "cell_type": "code",
   "execution_count": 21,
   "metadata": {
    "executionInfo": {
     "elapsed": 1104,
     "status": "ok",
     "timestamp": 1744904290534,
     "user": {
      "displayName": "Francisco",
      "userId": "11190877053062531761"
     },
     "user_tz": 300
    },
    "id": "Dr_Z0fXhWvFe"
   },
   "outputs": [],
   "source": [
    "# Read excel file of supplier scorecard\n",
    "df_supplier_scorecard = pl.from_pandas(pd.read_excel(PATH_SUPPLIER_SCORECARD))"
   ]
  },
  {
   "cell_type": "markdown",
   "metadata": {
    "id": "3_JSwsA1X8Xj"
   },
   "source": [
    "## Export"
   ]
  },
  {
   "cell_type": "code",
   "execution_count": 22,
   "metadata": {
    "executionInfo": {
     "elapsed": 660,
     "status": "ok",
     "timestamp": 1744904291953,
     "user": {
      "displayName": "Francisco",
      "userId": "11190877053062531761"
     },
     "user_tz": 300
    },
    "id": "jnJWbLRWX6x-"
   },
   "outputs": [],
   "source": [
    "df_density_report.write_csv(EXPORT_DENSITY_REPORT, separator=\";\")\n",
    "df_historical_incidents.write_csv(EXPORT_HISTORICAL_INCIDENTS, separator=\";\")\n",
    "df_product_attributes.write_csv(EXPORT_PRODUCT_ATTRIBUTES, separator=\";\")\n",
    "df_supplier_scorecard.write_csv(EXPORT_SUPPLIER_SCORECARD, separator=\";\")"
   ]
  }
 ],
 "metadata": {
  "colab": {
   "authorship_tag": "ABX9TyM6c1f+oTll6BE6cRh5MCuZ",
   "provenance": []
  },
  "kernelspec": {
   "display_name": "base",
   "language": "python",
   "name": "python3"
  },
  "language_info": {
   "codemirror_mode": {
    "name": "ipython",
    "version": 3
   },
   "file_extension": ".py",
   "mimetype": "text/x-python",
   "name": "python",
   "nbconvert_exporter": "python",
   "pygments_lexer": "ipython3",
   "version": "3.11.5"
  }
 },
 "nbformat": 4,
 "nbformat_minor": 0
}
