{
 "cells": [
  {
   "cell_type": "markdown",
   "id": "e29695aa",
   "metadata": {},
   "source": [
    "# Feature Engineering & Model's"
   ]
  },
  {
   "cell_type": "markdown",
   "id": "60a7e9f0",
   "metadata": {},
   "source": [
    "## Libraries"
   ]
  },
  {
   "cell_type": "code",
   "execution_count": 1,
   "id": "e4a8451a",
   "metadata": {},
   "outputs": [
    {
     "name": "stderr",
     "output_type": "stream",
     "text": [
      "/Users/ulisesgordillo/anaconda3/lib/python3.11/site-packages/pandas/core/arrays/masked.py:60: UserWarning: Pandas requires version '1.3.6' or newer of 'bottleneck' (version '1.3.5' currently installed).\n",
      "  from pandas.core import (\n"
     ]
    }
   ],
   "source": [
    "import pandas as pd\n",
    "import polars as pl\n",
    "import numpy as np\n",
    "import re"
   ]
  },
  {
   "cell_type": "markdown",
   "id": "f44974e3",
   "metadata": {},
   "source": [
    "## Import data"
   ]
  },
  {
   "cell_type": "code",
   "execution_count": 2,
   "id": "51c60ea7",
   "metadata": {},
   "outputs": [
    {
     "name": "stdout",
     "output_type": "stream",
     "text": [
      "Current working directory: /Users/ulisesgordillo/Downloads/capstone/notebooks\n",
      "Current working directory: /Users/ulisesgordillo/Downloads/capstone/clean_data\n"
     ]
    }
   ],
   "source": [
    "#get cwd    \n",
    "import os\n",
    "cwd = os.getcwd()\n",
    "print(f\"Current working directory: {cwd}\")\n",
    "\n",
    "#change to  /Users/ulisesgordillo/Downloads/capstone/data\n",
    "os.chdir('/Users/ulisesgordillo/Downloads/capstone/clean_data')\n",
    "cwd = os.getcwd()\n",
    "print(f\"Current working directory: {cwd}\")\n",
    "\n"
   ]
  },
  {
   "cell_type": "code",
   "execution_count": 3,
   "id": "627cb4b8",
   "metadata": {},
   "outputs": [
    {
     "name": "stderr",
     "output_type": "stream",
     "text": [
      "Could not determine dtype for column 13, falling back to string\n",
      "Could not determine dtype for column 14, falling back to string\n",
      "Could not determine dtype for column 15, falling back to string\n"
     ]
    }
   ],
   "source": [
    "#read data with polars\n",
    "df = pl.read_excel('full_join.xlsx', sheet_name='Sheet1')"
   ]
  },
  {
   "cell_type": "code",
   "execution_count": 4,
   "id": "787f870b",
   "metadata": {},
   "outputs": [
    {
     "data": {
      "text/plain": [
       "(475629, 23)"
      ]
     },
     "execution_count": 4,
     "metadata": {},
     "output_type": "execute_result"
    }
   ],
   "source": [
    "df.shape\n"
   ]
  },
  {
   "cell_type": "code",
   "execution_count": 5,
   "id": "70ab6db5",
   "metadata": {},
   "outputs": [
    {
     "data": {
      "text/html": [
       "<div><style>\n",
       ".dataframe > thead > tr,\n",
       ".dataframe > tbody > tr {\n",
       "  text-align: right;\n",
       "  white-space: pre-wrap;\n",
       "}\n",
       "</style>\n",
       "<small>shape: (5, 23)</small><table border=\"1\" class=\"dataframe\"><thead><tr><th>ReportID</th><th>ProductReference</th><th>DateOfReport</th><th>SupplierName</th><th>GarmentType</th><th>Material</th><th>Weight</th><th>ProposedUnitsPerCarton</th><th>ProposedFoldingMethod</th><th>ProposedLayout</th><th>PackagingQuality</th><th>Size</th><th>Collection</th><th>IssueDescription</th><th>ResolutionStatus</th><th>CostImpact (€)</th><th>PreviousMonth</th><th>PackagesHandled</th><th>TotalIncidents</th><th>AnomaliesDetected</th><th>BadPackagingRate (%)</th><th>OnTimeDeliveryRate (%)</th><th>AverageCostPerIncident (€)</th></tr><tr><td>str</td><td>str</td><td>date</td><td>str</td><td>str</td><td>str</td><td>f64</td><td>i64</td><td>str</td><td>str</td><td>str</td><td>str</td><td>str</td><td>str</td><td>str</td><td>str</td><td>str</td><td>i64</td><td>i64</td><td>i64</td><td>f64</td><td>f64</td><td>f64</td></tr></thead><tbody><tr><td>&quot;RPT0000001&quot;</td><td>&quot;PRD07271&quot;</td><td>2024-03-04</td><td>&quot;SupplierA&quot;</td><td>&quot;Pants&quot;</td><td>&quot;Polyester&quot;</td><td>0.35</td><td>29</td><td>&quot;Method2&quot;</td><td>&quot;LayoutC&quot;</td><td>&quot;Good&quot;</td><td>&quot;S&quot;</td><td>&quot;Winter&quot;</td><td>null</td><td>null</td><td>null</td><td>&quot;2024-02&quot;</td><td>7541</td><td>173</td><td>20</td><td>8.09</td><td>86.03</td><td>509.15</td></tr><tr><td>&quot;RPT0000002&quot;</td><td>&quot;PRD00861&quot;</td><td>2024-05-27</td><td>&quot;SupplierC&quot;</td><td>&quot;T-Shirt&quot;</td><td>&quot;Denim&quot;</td><td>0.21</td><td>20</td><td>&quot;Method2&quot;</td><td>&quot;LayoutB&quot;</td><td>&quot;Good&quot;</td><td>&quot;M&quot;</td><td>&quot;Winter&quot;</td><td>null</td><td>null</td><td>null</td><td>&quot;2024-04&quot;</td><td>4216</td><td>181</td><td>32</td><td>27.26</td><td>75.51</td><td>527.23</td></tr><tr><td>&quot;RPT0000003&quot;</td><td>&quot;PRD05391&quot;</td><td>2023-11-18</td><td>&quot;SupplierA&quot;</td><td>&quot;Shirt&quot;</td><td>&quot;Cotton&quot;</td><td>0.2</td><td>31</td><td>&quot;Method1&quot;</td><td>&quot;LayoutA&quot;</td><td>&quot;Good&quot;</td><td>&quot;S&quot;</td><td>&quot;Winter&quot;</td><td>null</td><td>null</td><td>null</td><td>&quot;2023-10&quot;</td><td>7933</td><td>167</td><td>22</td><td>8.7</td><td>85.31</td><td>534.7</td></tr><tr><td>&quot;RPT0000004&quot;</td><td>&quot;PRD05192&quot;</td><td>2024-06-13</td><td>&quot;SupplierA&quot;</td><td>&quot;Coat&quot;</td><td>&quot;Cotton&quot;</td><td>1.3</td><td>5</td><td>&quot;Method1&quot;</td><td>&quot;LayoutD&quot;</td><td>&quot;Good&quot;</td><td>&quot;XL&quot;</td><td>&quot;Winter&quot;</td><td>null</td><td>null</td><td>null</td><td>&quot;2024-05&quot;</td><td>8002</td><td>158</td><td>19</td><td>8.53</td><td>88.26</td><td>531.85</td></tr><tr><td>&quot;RPT0000005&quot;</td><td>&quot;PRD05735&quot;</td><td>2023-07-18</td><td>&quot;SupplierA&quot;</td><td>&quot;Coat&quot;</td><td>&quot;Polyester&quot;</td><td>1.11</td><td>9</td><td>&quot;Method2&quot;</td><td>&quot;LayoutD&quot;</td><td>&quot;Good&quot;</td><td>&quot;M&quot;</td><td>&quot;Autumn&quot;</td><td>null</td><td>null</td><td>null</td><td>&quot;2023-06&quot;</td><td>7669</td><td>154</td><td>22</td><td>8.4</td><td>91.79</td><td>629.89</td></tr></tbody></table></div>"
      ],
      "text/plain": [
       "shape: (5, 23)\n",
       "┌───────────┬───────────┬───────────┬───────────┬───┬───────────┬───────────┬───────────┬──────────┐\n",
       "│ ReportID  ┆ ProductRe ┆ DateOfRep ┆ SupplierN ┆ … ┆ Anomalies ┆ BadPackag ┆ OnTimeDel ┆ AverageC │\n",
       "│ ---       ┆ ference   ┆ ort       ┆ ame       ┆   ┆ Detected  ┆ ingRate   ┆ iveryRate ┆ ostPerIn │\n",
       "│ str       ┆ ---       ┆ ---       ┆ ---       ┆   ┆ ---       ┆ (%)       ┆ (%)       ┆ cident   │\n",
       "│           ┆ str       ┆ date      ┆ str       ┆   ┆ i64       ┆ ---       ┆ ---       ┆ (€)      │\n",
       "│           ┆           ┆           ┆           ┆   ┆           ┆ f64       ┆ f64       ┆ ---      │\n",
       "│           ┆           ┆           ┆           ┆   ┆           ┆           ┆           ┆ f64      │\n",
       "╞═══════════╪═══════════╪═══════════╪═══════════╪═══╪═══════════╪═══════════╪═══════════╪══════════╡\n",
       "│ RPT000000 ┆ PRD07271  ┆ 2024-03-0 ┆ SupplierA ┆ … ┆ 20        ┆ 8.09      ┆ 86.03     ┆ 509.15   │\n",
       "│ 1         ┆           ┆ 4         ┆           ┆   ┆           ┆           ┆           ┆          │\n",
       "│ RPT000000 ┆ PRD00861  ┆ 2024-05-2 ┆ SupplierC ┆ … ┆ 32        ┆ 27.26     ┆ 75.51     ┆ 527.23   │\n",
       "│ 2         ┆           ┆ 7         ┆           ┆   ┆           ┆           ┆           ┆          │\n",
       "│ RPT000000 ┆ PRD05391  ┆ 2023-11-1 ┆ SupplierA ┆ … ┆ 22        ┆ 8.7       ┆ 85.31     ┆ 534.7    │\n",
       "│ 3         ┆           ┆ 8         ┆           ┆   ┆           ┆           ┆           ┆          │\n",
       "│ RPT000000 ┆ PRD05192  ┆ 2024-06-1 ┆ SupplierA ┆ … ┆ 19        ┆ 8.53      ┆ 88.26     ┆ 531.85   │\n",
       "│ 4         ┆           ┆ 3         ┆           ┆   ┆           ┆           ┆           ┆          │\n",
       "│ RPT000000 ┆ PRD05735  ┆ 2023-07-1 ┆ SupplierA ┆ … ┆ 22        ┆ 8.4       ┆ 91.79     ┆ 629.89   │\n",
       "│ 5         ┆           ┆ 8         ┆           ┆   ┆           ┆           ┆           ┆          │\n",
       "└───────────┴───────────┴───────────┴───────────┴───┴───────────┴───────────┴───────────┴──────────┘"
      ]
     },
     "execution_count": 5,
     "metadata": {},
     "output_type": "execute_result"
    }
   ],
   "source": [
    "df.head(5)"
   ]
  },
  {
   "cell_type": "code",
   "execution_count": 6,
   "id": "2010f946",
   "metadata": {},
   "outputs": [
    {
     "data": {
      "text/html": [
       "<div>\n",
       "<style scoped>\n",
       "    .dataframe tbody tr th:only-of-type {\n",
       "        vertical-align: middle;\n",
       "    }\n",
       "\n",
       "    .dataframe tbody tr th {\n",
       "        vertical-align: top;\n",
       "    }\n",
       "\n",
       "    .dataframe thead th {\n",
       "        text-align: right;\n",
       "    }\n",
       "</style>\n",
       "<table border=\"1\" class=\"dataframe\">\n",
       "  <thead>\n",
       "    <tr style=\"text-align: right;\">\n",
       "      <th></th>\n",
       "      <th>0</th>\n",
       "    </tr>\n",
       "  </thead>\n",
       "  <tbody>\n",
       "    <tr>\n",
       "      <th>ReportID</th>\n",
       "      <td>0</td>\n",
       "    </tr>\n",
       "    <tr>\n",
       "      <th>ProductReference</th>\n",
       "      <td>0</td>\n",
       "    </tr>\n",
       "    <tr>\n",
       "      <th>DateOfReport</th>\n",
       "      <td>0</td>\n",
       "    </tr>\n",
       "    <tr>\n",
       "      <th>SupplierName</th>\n",
       "      <td>0</td>\n",
       "    </tr>\n",
       "    <tr>\n",
       "      <th>GarmentType</th>\n",
       "      <td>0</td>\n",
       "    </tr>\n",
       "    <tr>\n",
       "      <th>Material</th>\n",
       "      <td>0</td>\n",
       "    </tr>\n",
       "    <tr>\n",
       "      <th>Weight</th>\n",
       "      <td>0</td>\n",
       "    </tr>\n",
       "    <tr>\n",
       "      <th>ProposedUnitsPerCarton</th>\n",
       "      <td>0</td>\n",
       "    </tr>\n",
       "    <tr>\n",
       "      <th>ProposedFoldingMethod</th>\n",
       "      <td>0</td>\n",
       "    </tr>\n",
       "    <tr>\n",
       "      <th>ProposedLayout</th>\n",
       "      <td>0</td>\n",
       "    </tr>\n",
       "    <tr>\n",
       "      <th>PackagingQuality</th>\n",
       "      <td>0</td>\n",
       "    </tr>\n",
       "    <tr>\n",
       "      <th>Size</th>\n",
       "      <td>0</td>\n",
       "    </tr>\n",
       "    <tr>\n",
       "      <th>Collection</th>\n",
       "      <td>0</td>\n",
       "    </tr>\n",
       "    <tr>\n",
       "      <th>IssueDescription</th>\n",
       "      <td>474402</td>\n",
       "    </tr>\n",
       "    <tr>\n",
       "      <th>ResolutionStatus</th>\n",
       "      <td>474402</td>\n",
       "    </tr>\n",
       "    <tr>\n",
       "      <th>CostImpact (€)</th>\n",
       "      <td>474402</td>\n",
       "    </tr>\n",
       "    <tr>\n",
       "      <th>PreviousMonth</th>\n",
       "      <td>0</td>\n",
       "    </tr>\n",
       "    <tr>\n",
       "      <th>PackagesHandled</th>\n",
       "      <td>27219</td>\n",
       "    </tr>\n",
       "    <tr>\n",
       "      <th>TotalIncidents</th>\n",
       "      <td>27219</td>\n",
       "    </tr>\n",
       "    <tr>\n",
       "      <th>AnomaliesDetected</th>\n",
       "      <td>27219</td>\n",
       "    </tr>\n",
       "    <tr>\n",
       "      <th>BadPackagingRate (%)</th>\n",
       "      <td>27219</td>\n",
       "    </tr>\n",
       "    <tr>\n",
       "      <th>OnTimeDeliveryRate (%)</th>\n",
       "      <td>27219</td>\n",
       "    </tr>\n",
       "    <tr>\n",
       "      <th>AverageCostPerIncident (€)</th>\n",
       "      <td>27219</td>\n",
       "    </tr>\n",
       "  </tbody>\n",
       "</table>\n",
       "</div>"
      ],
      "text/plain": [
       "                                 0\n",
       "ReportID                         0\n",
       "ProductReference                 0\n",
       "DateOfReport                     0\n",
       "SupplierName                     0\n",
       "GarmentType                      0\n",
       "Material                         0\n",
       "Weight                           0\n",
       "ProposedUnitsPerCarton           0\n",
       "ProposedFoldingMethod            0\n",
       "ProposedLayout                   0\n",
       "PackagingQuality                 0\n",
       "Size                             0\n",
       "Collection                       0\n",
       "IssueDescription            474402\n",
       "ResolutionStatus            474402\n",
       "CostImpact (€)              474402\n",
       "PreviousMonth                    0\n",
       "PackagesHandled              27219\n",
       "TotalIncidents               27219\n",
       "AnomaliesDetected            27219\n",
       "BadPackagingRate (%)         27219\n",
       "OnTimeDeliveryRate (%)       27219\n",
       "AverageCostPerIncident (€)   27219"
      ]
     },
     "execution_count": 6,
     "metadata": {},
     "output_type": "execute_result"
    }
   ],
   "source": [
    "#how many nulls we have in each column  \n",
    "df_nulls = df.select(pl.all().is_null().sum())\n",
    "df_nulls = df_nulls.to_pandas()\n",
    "df_nulls = df_nulls.T\n",
    "df_nulls"
   ]
  },
  {
   "cell_type": "markdown",
   "id": "798cc8e7",
   "metadata": {},
   "source": [
    "## Data Manipulation"
   ]
  },
  {
   "cell_type": "markdown",
   "id": "6c69219e",
   "metadata": {},
   "source": [
    "### Target Variable"
   ]
  },
  {
   "cell_type": "code",
   "execution_count": 7,
   "id": "750698b5",
   "metadata": {},
   "outputs": [],
   "source": [
    "y = df['PackagingQuality'].map_elements(lambda x: 1 if x == 'Good' else 0, return_dtype=pl.Int8)\n",
    "x= df.drop('PackagingQuality')"
   ]
  },
  {
   "cell_type": "code",
   "execution_count": 8,
   "id": "b0a30d77",
   "metadata": {},
   "outputs": [
    {
     "name": "stdout",
     "output_type": "stream",
     "text": [
      "x shape: (475629, 22)\n",
      "y shape: (475629,)\n"
     ]
    }
   ],
   "source": [
    "#print x and y shape\n",
    "print(f\"x shape: {x.shape}\")\n",
    "print(f\"y shape: {y.shape}\")"
   ]
  },
  {
   "cell_type": "markdown",
   "id": "9aa2cd3a",
   "metadata": {},
   "source": [
    "### Removing columns"
   ]
  },
  {
   "cell_type": "code",
   "execution_count": 9,
   "id": "cb5825ed",
   "metadata": {},
   "outputs": [],
   "source": [
    "#remove possible unimportant columns\n",
    "columns_to_drop = ['ReportID','ProductReference','IssueDescription','ResolutionStatus','CostImpact (€)']\n",
    "x = x.drop(columns_to_drop)"
   ]
  },
  {
   "cell_type": "code",
   "execution_count": 10,
   "id": "473003a9",
   "metadata": {},
   "outputs": [
    {
     "data": {
      "text/html": [
       "<div><style>\n",
       ".dataframe > thead > tr,\n",
       ".dataframe > tbody > tr {\n",
       "  text-align: right;\n",
       "  white-space: pre-wrap;\n",
       "}\n",
       "</style>\n",
       "<small>shape: (475_629, 17)</small><table border=\"1\" class=\"dataframe\"><thead><tr><th>DateOfReport</th><th>SupplierName</th><th>GarmentType</th><th>Material</th><th>Weight</th><th>ProposedUnitsPerCarton</th><th>ProposedFoldingMethod</th><th>ProposedLayout</th><th>Size</th><th>Collection</th><th>PreviousMonth</th><th>PackagesHandled</th><th>TotalIncidents</th><th>AnomaliesDetected</th><th>BadPackagingRate (%)</th><th>OnTimeDeliveryRate (%)</th><th>AverageCostPerIncident (€)</th></tr><tr><td>date</td><td>str</td><td>str</td><td>str</td><td>f64</td><td>i64</td><td>str</td><td>str</td><td>str</td><td>str</td><td>str</td><td>i64</td><td>i64</td><td>i64</td><td>f64</td><td>f64</td><td>f64</td></tr></thead><tbody><tr><td>2024-03-04</td><td>&quot;SupplierA&quot;</td><td>&quot;Pants&quot;</td><td>&quot;Polyester&quot;</td><td>0.35</td><td>29</td><td>&quot;Method2&quot;</td><td>&quot;LayoutC&quot;</td><td>&quot;S&quot;</td><td>&quot;Winter&quot;</td><td>&quot;2024-02&quot;</td><td>7541</td><td>173</td><td>20</td><td>8.09</td><td>86.03</td><td>509.15</td></tr><tr><td>2024-05-27</td><td>&quot;SupplierC&quot;</td><td>&quot;T-Shirt&quot;</td><td>&quot;Denim&quot;</td><td>0.21</td><td>20</td><td>&quot;Method2&quot;</td><td>&quot;LayoutB&quot;</td><td>&quot;M&quot;</td><td>&quot;Winter&quot;</td><td>&quot;2024-04&quot;</td><td>4216</td><td>181</td><td>32</td><td>27.26</td><td>75.51</td><td>527.23</td></tr><tr><td>2023-11-18</td><td>&quot;SupplierA&quot;</td><td>&quot;Shirt&quot;</td><td>&quot;Cotton&quot;</td><td>0.2</td><td>31</td><td>&quot;Method1&quot;</td><td>&quot;LayoutA&quot;</td><td>&quot;S&quot;</td><td>&quot;Winter&quot;</td><td>&quot;2023-10&quot;</td><td>7933</td><td>167</td><td>22</td><td>8.7</td><td>85.31</td><td>534.7</td></tr><tr><td>2024-06-13</td><td>&quot;SupplierA&quot;</td><td>&quot;Coat&quot;</td><td>&quot;Cotton&quot;</td><td>1.3</td><td>5</td><td>&quot;Method1&quot;</td><td>&quot;LayoutD&quot;</td><td>&quot;XL&quot;</td><td>&quot;Winter&quot;</td><td>&quot;2024-05&quot;</td><td>8002</td><td>158</td><td>19</td><td>8.53</td><td>88.26</td><td>531.85</td></tr><tr><td>2023-07-18</td><td>&quot;SupplierA&quot;</td><td>&quot;Coat&quot;</td><td>&quot;Polyester&quot;</td><td>1.11</td><td>9</td><td>&quot;Method2&quot;</td><td>&quot;LayoutD&quot;</td><td>&quot;M&quot;</td><td>&quot;Autumn&quot;</td><td>&quot;2023-06&quot;</td><td>7669</td><td>154</td><td>22</td><td>8.4</td><td>91.79</td><td>629.89</td></tr><tr><td>&hellip;</td><td>&hellip;</td><td>&hellip;</td><td>&hellip;</td><td>&hellip;</td><td>&hellip;</td><td>&hellip;</td><td>&hellip;</td><td>&hellip;</td><td>&hellip;</td><td>&hellip;</td><td>&hellip;</td><td>&hellip;</td><td>&hellip;</td><td>&hellip;</td><td>&hellip;</td><td>&hellip;</td></tr><tr><td>2023-11-27</td><td>&quot;SupplierB&quot;</td><td>&quot;Skirt&quot;</td><td>&quot;Cotton&quot;</td><td>0.3</td><td>24</td><td>&quot;Method2&quot;</td><td>&quot;LayoutB&quot;</td><td>&quot;M&quot;</td><td>&quot;Spring&quot;</td><td>&quot;2023-10&quot;</td><td>6265</td><td>195</td><td>22</td><td>15.13</td><td>82.26</td><td>541.18</td></tr><tr><td>2023-10-14</td><td>&quot;SupplierD&quot;</td><td>&quot;T-Shirt&quot;</td><td>&quot;Polyester&quot;</td><td>0.12</td><td>35</td><td>&quot;Method2&quot;</td><td>&quot;LayoutA&quot;</td><td>&quot;L&quot;</td><td>&quot;Summer&quot;</td><td>&quot;2023-09&quot;</td><td>2953</td><td>153</td><td>31</td><td>32.71</td><td>68.93</td><td>520.87</td></tr><tr><td>2024-04-03</td><td>&quot;SupplierA&quot;</td><td>&quot;Jacket&quot;</td><td>&quot;Cotton&quot;</td><td>0.91</td><td>17</td><td>&quot;Method2&quot;</td><td>&quot;LayoutD&quot;</td><td>&quot;S&quot;</td><td>&quot;Winter&quot;</td><td>&quot;2024-03&quot;</td><td>8039</td><td>180</td><td>30</td><td>7.95</td><td>87.94</td><td>601.26</td></tr><tr><td>2023-10-31</td><td>&quot;SupplierB&quot;</td><td>&quot;Shirt&quot;</td><td>&quot;Linen&quot;</td><td>0.17</td><td>46</td><td>&quot;Method2&quot;</td><td>&quot;LayoutB&quot;</td><td>&quot;S&quot;</td><td>&quot;Spring&quot;</td><td>&quot;2023-09&quot;</td><td>6225</td><td>184</td><td>34</td><td>14.73</td><td>81.5</td><td>597.43</td></tr><tr><td>2024-03-14</td><td>&quot;SupplierA&quot;</td><td>&quot;Jacket&quot;</td><td>&quot;Polyester&quot;</td><td>0.59</td><td>10</td><td>&quot;Method2&quot;</td><td>&quot;LayoutB&quot;</td><td>&quot;XL&quot;</td><td>&quot;Summer&quot;</td><td>&quot;2024-02&quot;</td><td>7541</td><td>173</td><td>20</td><td>8.09</td><td>86.03</td><td>509.15</td></tr></tbody></table></div>"
      ],
      "text/plain": [
       "shape: (475_629, 17)\n",
       "┌───────────┬───────────┬───────────┬───────────┬───┬───────────┬───────────┬───────────┬──────────┐\n",
       "│ DateOfRep ┆ SupplierN ┆ GarmentTy ┆ Material  ┆ … ┆ Anomalies ┆ BadPackag ┆ OnTimeDel ┆ AverageC │\n",
       "│ ort       ┆ ame       ┆ pe        ┆ ---       ┆   ┆ Detected  ┆ ingRate   ┆ iveryRate ┆ ostPerIn │\n",
       "│ ---       ┆ ---       ┆ ---       ┆ str       ┆   ┆ ---       ┆ (%)       ┆ (%)       ┆ cident   │\n",
       "│ date      ┆ str       ┆ str       ┆           ┆   ┆ i64       ┆ ---       ┆ ---       ┆ (€)      │\n",
       "│           ┆           ┆           ┆           ┆   ┆           ┆ f64       ┆ f64       ┆ ---      │\n",
       "│           ┆           ┆           ┆           ┆   ┆           ┆           ┆           ┆ f64      │\n",
       "╞═══════════╪═══════════╪═══════════╪═══════════╪═══╪═══════════╪═══════════╪═══════════╪══════════╡\n",
       "│ 2024-03-0 ┆ SupplierA ┆ Pants     ┆ Polyester ┆ … ┆ 20        ┆ 8.09      ┆ 86.03     ┆ 509.15   │\n",
       "│ 4         ┆           ┆           ┆           ┆   ┆           ┆           ┆           ┆          │\n",
       "│ 2024-05-2 ┆ SupplierC ┆ T-Shirt   ┆ Denim     ┆ … ┆ 32        ┆ 27.26     ┆ 75.51     ┆ 527.23   │\n",
       "│ 7         ┆           ┆           ┆           ┆   ┆           ┆           ┆           ┆          │\n",
       "│ 2023-11-1 ┆ SupplierA ┆ Shirt     ┆ Cotton    ┆ … ┆ 22        ┆ 8.7       ┆ 85.31     ┆ 534.7    │\n",
       "│ 8         ┆           ┆           ┆           ┆   ┆           ┆           ┆           ┆          │\n",
       "│ 2024-06-1 ┆ SupplierA ┆ Coat      ┆ Cotton    ┆ … ┆ 19        ┆ 8.53      ┆ 88.26     ┆ 531.85   │\n",
       "│ 3         ┆           ┆           ┆           ┆   ┆           ┆           ┆           ┆          │\n",
       "│ 2023-07-1 ┆ SupplierA ┆ Coat      ┆ Polyester ┆ … ┆ 22        ┆ 8.4       ┆ 91.79     ┆ 629.89   │\n",
       "│ 8         ┆           ┆           ┆           ┆   ┆           ┆           ┆           ┆          │\n",
       "│ …         ┆ …         ┆ …         ┆ …         ┆ … ┆ …         ┆ …         ┆ …         ┆ …        │\n",
       "│ 2023-11-2 ┆ SupplierB ┆ Skirt     ┆ Cotton    ┆ … ┆ 22        ┆ 15.13     ┆ 82.26     ┆ 541.18   │\n",
       "│ 7         ┆           ┆           ┆           ┆   ┆           ┆           ┆           ┆          │\n",
       "│ 2023-10-1 ┆ SupplierD ┆ T-Shirt   ┆ Polyester ┆ … ┆ 31        ┆ 32.71     ┆ 68.93     ┆ 520.87   │\n",
       "│ 4         ┆           ┆           ┆           ┆   ┆           ┆           ┆           ┆          │\n",
       "│ 2024-04-0 ┆ SupplierA ┆ Jacket    ┆ Cotton    ┆ … ┆ 30        ┆ 7.95      ┆ 87.94     ┆ 601.26   │\n",
       "│ 3         ┆           ┆           ┆           ┆   ┆           ┆           ┆           ┆          │\n",
       "│ 2023-10-3 ┆ SupplierB ┆ Shirt     ┆ Linen     ┆ … ┆ 34        ┆ 14.73     ┆ 81.5      ┆ 597.43   │\n",
       "│ 1         ┆           ┆           ┆           ┆   ┆           ┆           ┆           ┆          │\n",
       "│ 2024-03-1 ┆ SupplierA ┆ Jacket    ┆ Polyester ┆ … ┆ 20        ┆ 8.09      ┆ 86.03     ┆ 509.15   │\n",
       "│ 4         ┆           ┆           ┆           ┆   ┆           ┆           ┆           ┆          │\n",
       "└───────────┴───────────┴───────────┴───────────┴───┴───────────┴───────────┴───────────┴──────────┘"
      ]
     },
     "execution_count": 10,
     "metadata": {},
     "output_type": "execute_result"
    }
   ],
   "source": [
    "x"
   ]
  },
  {
   "cell_type": "markdown",
   "id": "8bf0edc3",
   "metadata": {},
   "source": [
    "### Label Encoding"
   ]
  },
  {
   "cell_type": "code",
   "execution_count": 11,
   "id": "98fd0fe8",
   "metadata": {},
   "outputs": [
    {
     "name": "stdout",
     "output_type": "stream",
     "text": [
      "Extracting features from date column: 'DateOfReport'\n",
      "Encoding cyclical date features (month, weekday)...\n",
      "Dropping original date column 'DateOfReport' and intermediate month/weekday.\n",
      "Encoding categorical columns: ['SupplierName', 'GarmentType', 'Material', 'ProposedFoldingMethod', 'ProposedLayout', 'Size', 'Collection']\n",
      "Categorical columns cast to pl.Categorical.\n"
     ]
    }
   ],
   "source": [
    "\n",
    "date_col = 'DateOfReport' # The actual name of your date column in X\n",
    "categorical_cols = [\n",
    "    'SupplierName',\n",
    "    'GarmentType',\n",
    "    'Material',\n",
    "    'ProposedFoldingMethod',\n",
    "    'ProposedLayout',\n",
    "    'Size',\n",
    "    'Collection',\n",
    "]\n",
    "\n",
    "categorical_cols = [col for col in categorical_cols if col in x.columns]\n",
    "\n",
    "# --- Step 1: Date Feature Extraction ---\n",
    "\n",
    "print(f\"Extracting features from date column: '{date_col}'\")\n",
    "if date_col in x.columns:\n",
    "    x = x.with_columns([\n",
    "        pl.col(date_col).dt.year().alias('report_year'),\n",
    "        pl.col(date_col).dt.month().alias('report_month'),\n",
    "        pl.col(date_col).dt.day().alias('report_day'),\n",
    "        pl.col(date_col).dt.weekday().alias('report_weekday'), # Monday=1, Sunday=7 in Polars (adjust trig if needed or use weekday for Mon=0)\n",
    "        pl.col(date_col).dt.ordinal_day().alias('report_day_of_year'),\n",
    "        pl.col(date_col).dt.week().alias('report_week_of_year'),\n",
    "        # Add other extractions if needed (e.g., .hour(), .minute() if it was datetime)\n",
    "    ])\n",
    "\n",
    "    # Optional: Encode cyclical features (Month, DayOfWeek) using sin/cos\n",
    "    # Adjust division factor if weekday() starts at 1 (divide by 7 still okay)\n",
    "    print(\"Encoding cyclical date features (month, weekday)...\")\n",
    "    x = x.with_columns([\n",
    "        (np.sin(2 * np.pi * pl.col('report_month') / 12)).alias('report_month_sin'),\n",
    "        (np.cos(2 * np.pi * pl.col('report_month') / 12)).alias('report_month_cos'),\n",
    "        (np.sin(2 * np.pi * pl.col('report_weekday') / 7)).alias('report_weekday_sin'),\n",
    "        (np.cos(2 * np.pi * pl.col('report_weekday') / 7)).alias('report_weekday_cos'),\n",
    "    ])\n",
    "\n",
    "    # Optional: Drop original date and intermediate columns if desired\n",
    "    print(f\"Dropping original date column '{date_col}' and intermediate month/weekday.\")\n",
    "    x = x.drop([date_col, 'report_month', 'report_weekday'])\n",
    "\n",
    "else:\n",
    "    print(f\"Warning: Date column '{date_col}' not found in X. Skipping date feature extraction.\")\n",
    "\n",
    "# --- Step 2: Categorical Feature Encoding ---\n",
    "\n",
    "print(f\"Encoding categorical columns: {categorical_cols}\")\n",
    "if categorical_cols:\n",
    "    # Convert specified string columns to Polars Categorical type\n",
    "    # This is often efficient for tree-based models like LightGBM/XGBoost\n",
    "    for col_name in categorical_cols:\n",
    "        x = x.with_columns(\n",
    "            pl.col(col_name).cast(pl.Categorical).alias(col_name)\n",
    "        )\n",
    "    print(\"Categorical columns cast to pl.Categorical.\")\n",
    "else:\n",
    "    print(\"No categorical columns specified for encoding.\")\n",
    "\n",
    "\n",
    "\n"
   ]
  },
  {
   "cell_type": "code",
   "execution_count": 12,
   "id": "3780de5c",
   "metadata": {},
   "outputs": [
    {
     "data": {
      "text/html": [
       "<div><style>\n",
       ".dataframe > thead > tr,\n",
       ".dataframe > tbody > tr {\n",
       "  text-align: right;\n",
       "  white-space: pre-wrap;\n",
       "}\n",
       "</style>\n",
       "<small>shape: (475_629, 24)</small><table border=\"1\" class=\"dataframe\"><thead><tr><th>SupplierName</th><th>GarmentType</th><th>Material</th><th>Weight</th><th>ProposedUnitsPerCarton</th><th>ProposedFoldingMethod</th><th>ProposedLayout</th><th>Size</th><th>Collection</th><th>PreviousMonth</th><th>PackagesHandled</th><th>TotalIncidents</th><th>AnomaliesDetected</th><th>BadPackagingRate (%)</th><th>OnTimeDeliveryRate (%)</th><th>AverageCostPerIncident (€)</th><th>report_year</th><th>report_day</th><th>report_day_of_year</th><th>report_week_of_year</th><th>report_month_sin</th><th>report_month_cos</th><th>report_weekday_sin</th><th>report_weekday_cos</th></tr><tr><td>cat</td><td>cat</td><td>cat</td><td>f64</td><td>i64</td><td>cat</td><td>cat</td><td>cat</td><td>cat</td><td>str</td><td>i64</td><td>i64</td><td>i64</td><td>f64</td><td>f64</td><td>f64</td><td>i32</td><td>i8</td><td>i16</td><td>i8</td><td>f64</td><td>f64</td><td>f64</td><td>f64</td></tr></thead><tbody><tr><td>&quot;SupplierA&quot;</td><td>&quot;Pants&quot;</td><td>&quot;Polyester&quot;</td><td>0.35</td><td>29</td><td>&quot;Method2&quot;</td><td>&quot;LayoutC&quot;</td><td>&quot;S&quot;</td><td>&quot;Winter&quot;</td><td>&quot;2024-02&quot;</td><td>7541</td><td>173</td><td>20</td><td>8.09</td><td>86.03</td><td>509.15</td><td>2024</td><td>4</td><td>64</td><td>10</td><td>1.0</td><td>6.1232e-17</td><td>0.781831</td><td>0.62349</td></tr><tr><td>&quot;SupplierC&quot;</td><td>&quot;T-Shirt&quot;</td><td>&quot;Denim&quot;</td><td>0.21</td><td>20</td><td>&quot;Method2&quot;</td><td>&quot;LayoutB&quot;</td><td>&quot;M&quot;</td><td>&quot;Winter&quot;</td><td>&quot;2024-04&quot;</td><td>4216</td><td>181</td><td>32</td><td>27.26</td><td>75.51</td><td>527.23</td><td>2024</td><td>27</td><td>148</td><td>22</td><td>0.5</td><td>-0.866025</td><td>0.781831</td><td>0.62349</td></tr><tr><td>&quot;SupplierA&quot;</td><td>&quot;Shirt&quot;</td><td>&quot;Cotton&quot;</td><td>0.2</td><td>31</td><td>&quot;Method1&quot;</td><td>&quot;LayoutA&quot;</td><td>&quot;S&quot;</td><td>&quot;Winter&quot;</td><td>&quot;2023-10&quot;</td><td>7933</td><td>167</td><td>22</td><td>8.7</td><td>85.31</td><td>534.7</td><td>2023</td><td>18</td><td>322</td><td>46</td><td>-0.5</td><td>0.866025</td><td>-0.781831</td><td>0.62349</td></tr><tr><td>&quot;SupplierA&quot;</td><td>&quot;Coat&quot;</td><td>&quot;Cotton&quot;</td><td>1.3</td><td>5</td><td>&quot;Method1&quot;</td><td>&quot;LayoutD&quot;</td><td>&quot;XL&quot;</td><td>&quot;Winter&quot;</td><td>&quot;2024-05&quot;</td><td>8002</td><td>158</td><td>19</td><td>8.53</td><td>88.26</td><td>531.85</td><td>2024</td><td>13</td><td>165</td><td>24</td><td>1.2246e-16</td><td>-1.0</td><td>-0.433884</td><td>-0.900969</td></tr><tr><td>&quot;SupplierA&quot;</td><td>&quot;Coat&quot;</td><td>&quot;Polyester&quot;</td><td>1.11</td><td>9</td><td>&quot;Method2&quot;</td><td>&quot;LayoutD&quot;</td><td>&quot;M&quot;</td><td>&quot;Autumn&quot;</td><td>&quot;2023-06&quot;</td><td>7669</td><td>154</td><td>22</td><td>8.4</td><td>91.79</td><td>629.89</td><td>2023</td><td>18</td><td>199</td><td>29</td><td>-0.5</td><td>-0.866025</td><td>0.974928</td><td>-0.222521</td></tr><tr><td>&hellip;</td><td>&hellip;</td><td>&hellip;</td><td>&hellip;</td><td>&hellip;</td><td>&hellip;</td><td>&hellip;</td><td>&hellip;</td><td>&hellip;</td><td>&hellip;</td><td>&hellip;</td><td>&hellip;</td><td>&hellip;</td><td>&hellip;</td><td>&hellip;</td><td>&hellip;</td><td>&hellip;</td><td>&hellip;</td><td>&hellip;</td><td>&hellip;</td><td>&hellip;</td><td>&hellip;</td><td>&hellip;</td><td>&hellip;</td></tr><tr><td>&quot;SupplierB&quot;</td><td>&quot;Skirt&quot;</td><td>&quot;Cotton&quot;</td><td>0.3</td><td>24</td><td>&quot;Method2&quot;</td><td>&quot;LayoutB&quot;</td><td>&quot;M&quot;</td><td>&quot;Spring&quot;</td><td>&quot;2023-10&quot;</td><td>6265</td><td>195</td><td>22</td><td>15.13</td><td>82.26</td><td>541.18</td><td>2023</td><td>27</td><td>331</td><td>48</td><td>-0.5</td><td>0.866025</td><td>0.781831</td><td>0.62349</td></tr><tr><td>&quot;SupplierD&quot;</td><td>&quot;T-Shirt&quot;</td><td>&quot;Polyester&quot;</td><td>0.12</td><td>35</td><td>&quot;Method2&quot;</td><td>&quot;LayoutA&quot;</td><td>&quot;L&quot;</td><td>&quot;Summer&quot;</td><td>&quot;2023-09&quot;</td><td>2953</td><td>153</td><td>31</td><td>32.71</td><td>68.93</td><td>520.87</td><td>2023</td><td>14</td><td>287</td><td>41</td><td>-0.866025</td><td>0.5</td><td>-0.781831</td><td>0.62349</td></tr><tr><td>&quot;SupplierA&quot;</td><td>&quot;Jacket&quot;</td><td>&quot;Cotton&quot;</td><td>0.91</td><td>17</td><td>&quot;Method2&quot;</td><td>&quot;LayoutD&quot;</td><td>&quot;S&quot;</td><td>&quot;Winter&quot;</td><td>&quot;2024-03&quot;</td><td>8039</td><td>180</td><td>30</td><td>7.95</td><td>87.94</td><td>601.26</td><td>2024</td><td>3</td><td>94</td><td>14</td><td>0.866025</td><td>-0.5</td><td>0.433884</td><td>-0.900969</td></tr><tr><td>&quot;SupplierB&quot;</td><td>&quot;Shirt&quot;</td><td>&quot;Linen&quot;</td><td>0.17</td><td>46</td><td>&quot;Method2&quot;</td><td>&quot;LayoutB&quot;</td><td>&quot;S&quot;</td><td>&quot;Spring&quot;</td><td>&quot;2023-09&quot;</td><td>6225</td><td>184</td><td>34</td><td>14.73</td><td>81.5</td><td>597.43</td><td>2023</td><td>31</td><td>304</td><td>44</td><td>-0.866025</td><td>0.5</td><td>0.974928</td><td>-0.222521</td></tr><tr><td>&quot;SupplierA&quot;</td><td>&quot;Jacket&quot;</td><td>&quot;Polyester&quot;</td><td>0.59</td><td>10</td><td>&quot;Method2&quot;</td><td>&quot;LayoutB&quot;</td><td>&quot;XL&quot;</td><td>&quot;Summer&quot;</td><td>&quot;2024-02&quot;</td><td>7541</td><td>173</td><td>20</td><td>8.09</td><td>86.03</td><td>509.15</td><td>2024</td><td>14</td><td>74</td><td>11</td><td>1.0</td><td>6.1232e-17</td><td>-0.433884</td><td>-0.900969</td></tr></tbody></table></div>"
      ],
      "text/plain": [
       "shape: (475_629, 24)\n",
       "┌────────────┬────────────┬───────────┬────────┬───┬───────────┬───────────┬───────────┬───────────┐\n",
       "│ SupplierNa ┆ GarmentTyp ┆ Material  ┆ Weight ┆ … ┆ report_mo ┆ report_mo ┆ report_we ┆ report_we │\n",
       "│ me         ┆ e          ┆ ---       ┆ ---    ┆   ┆ nth_sin   ┆ nth_cos   ┆ ekday_sin ┆ ekday_cos │\n",
       "│ ---        ┆ ---        ┆ cat       ┆ f64    ┆   ┆ ---       ┆ ---       ┆ ---       ┆ ---       │\n",
       "│ cat        ┆ cat        ┆           ┆        ┆   ┆ f64       ┆ f64       ┆ f64       ┆ f64       │\n",
       "╞════════════╪════════════╪═══════════╪════════╪═══╪═══════════╪═══════════╪═══════════╪═══════════╡\n",
       "│ SupplierA  ┆ Pants      ┆ Polyester ┆ 0.35   ┆ … ┆ 1.0       ┆ 6.1232e-1 ┆ 0.781831  ┆ 0.62349   │\n",
       "│            ┆            ┆           ┆        ┆   ┆           ┆ 7         ┆           ┆           │\n",
       "│ SupplierC  ┆ T-Shirt    ┆ Denim     ┆ 0.21   ┆ … ┆ 0.5       ┆ -0.866025 ┆ 0.781831  ┆ 0.62349   │\n",
       "│ SupplierA  ┆ Shirt      ┆ Cotton    ┆ 0.2    ┆ … ┆ -0.5      ┆ 0.866025  ┆ -0.781831 ┆ 0.62349   │\n",
       "│ SupplierA  ┆ Coat       ┆ Cotton    ┆ 1.3    ┆ … ┆ 1.2246e-1 ┆ -1.0      ┆ -0.433884 ┆ -0.900969 │\n",
       "│            ┆            ┆           ┆        ┆   ┆ 6         ┆           ┆           ┆           │\n",
       "│ SupplierA  ┆ Coat       ┆ Polyester ┆ 1.11   ┆ … ┆ -0.5      ┆ -0.866025 ┆ 0.974928  ┆ -0.222521 │\n",
       "│ …          ┆ …          ┆ …         ┆ …      ┆ … ┆ …         ┆ …         ┆ …         ┆ …         │\n",
       "│ SupplierB  ┆ Skirt      ┆ Cotton    ┆ 0.3    ┆ … ┆ -0.5      ┆ 0.866025  ┆ 0.781831  ┆ 0.62349   │\n",
       "│ SupplierD  ┆ T-Shirt    ┆ Polyester ┆ 0.12   ┆ … ┆ -0.866025 ┆ 0.5       ┆ -0.781831 ┆ 0.62349   │\n",
       "│ SupplierA  ┆ Jacket     ┆ Cotton    ┆ 0.91   ┆ … ┆ 0.866025  ┆ -0.5      ┆ 0.433884  ┆ -0.900969 │\n",
       "│ SupplierB  ┆ Shirt      ┆ Linen     ┆ 0.17   ┆ … ┆ -0.866025 ┆ 0.5       ┆ 0.974928  ┆ -0.222521 │\n",
       "│ SupplierA  ┆ Jacket     ┆ Polyester ┆ 0.59   ┆ … ┆ 1.0       ┆ 6.1232e-1 ┆ -0.433884 ┆ -0.900969 │\n",
       "│            ┆            ┆           ┆        ┆   ┆           ┆ 7         ┆           ┆           │\n",
       "└────────────┴────────────┴───────────┴────────┴───┴───────────┴───────────┴───────────┴───────────┘"
      ]
     },
     "execution_count": 12,
     "metadata": {},
     "output_type": "execute_result"
    }
   ],
   "source": [
    "x"
   ]
  },
  {
   "cell_type": "code",
   "execution_count": null,
   "id": "e2464728",
   "metadata": {},
   "outputs": [],
   "source": []
  }
 ],
 "metadata": {
  "kernelspec": {
   "display_name": "base",
   "language": "python",
   "name": "python3"
  },
  "language_info": {
   "codemirror_mode": {
    "name": "ipython",
    "version": 3
   },
   "file_extension": ".py",
   "mimetype": "text/x-python",
   "name": "python",
   "nbconvert_exporter": "python",
   "pygments_lexer": "ipython3",
   "version": "3.11.5"
  }
 },
 "nbformat": 4,
 "nbformat_minor": 5
}
