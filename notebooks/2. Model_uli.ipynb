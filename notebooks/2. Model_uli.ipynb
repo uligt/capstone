{
 "cells": [
  {
   "cell_type": "markdown",
   "id": "e29695aa",
   "metadata": {},
   "source": [
    "# Feature Engineering & Model's"
   ]
  },
  {
   "cell_type": "markdown",
   "id": "60a7e9f0",
   "metadata": {},
   "source": [
    "## Libraries"
   ]
  },
  {
   "cell_type": "code",
   "execution_count": 4,
   "id": "e4a8451a",
   "metadata": {},
   "outputs": [],
   "source": [
    "import pandas as pd\n",
    "import polars as pl\n",
    "import numpy as np\n",
    "import matplotlib.pyplot as plt\n",
    "import seaborn as sns\n",
    "import re\n",
    "import xgboost as xgb\n",
    "import lightgbm as lgb\n",
    "from sklearn.model_selection import train_test_split\n",
    "from sklearn.metrics import classification_report, confusion_matrix, ConfusionMatrixDisplay, roc_auc_score, roc_curve"
   ]
  },
  {
   "cell_type": "markdown",
   "id": "6437db29",
   "metadata": {},
   "source": [
    "## Global Variables"
   ]
  },
  {
   "cell_type": "code",
   "execution_count": 5,
   "id": "d0f59d8b",
   "metadata": {},
   "outputs": [],
   "source": [
    "# Input paths\n",
    "PATH_DATAFRAME = 'full_join.xlsx'"
   ]
  },
  {
   "cell_type": "markdown",
   "id": "a794446b",
   "metadata": {},
   "source": [
    "## Global Functions"
   ]
  },
  {
   "cell_type": "code",
   "execution_count": 7,
   "id": "53f84996",
   "metadata": {},
   "outputs": [],
   "source": [
    "def polars_read_excel(file_name, sheet_name='Sheet1'):\n",
    "  return pl.read_excel(source=file_name, sheet_name=sheet_name)"
   ]
  },
  {
   "cell_type": "markdown",
   "id": "f44974e3",
   "metadata": {},
   "source": [
    "## Import data"
   ]
  },
  {
   "cell_type": "code",
   "execution_count": 8,
   "id": "627cb4b8",
   "metadata": {},
   "outputs": [
    {
     "name": "stderr",
     "output_type": "stream",
     "text": [
      "Could not determine dtype for column 13, falling back to string\n",
      "Could not determine dtype for column 14, falling back to string\n",
      "Could not determine dtype for column 15, falling back to string\n"
     ]
    }
   ],
   "source": [
    "df = polars_read_excel(PATH_DATAFRAME)"
   ]
  },
  {
   "cell_type": "code",
   "execution_count": 9,
   "id": "a32bf75d",
   "metadata": {},
   "outputs": [],
   "source": [
    "df = df.with_columns([\n",
    "    pl.col(\"CostImpact (€)\").cast(pl.Float64, strict=False),\n",
    "])"
   ]
  },
  {
   "cell_type": "markdown",
   "id": "798cc8e7",
   "metadata": {},
   "source": [
    "## Data Manipulation"
   ]
  },
  {
   "cell_type": "code",
   "execution_count": null,
   "id": "f36fbe34",
   "metadata": {},
   "outputs": [],
   "source": [
    "df_engineered = (\n",
    "    df # Start with the full DataFrame loaded from full_join.xlsx\n",
    "    .filter(pl.col(\"PackagesHandled\") > 0)\n",
    "    .filter(pl.col(\"PackagingQuality\").is_in([\"Bad\", \"Good\"]))\n",
    "    .with_columns([\n",
    "        # Enhanced Date Features\n",
    "        pl.col(\"DateOfReport\").dt.year().alias(\"report_year\"),\n",
    "        pl.col(\"DateOfReport\").dt.ordinal_day().alias(\"report_day_of_year\"),\n",
    "        pl.col(\"DateOfReport\").dt.week().alias(\"report_week_of_year\"),\n",
    "        pl.col(\"DateOfReport\").dt.quarter().alias(\"report_quarter\"),\n",
    "        pl.when(pl.col(\"DateOfReport\").dt.weekday().is_in([6, 7])) # Polars: Mon=1..Sun=7\n",
    "            .then(1).otherwise(0).alias(\"is_weekend\").cast(pl.Int8),\n",
    "\n",
    "        (np.sin(2 * np.pi * pl.col(\"DateOfReport\").dt.month() / 12)).alias('month_sin'),\n",
    "        (np.cos(2 * np.pi * pl.col(\"DateOfReport\").dt.month() / 12)).alias('month_cos'),\n",
    "        (np.sin(2 * np.pi * (pl.col(\"DateOfReport\").dt.weekday() - 1) / 7)).alias('weekday_sin'),\n",
    "        (np.cos(2 * np.pi * (pl.col(\"DateOfReport\").dt.weekday() - 1) / 7)).alias('weekday_cos'),\n",
    "\n",
    "        # Your original calculated ratios\n",
    "        (pl.col(\"TotalIncidents\") / pl.col(\"PackagesHandled\")).alias(\"TotalIncidents (%)\"),\n",
    "        (pl.col(\"AnomaliesDetected\") / pl.col(\"PackagesHandled\")).alias(\"AnomaliesDetected (%)\"),\n",
    "\n",
    "        # Example Interaction Feature\n",
    "        (pl.col(\"SupplierName\").cast(pl.Utf8) + \"_&_\" + pl.col(\"GarmentType\").cast(pl.Utf8)).alias(\"Supplier_GarmentType_Interaction\"),\n",
    "\n",
    "        # Example Binning for Weight\n",
    "        pl.when(pl.col(\"Weight\") < 0.3).then(pl.lit(\"Light_Weight\"))\n",
    "            .when(pl.col(\"Weight\") < 1.0).then(pl.lit(\"Medium_Weight\"))\n",
    "            .otherwise(pl.lit(\"Heavy_Weight\"))\n",
    "            .alias(\"Weight_Binned\")\n",
    "    ])\n",
    "    .sort(\"DateOfReport\")\n",
    ")\n",
    "\n",
    "# Define df_input by selecting ALL columns you want for your model's features + target\n",
    "df_input = df_engineered.select([\n",
    "    # --- New Date Features ---\n",
    "    \"report_year\",\n",
    "    pl.col(\"DateOfReport\").dt.day().alias(\"report_day_num\"), # Keeping original day number\n",
    "    \"month_sin\",\n",
    "    \"month_cos\",\n",
    "    \"weekday_sin\",\n",
    "    \"weekday_cos\",\n",
    "    \"report_day_of_year\",\n",
    "    \"report_week_of_year\",\n",
    "    \"report_quarter\",\n",
    "    \"is_weekend\",\n",
    "\n",
    "    # --- Original Categorical/Numerical Features from your initial select ---\n",
    "    # (Excluding original simple Month, Day, Weekday if replaced by engineered versions)\n",
    "    \"SupplierName\",\n",
    "    \"GarmentType\",\n",
    "    \"Material\",\n",
    "    \"Weight\", # Keep original weight alongside binned, or choose one.\n",
    "    \"ProposedUnitsPerCarton\",\n",
    "    \"ProposedFoldingMethod\",\n",
    "    \"ProposedLayout\",\n",
    "    \"Size\",\n",
    "    \"Collection\",\n",
    "    # \"PreviousMonth\", # Decide if/how to include this. If as string, add to categorical_features later.\n",
    "\n",
    "    # --- New Engineered Categorical Features ---\n",
    "    \"Supplier_GarmentType_Interaction\",\n",
    "    \"Weight_Binned\",\n",
    "\n",
    "    # --- Your Calculated Ratios ---\n",
    "    \"TotalIncidents (%)\",\n",
    "    \"AnomaliesDetected (%)\",\n",
    "\n",
    "    # --- Scorecard Features ---\n",
    "    \"BadPackagingRate (%)\",\n",
    "    \"OnTimeDeliveryRate (%)\",\n",
    "    \"AverageCostPerIncident (€)\",\n",
    "\n",
    "    # --- Target Variable ---\n",
    "    \"PackagingQuality\"\n",
    "])\n"
   ]
  },
  {
   "cell_type": "markdown",
   "id": "6c69219e",
   "metadata": {},
   "source": [
    "### Target Variable"
   ]
  },
  {
   "cell_type": "code",
   "execution_count": 11,
   "id": "750698b5",
   "metadata": {},
   "outputs": [],
   "source": [
    "# Convert Polars to Pandas\n",
    "df_pd = df_input.to_pandas()\n",
    "\n",
    "# Encode target variable\n",
    "df_pd[\"PackagingQuality\"] = df_pd[\"PackagingQuality\"].map({\"Good\": 1, \"Bad\": 0})\n",
    "\n",
    "# Define features and target\n",
    "X = df_pd.drop(columns=[\"PackagingQuality\"])\n",
    "y = df_pd[\"PackagingQuality\"]"
   ]
  },
  {
   "cell_type": "code",
   "execution_count": 12,
   "id": "edaa4997",
   "metadata": {},
   "outputs": [],
   "source": [
    "### Identify categorical columns\n",
    "categorical_features = X.select_dtypes(include=\"object\").columns.tolist()"
   ]
  },
  {
   "cell_type": "markdown",
   "id": "60c6a7ea",
   "metadata": {},
   "source": [
    "### Split dataset"
   ]
  },
  {
   "cell_type": "code",
   "execution_count": 13,
   "id": "e2464728",
   "metadata": {},
   "outputs": [],
   "source": [
    "# Split dataset\n",
    "X_train, X_test, y_train, y_test = train_test_split(\n",
    "    X, y, test_size=0.3, random_state=42, stratify=y\n",
    ")"
   ]
  },
  {
   "cell_type": "markdown",
   "id": "c09f33f6",
   "metadata": {},
   "source": [
    "## XGBoost"
   ]
  },
  {
   "cell_type": "code",
   "execution_count": 14,
   "id": "28f1987d",
   "metadata": {},
   "outputs": [
    {
     "name": "stderr",
     "output_type": "stream",
     "text": [
      "/Users/ulisesgordillo/anaconda3/lib/python3.11/site-packages/xgboost/sklearn.py:1395: UserWarning: `use_label_encoder` is deprecated in 1.7.0.\n",
      "  warnings.warn(\"`use_label_encoder` is deprecated in 1.7.0.\")\n"
     ]
    }
   ],
   "source": [
    "# Do this for both X_train and X_test\n",
    "for col in categorical_features:\n",
    "    if col in X_train.columns: # Check if column exists\n",
    "        X_train[col] = X_train[col].astype('category')\n",
    "        X_test[col] = X_test[col].astype('category')\n",
    "\n",
    "# Define weights\n",
    "weight_for_class_0 = 3.0\n",
    "weight_for_class_1 = 1.0\n",
    "sample_weights = np.where(y_train == 0, weight_for_class_0, weight_for_class_1)\n",
    "\n",
    "# Instantiate the XGBoost classifier\n",
    "model = xgb.XGBClassifier(\n",
    "    objective='binary:logistic',\n",
    "    eval_metric='auc',  \n",
    "    use_label_encoder=False,\n",
    "    enable_categorical=True,\n",
    "    tree_method='hist',\n",
    "    n_estimators=1000, \n",
    "    learning_rate=0.05,\n",
    "    random_state=42\n",
    ")\n",
    "\n",
    "# Train the model\n",
    "model.fit(X_train, y_train, sample_weight=sample_weights)\n",
    "\n",
    "# Make predictions on the test set\n",
    "y_pred_xgb = model.predict(X_test) \n",
    "y_proba_xgb = model.predict_proba(X_test)[:, 1] "
   ]
  },
  {
   "cell_type": "markdown",
   "id": "e87d38c0",
   "metadata": {},
   "source": [
    "### Evaluation"
   ]
  },
  {
   "cell_type": "code",
   "execution_count": 15,
   "id": "83075ae2",
   "metadata": {},
   "outputs": [
    {
     "name": "stdout",
     "output_type": "stream",
     "text": [
      "              precision    recall  f1-score   support\n",
      "\n",
      "           0       0.32      0.48      0.39     26481\n",
      "           1       0.85      0.75      0.80    107545\n",
      "\n",
      "    accuracy                           0.70    134026\n",
      "   macro avg       0.59      0.62      0.59    134026\n",
      "weighted avg       0.75      0.70      0.72    134026\n",
      "\n"
     ]
    }
   ],
   "source": [
    "# Summary report\n",
    "y_pred = model.predict(X_test)\n",
    "print(classification_report(y_test, y_pred))"
   ]
  },
  {
   "cell_type": "code",
   "execution_count": 16,
   "id": "f7cd1ef0",
   "metadata": {},
   "outputs": [
    {
     "data": {
      "image/png": "[encoded data removed]",
      "text/plain": [
       "<Figure size 640x480 with 2 Axes>"
      ]
     },
     "metadata": {},
     "output_type": "display_data"
    }
   ],
   "source": [
    "# Confusion matrix\n",
    "cm = confusion_matrix(y_test, y_pred)\n",
    "disp = ConfusionMatrixDisplay(confusion_matrix=cm, display_labels=[\"Bad\", \"Good\"])\n",
    "disp.plot(cmap=\"Blues\")\n",
    "plt.title(\"Confusion Matrix\")\n",
    "plt.show()"
   ]
  },
  {
   "cell_type": "code",
   "execution_count": 17,
   "id": "5745de70",
   "metadata": {},
   "outputs": [
    {
     "name": "stdout",
     "output_type": "stream",
     "text": [
      "AUC: 0.6849\n"
     ]
    },
    {
     "data": {
      "image/png": "[encoded data removed]",
      "text/plain": [
       "<Figure size 640x480 with 1 Axes>"
      ]
     },
     "metadata": {},
     "output_type": "display_data"
    }
   ],
   "source": [
    "# Get predicted probabilities for the positive class (\"Good\" = 1)\n",
    "y_proba = model.predict_proba(X_test)[:, 1]\n",
    "\n",
    "# AUC score\n",
    "auc_score = roc_auc_score(y_test, y_proba)\n",
    "print(f\"AUC: {auc_score:.4f}\")\n",
    "\n",
    "# Optional: plot ROC curve\n",
    "fpr, tpr, thresholds = roc_curve(y_test, y_proba)\n",
    "plt.plot(fpr, tpr, label=f\"AUC = {auc_score:.2f}\")\n",
    "plt.plot([0, 1], [0, 1], linestyle=\"--\", color=\"gray\")\n",
    "plt.xlabel(\"False Positive Rate\")\n",
    "plt.ylabel(\"True Positive Rate\")\n",
    "plt.title(\"ROC Curve\")\n",
    "plt.legend()\n",
    "plt.grid(True)\n",
    "plt.show()"
   ]
  },
  {
   "cell_type": "code",
   "execution_count": 18,
   "id": "7a5a061f",
   "metadata": {},
   "outputs": [
    {
     "data": {
      "text/html": [
       "<div>\n",
       "<style scoped>\n",
       "    .dataframe tbody tr th:only-of-type {\n",
       "        vertical-align: middle;\n",
       "    }\n",
       "\n",
       "    .dataframe tbody tr th {\n",
       "        vertical-align: top;\n",
       "    }\n",
       "\n",
       "    .dataframe thead th {\n",
       "        text-align: right;\n",
       "    }\n",
       "</style>\n",
       "<table border=\"1\" class=\"dataframe\">\n",
       "  <thead>\n",
       "    <tr style=\"text-align: right;\">\n",
       "      <th></th>\n",
       "      <th>Feature</th>\n",
       "      <th>Importance</th>\n",
       "    </tr>\n",
       "  </thead>\n",
       "  <tbody>\n",
       "    <tr>\n",
       "      <th>19</th>\n",
       "      <td>Supplier_GarmentType_Interaction</td>\n",
       "      <td>0.184463</td>\n",
       "    </tr>\n",
       "    <tr>\n",
       "      <th>12</th>\n",
       "      <td>Material</td>\n",
       "      <td>0.109852</td>\n",
       "    </tr>\n",
       "    <tr>\n",
       "      <th>20</th>\n",
       "      <td>Weight_Binned</td>\n",
       "      <td>0.041387</td>\n",
       "    </tr>\n",
       "    <tr>\n",
       "      <th>21</th>\n",
       "      <td>TotalIncidents (%)</td>\n",
       "      <td>0.038796</td>\n",
       "    </tr>\n",
       "    <tr>\n",
       "      <th>23</th>\n",
       "      <td>BadPackagingRate (%)</td>\n",
       "      <td>0.033632</td>\n",
       "    </tr>\n",
       "    <tr>\n",
       "      <th>10</th>\n",
       "      <td>SupplierName</td>\n",
       "      <td>0.033440</td>\n",
       "    </tr>\n",
       "    <tr>\n",
       "      <th>3</th>\n",
       "      <td>month_cos</td>\n",
       "      <td>0.033162</td>\n",
       "    </tr>\n",
       "    <tr>\n",
       "      <th>11</th>\n",
       "      <td>GarmentType</td>\n",
       "      <td>0.033041</td>\n",
       "    </tr>\n",
       "    <tr>\n",
       "      <th>17</th>\n",
       "      <td>Size</td>\n",
       "      <td>0.032866</td>\n",
       "    </tr>\n",
       "    <tr>\n",
       "      <th>24</th>\n",
       "      <td>OnTimeDeliveryRate (%)</td>\n",
       "      <td>0.032569</td>\n",
       "    </tr>\n",
       "    <tr>\n",
       "      <th>18</th>\n",
       "      <td>Collection</td>\n",
       "      <td>0.032325</td>\n",
       "    </tr>\n",
       "    <tr>\n",
       "      <th>2</th>\n",
       "      <td>month_sin</td>\n",
       "      <td>0.032055</td>\n",
       "    </tr>\n",
       "    <tr>\n",
       "      <th>25</th>\n",
       "      <td>AverageCostPerIncident (€)</td>\n",
       "      <td>0.031370</td>\n",
       "    </tr>\n",
       "    <tr>\n",
       "      <th>22</th>\n",
       "      <td>AnomaliesDetected (%)</td>\n",
       "      <td>0.031213</td>\n",
       "    </tr>\n",
       "    <tr>\n",
       "      <th>6</th>\n",
       "      <td>report_day_of_year</td>\n",
       "      <td>0.030872</td>\n",
       "    </tr>\n",
       "    <tr>\n",
       "      <th>15</th>\n",
       "      <td>ProposedFoldingMethod</td>\n",
       "      <td>0.030665</td>\n",
       "    </tr>\n",
       "    <tr>\n",
       "      <th>0</th>\n",
       "      <td>report_year</td>\n",
       "      <td>0.030627</td>\n",
       "    </tr>\n",
       "    <tr>\n",
       "      <th>16</th>\n",
       "      <td>ProposedLayout</td>\n",
       "      <td>0.030537</td>\n",
       "    </tr>\n",
       "    <tr>\n",
       "      <th>5</th>\n",
       "      <td>weekday_cos</td>\n",
       "      <td>0.030250</td>\n",
       "    </tr>\n",
       "    <tr>\n",
       "      <th>4</th>\n",
       "      <td>weekday_sin</td>\n",
       "      <td>0.030105</td>\n",
       "    </tr>\n",
       "    <tr>\n",
       "      <th>7</th>\n",
       "      <td>report_week_of_year</td>\n",
       "      <td>0.029946</td>\n",
       "    </tr>\n",
       "    <tr>\n",
       "      <th>1</th>\n",
       "      <td>report_day_num</td>\n",
       "      <td>0.029664</td>\n",
       "    </tr>\n",
       "    <tr>\n",
       "      <th>13</th>\n",
       "      <td>Weight</td>\n",
       "      <td>0.028984</td>\n",
       "    </tr>\n",
       "    <tr>\n",
       "      <th>14</th>\n",
       "      <td>ProposedUnitsPerCarton</td>\n",
       "      <td>0.028180</td>\n",
       "    </tr>\n",
       "    <tr>\n",
       "      <th>9</th>\n",
       "      <td>is_weekend</td>\n",
       "      <td>0.000000</td>\n",
       "    </tr>\n",
       "    <tr>\n",
       "      <th>8</th>\n",
       "      <td>report_quarter</td>\n",
       "      <td>0.000000</td>\n",
       "    </tr>\n",
       "  </tbody>\n",
       "</table>\n",
       "</div>"
      ],
      "text/plain": [
       "                             Feature  Importance\n",
       "19  Supplier_GarmentType_Interaction    0.184463\n",
       "12                          Material    0.109852\n",
       "20                     Weight_Binned    0.041387\n",
       "21                TotalIncidents (%)    0.038796\n",
       "23              BadPackagingRate (%)    0.033632\n",
       "10                      SupplierName    0.033440\n",
       "3                          month_cos    0.033162\n",
       "11                       GarmentType    0.033041\n",
       "17                              Size    0.032866\n",
       "24            OnTimeDeliveryRate (%)    0.032569\n",
       "18                        Collection    0.032325\n",
       "2                          month_sin    0.032055\n",
       "25        AverageCostPerIncident (€)    0.031370\n",
       "22             AnomaliesDetected (%)    0.031213\n",
       "6                 report_day_of_year    0.030872\n",
       "15             ProposedFoldingMethod    0.030665\n",
       "0                        report_year    0.030627\n",
       "16                    ProposedLayout    0.030537\n",
       "5                        weekday_cos    0.030250\n",
       "4                        weekday_sin    0.030105\n",
       "7                report_week_of_year    0.029946\n",
       "1                     report_day_num    0.029664\n",
       "13                            Weight    0.028984\n",
       "14            ProposedUnitsPerCarton    0.028180\n",
       "9                         is_weekend    0.000000\n",
       "8                     report_quarter    0.000000"
      ]
     },
     "execution_count": 18,
     "metadata": {},
     "output_type": "execute_result"
    }
   ],
   "source": [
    "# Get feature names and importance values\n",
    "importance_df = pd.DataFrame({\n",
    "    \"Feature\": X_train.columns,\n",
    "    \"Importance\": model.feature_importances_\n",
    "}).sort_values(by=\"Importance\", ascending=False)\n",
    "\n",
    "# Display top features\n",
    "importance_df"
   ]
  },
  {
   "cell_type": "markdown",
   "id": "1abe868d",
   "metadata": {},
   "source": [
    "## LightGBM"
   ]
  },
  {
   "cell_type": "code",
   "execution_count": 19,
   "id": "a0ef115f",
   "metadata": {},
   "outputs": [
    {
     "name": "stdout",
     "output_type": "stream",
     "text": [
      "[LightGBM] [Warning] Found whitespace in feature_names, replace with underlines\n",
      "[LightGBM] [Info] Number of positive: 250935, number of negative: 61790\n",
      "[LightGBM] [Info] Auto-choosing row-wise multi-threading, the overhead of testing was 0.003861 seconds.\n",
      "You can set `force_row_wise=true` to remove the overhead.\n",
      "And if memory is not enough, you can set `force_col_wise=true`.\n",
      "[LightGBM] [Info] Total Bins 1462\n",
      "[LightGBM] [Info] Number of data points in the train set: 312725, number of used features: 26\n",
      "[LightGBM] [Info] [binary:BoostFromScore]: pavg=0.575137 -> initscore=0.302840\n",
      "[LightGBM] [Info] Start training from score 0.302840\n"
     ]
    }
   ],
   "source": [
    "#weights\n",
    "weight_for_class_0 = 3.0\n",
    "weight_for_class_1 = 1.0\n",
    "sample_weights = np.where(y_train == 0, weight_for_class_0, weight_for_class_1)\n",
    "\n",
    "# Instantiate the LightGBM classifier\n",
    "model_lgb = lgb.LGBMClassifier(\n",
    "    objective='binary',\n",
    "    metric='auc',\n",
    "    boosting_type='gbdt',\n",
    "    n_estimators=1000,\n",
    "    learning_rate=0.05,\n",
    "    random_state=42\n",
    ")\n",
    "\n",
    "actual_categorical_in_train = [col for col in categorical_features if col in X_train.columns and X_train[col].dtype.name == 'category']\n",
    "\n",
    "# Train the model\n",
    "model_lgb.fit(X_train, y_train, sample_weight=sample_weights,categorical_feature=actual_categorical_in_train)\n",
    "# Make predictions on the test set\n",
    "y_pred_lgb = model_lgb.predict(X_test)\n",
    "y_proba_lgb = model_lgb.predict_proba(X_test)[:, 1]\n",
    "\n"
   ]
  },
  {
   "cell_type": "markdown",
   "id": "3db7aeb7",
   "metadata": {},
   "source": [
    "### Evaluation"
   ]
  },
  {
   "cell_type": "code",
   "execution_count": 20,
   "id": "5bd4138f",
   "metadata": {},
   "outputs": [
    {
     "name": "stdout",
     "output_type": "stream",
     "text": [
      "              precision    recall  f1-score   support\n",
      "\n",
      "           0       0.33      0.51      0.40     26481\n",
      "           1       0.86      0.75      0.80    107545\n",
      "\n",
      "    accuracy                           0.70    134026\n",
      "   macro avg       0.59      0.63      0.60    134026\n",
      "weighted avg       0.76      0.70      0.72    134026\n",
      "\n"
     ]
    }
   ],
   "source": [
    "# Summary report\n",
    "y_pred = model_lgb.predict(X_test)\n",
    "print(classification_report(y_test, y_pred))"
   ]
  },
  {
   "cell_type": "code",
   "execution_count": 21,
   "id": "e832810a",
   "metadata": {},
   "outputs": [
    {
     "data": {
      "image/png": "[encoded data removed]",
      "text/plain": [
       "<Figure size 640x480 with 2 Axes>"
      ]
     },
     "metadata": {},
     "output_type": "display_data"
    }
   ],
   "source": [
    "# Confusion matrix\n",
    "cm = confusion_matrix(y_test, y_pred)\n",
    "disp = ConfusionMatrixDisplay(confusion_matrix=cm, display_labels=[\"Bad\", \"Good\"])\n",
    "disp.plot(cmap=\"Blues\")\n",
    "plt.title(\"Confusion Matrix\")\n",
    "plt.show()"
   ]
  },
  {
   "cell_type": "code",
   "execution_count": 22,
   "id": "b81455ee",
   "metadata": {},
   "outputs": [
    {
     "name": "stdout",
     "output_type": "stream",
     "text": [
      "AUC: 0.6934\n"
     ]
    },
    {
     "data": {
      "image/png": "[encoded data removed]",
      "text/plain": [
       "<Figure size 640x480 with 1 Axes>"
      ]
     },
     "metadata": {},
     "output_type": "display_data"
    }
   ],
   "source": [
    "# Get predicted probabilities for the positive class (\"Good\" = 1)\n",
    "y_proba = model_lgb.predict_proba(X_test)[:, 1]\n",
    "\n",
    "# AUC score\n",
    "auc_score = roc_auc_score(y_test, y_proba)\n",
    "print(f\"AUC: {auc_score:.4f}\")\n",
    "\n",
    "# Optional: plot ROC curve\n",
    "fpr, tpr, thresholds = roc_curve(y_test, y_proba)\n",
    "plt.plot(fpr, tpr, label=f\"AUC = {auc_score:.2f}\")\n",
    "plt.plot([0, 1], [0, 1], linestyle=\"--\", color=\"gray\")\n",
    "plt.xlabel(\"False Positive Rate\")\n",
    "plt.ylabel(\"True Positive Rate\")\n",
    "plt.title(\"ROC Curve\")\n",
    "plt.legend()\n",
    "plt.grid(True)\n",
    "plt.show()"
   ]
  },
  {
   "cell_type": "code",
   "execution_count": 23,
   "id": "3cfb5ab4",
   "metadata": {},
   "outputs": [
    {
     "data": {
      "text/html": [
       "<div>\n",
       "<style scoped>\n",
       "    .dataframe tbody tr th:only-of-type {\n",
       "        vertical-align: middle;\n",
       "    }\n",
       "\n",
       "    .dataframe tbody tr th {\n",
       "        vertical-align: top;\n",
       "    }\n",
       "\n",
       "    .dataframe thead th {\n",
       "        text-align: right;\n",
       "    }\n",
       "</style>\n",
       "<table border=\"1\" class=\"dataframe\">\n",
       "  <thead>\n",
       "    <tr style=\"text-align: right;\">\n",
       "      <th></th>\n",
       "      <th>Feature</th>\n",
       "      <th>Importance</th>\n",
       "    </tr>\n",
       "  </thead>\n",
       "  <tbody>\n",
       "    <tr>\n",
       "      <th>19</th>\n",
       "      <td>Supplier_GarmentType_Interaction</td>\n",
       "      <td>4276</td>\n",
       "    </tr>\n",
       "    <tr>\n",
       "      <th>13</th>\n",
       "      <td>Weight</td>\n",
       "      <td>3433</td>\n",
       "    </tr>\n",
       "    <tr>\n",
       "      <th>1</th>\n",
       "      <td>report_day_num</td>\n",
       "      <td>2992</td>\n",
       "    </tr>\n",
       "    <tr>\n",
       "      <th>14</th>\n",
       "      <td>ProposedUnitsPerCarton</td>\n",
       "      <td>2912</td>\n",
       "    </tr>\n",
       "    <tr>\n",
       "      <th>6</th>\n",
       "      <td>report_day_of_year</td>\n",
       "      <td>2866</td>\n",
       "    </tr>\n",
       "    <tr>\n",
       "      <th>25</th>\n",
       "      <td>AverageCostPerIncident (€)</td>\n",
       "      <td>1602</td>\n",
       "    </tr>\n",
       "    <tr>\n",
       "      <th>4</th>\n",
       "      <td>weekday_sin</td>\n",
       "      <td>1392</td>\n",
       "    </tr>\n",
       "    <tr>\n",
       "      <th>22</th>\n",
       "      <td>AnomaliesDetected (%)</td>\n",
       "      <td>1243</td>\n",
       "    </tr>\n",
       "    <tr>\n",
       "      <th>21</th>\n",
       "      <td>TotalIncidents (%)</td>\n",
       "      <td>1149</td>\n",
       "    </tr>\n",
       "    <tr>\n",
       "      <th>24</th>\n",
       "      <td>OnTimeDeliveryRate (%)</td>\n",
       "      <td>1095</td>\n",
       "    </tr>\n",
       "    <tr>\n",
       "      <th>15</th>\n",
       "      <td>ProposedFoldingMethod</td>\n",
       "      <td>1026</td>\n",
       "    </tr>\n",
       "    <tr>\n",
       "      <th>5</th>\n",
       "      <td>weekday_cos</td>\n",
       "      <td>980</td>\n",
       "    </tr>\n",
       "    <tr>\n",
       "      <th>12</th>\n",
       "      <td>Material</td>\n",
       "      <td>926</td>\n",
       "    </tr>\n",
       "    <tr>\n",
       "      <th>23</th>\n",
       "      <td>BadPackagingRate (%)</td>\n",
       "      <td>847</td>\n",
       "    </tr>\n",
       "    <tr>\n",
       "      <th>17</th>\n",
       "      <td>Size</td>\n",
       "      <td>735</td>\n",
       "    </tr>\n",
       "    <tr>\n",
       "      <th>18</th>\n",
       "      <td>Collection</td>\n",
       "      <td>601</td>\n",
       "    </tr>\n",
       "    <tr>\n",
       "      <th>2</th>\n",
       "      <td>month_sin</td>\n",
       "      <td>425</td>\n",
       "    </tr>\n",
       "    <tr>\n",
       "      <th>3</th>\n",
       "      <td>month_cos</td>\n",
       "      <td>419</td>\n",
       "    </tr>\n",
       "    <tr>\n",
       "      <th>16</th>\n",
       "      <td>ProposedLayout</td>\n",
       "      <td>362</td>\n",
       "    </tr>\n",
       "    <tr>\n",
       "      <th>7</th>\n",
       "      <td>report_week_of_year</td>\n",
       "      <td>271</td>\n",
       "    </tr>\n",
       "    <tr>\n",
       "      <th>11</th>\n",
       "      <td>GarmentType</td>\n",
       "      <td>186</td>\n",
       "    </tr>\n",
       "    <tr>\n",
       "      <th>0</th>\n",
       "      <td>report_year</td>\n",
       "      <td>148</td>\n",
       "    </tr>\n",
       "    <tr>\n",
       "      <th>20</th>\n",
       "      <td>Weight_Binned</td>\n",
       "      <td>67</td>\n",
       "    </tr>\n",
       "    <tr>\n",
       "      <th>9</th>\n",
       "      <td>is_weekend</td>\n",
       "      <td>27</td>\n",
       "    </tr>\n",
       "    <tr>\n",
       "      <th>10</th>\n",
       "      <td>SupplierName</td>\n",
       "      <td>18</td>\n",
       "    </tr>\n",
       "    <tr>\n",
       "      <th>8</th>\n",
       "      <td>report_quarter</td>\n",
       "      <td>2</td>\n",
       "    </tr>\n",
       "  </tbody>\n",
       "</table>\n",
       "</div>"
      ],
      "text/plain": [
       "                             Feature  Importance\n",
       "19  Supplier_GarmentType_Interaction        4276\n",
       "13                            Weight        3433\n",
       "1                     report_day_num        2992\n",
       "14            ProposedUnitsPerCarton        2912\n",
       "6                 report_day_of_year        2866\n",
       "25        AverageCostPerIncident (€)        1602\n",
       "4                        weekday_sin        1392\n",
       "22             AnomaliesDetected (%)        1243\n",
       "21                TotalIncidents (%)        1149\n",
       "24            OnTimeDeliveryRate (%)        1095\n",
       "15             ProposedFoldingMethod        1026\n",
       "5                        weekday_cos         980\n",
       "12                          Material         926\n",
       "23              BadPackagingRate (%)         847\n",
       "17                              Size         735\n",
       "18                        Collection         601\n",
       "2                          month_sin         425\n",
       "3                          month_cos         419\n",
       "16                    ProposedLayout         362\n",
       "7                report_week_of_year         271\n",
       "11                       GarmentType         186\n",
       "0                        report_year         148\n",
       "20                     Weight_Binned          67\n",
       "9                         is_weekend          27\n",
       "10                      SupplierName          18\n",
       "8                     report_quarter           2"
      ]
     },
     "execution_count": 23,
     "metadata": {},
     "output_type": "execute_result"
    }
   ],
   "source": [
    "# Get feature names and importance values\n",
    "importance_df = pd.DataFrame({\n",
    "    \"Feature\": X_train.columns,\n",
    "    \"Importance\": model_lgb.feature_importances_\n",
    "}).sort_values(by=\"Importance\", ascending=False)\n",
    "\n",
    "# Display top features\n",
    "importance_df"
   ]
  }
 ],
 "metadata": {
  "kernelspec": {
   "display_name": "base",
   "language": "python",
   "name": "python3"
  },
  "language_info": {
   "codemirror_mode": {
    "name": "ipython",
    "version": 3
   },
   "file_extension": ".py",
   "mimetype": "text/x-python",
   "name": "python",
   "nbconvert_exporter": "python",
   "pygments_lexer": "ipython3",
   "version": "3.11.5"
  }
 },
 "nbformat": 4,
 "nbformat_minor": 5
}
