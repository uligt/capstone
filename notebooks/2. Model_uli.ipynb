{
 "cells": [
  {
   "cell_type": "markdown",
   "id": "e29695aa",
   "metadata": {},
   "source": [
    "# Feature Engineering & Model's"
   ]
  },
  {
   "cell_type": "markdown",
   "id": "60a7e9f0",
   "metadata": {},
   "source": [
    "## Libraries"
   ]
  },
  {
   "cell_type": "code",
   "execution_count": 1,
   "id": "e4a8451a",
   "metadata": {},
   "outputs": [
    {
     "name": "stderr",
     "output_type": "stream",
     "text": [
      "/Users/ulisesgordillo/anaconda3/lib/python3.11/site-packages/pandas/core/arrays/masked.py:60: UserWarning: Pandas requires version '1.3.6' or newer of 'bottleneck' (version '1.3.5' currently installed).\n",
      "  from pandas.core import (\n"
     ]
    }
   ],
   "source": [
    "import pandas as pd\n",
    "import polars as pl\n",
    "import numpy as np\n",
    "import matplotlib.pyplot as plt\n",
    "import seaborn as sns\n",
    "import re\n",
    "import xgboost as xgb\n",
    "import lightgbm as lgb\n",
    "from sklearn.model_selection import train_test_split\n",
    "from sklearn.metrics import classification_report, confusion_matrix, ConfusionMatrixDisplay, roc_auc_score, roc_curve\n",
    "import itertools\n"
   ]
  },
  {
   "cell_type": "markdown",
   "id": "6437db29",
   "metadata": {},
   "source": [
    "## Global Variables"
   ]
  },
  {
   "cell_type": "code",
   "execution_count": 2,
   "id": "d0f59d8b",
   "metadata": {},
   "outputs": [],
   "source": [
    "# Input paths\n",
    "PATH_DATAFRAME = 'full_join.xlsx'"
   ]
  },
  {
   "cell_type": "markdown",
   "id": "a794446b",
   "metadata": {},
   "source": [
    "## Global Functions"
   ]
  },
  {
   "cell_type": "code",
   "execution_count": 3,
   "id": "53f84996",
   "metadata": {},
   "outputs": [],
   "source": [
    "def polars_read_excel(file_name, sheet_name='Sheet1'):\n",
    "  return pl.read_excel(source=file_name, sheet_name=sheet_name)"
   ]
  },
  {
   "cell_type": "markdown",
   "id": "f44974e3",
   "metadata": {},
   "source": [
    "## Import data"
   ]
  },
  {
   "cell_type": "code",
   "execution_count": 5,
   "id": "627cb4b8",
   "metadata": {},
   "outputs": [
    {
     "name": "stderr",
     "output_type": "stream",
     "text": [
      "Could not determine dtype for column 20, falling back to string\n",
      "Could not determine dtype for column 21, falling back to string\n",
      "Could not determine dtype for column 22, falling back to string\n",
      "Could not determine dtype for column 23, falling back to string\n",
      "Could not determine dtype for column 24, falling back to string\n"
     ]
    }
   ],
   "source": [
    "df = polars_read_excel(PATH_DATAFRAME)"
   ]
  },
  {
   "cell_type": "code",
   "execution_count": 6,
   "id": "a32bf75d",
   "metadata": {},
   "outputs": [],
   "source": [
    "df = df.with_columns([\n",
    "    pl.col(\"CostImpact (€)\").cast(pl.Float64, strict=False),\n",
    "])"
   ]
  },
  {
   "cell_type": "markdown",
   "id": "798cc8e7",
   "metadata": {},
   "source": [
    "## Data Manipulation"
   ]
  },
  {
   "cell_type": "code",
   "execution_count": 7,
   "id": "7cdc9d8b",
   "metadata": {},
   "outputs": [],
   "source": [
    "df_input = (\n",
    "    df\n",
    "    .filter(pl.col(\"PackagingQuality\").is_in([\"Bad\", \"Good\"])) \n",
    "    .sort(\"DateOfReport\")                                      \n",
    "    .select([                                                 \n",
    "        \"SupplierName\",\n",
    "        \"GarmentType\",\n",
    "        \"Material\",\n",
    "        \"Weight\",\n",
    "        \"ProposedUnitsPerCarton\",\n",
    "        \"ProposedFoldingMethod\",\n",
    "        \"ProposedLayout\",\n",
    "        \"Size\",\n",
    "        \"Collection\",\n",
    "        \"PackagingQuality\"\n",
    "    ])\n",
    ")"
   ]
  },
  {
   "cell_type": "markdown",
   "id": "6c69219e",
   "metadata": {},
   "source": [
    "### Target Variable"
   ]
  },
  {
   "cell_type": "code",
   "execution_count": 8,
   "id": "750698b5",
   "metadata": {},
   "outputs": [],
   "source": [
    "# Convert Polars to Pandas\n",
    "df_pd = df_input.to_pandas()\n",
    "\n",
    "# Encode target variable\n",
    "df_pd[\"PackagingQuality\"] = df_pd[\"PackagingQuality\"].map({\"Good\": 1, \"Bad\": 0})\n",
    "\n",
    "# Define features and target\n",
    "X = df_pd.drop(columns=[\"PackagingQuality\"])\n",
    "y = df_pd[\"PackagingQuality\"]"
   ]
  },
  {
   "cell_type": "code",
   "execution_count": 9,
   "id": "edaa4997",
   "metadata": {},
   "outputs": [],
   "source": [
    "### Identify categorical columns\n",
    "categorical_features = X.select_dtypes(include=\"object\").columns.tolist()"
   ]
  },
  {
   "cell_type": "markdown",
   "id": "60c6a7ea",
   "metadata": {},
   "source": [
    "### Split dataset"
   ]
  },
  {
   "cell_type": "code",
   "execution_count": 10,
   "id": "e2464728",
   "metadata": {},
   "outputs": [],
   "source": [
    "# Split dataset\n",
    "X_train, X_test, y_train, y_test = train_test_split(\n",
    "    X, y, test_size=0.30, random_state=42, stratify=y\n",
    ")"
   ]
  },
  {
   "cell_type": "code",
   "execution_count": null,
   "id": "7f16ddea",
   "metadata": {},
   "outputs": [],
   "source": [
    "# Do this for both X_train and X_test\n",
    "for col in categorical_features:\n",
    "    if col in X_train.columns: # Check if column exists\n",
    "        X_train[col] = X_train[col].astype('category')\n",
    "        X_test[col] = X_test[col].astype('category')"
   ]
  },
  {
   "cell_type": "markdown",
   "id": "1abe868d",
   "metadata": {},
   "source": [
    "## Model"
   ]
  },
  {
   "cell_type": "code",
   "execution_count": 16,
   "id": "a0ef115f",
   "metadata": {},
   "outputs": [
    {
     "name": "stdout",
     "output_type": "stream",
     "text": [
      "[LightGBM] [Info] Number of positive: 266177, number of negative: 65569\n",
      "[LightGBM] [Info] Auto-choosing col-wise multi-threading, the overhead of testing was 0.007369 seconds.\n",
      "You can set `force_col_wise=true` to remove the overhead.\n",
      "[LightGBM] [Info] Total Bins 297\n",
      "[LightGBM] [Info] Number of data points in the train set: 331746, number of used features: 9\n",
      "[LightGBM] [Info] [binary:BoostFromScore]: pavg=0.503691 -> initscore=0.014764\n",
      "[LightGBM] [Info] Start training from score 0.014764\n"
     ]
    }
   ],
   "source": [
    "#weights\n",
    "class_weights = np.where(y_train == 1, 1, 4)  \n",
    "\n",
    "\n",
    "# Instantiate the LightGBM classifier\n",
    "model_lgb = lgb.LGBMClassifier(\n",
    "    objective='binary',\n",
    "    metric='auc',\n",
    "    boosting_type='gbdt',\n",
    "    n_estimators=1000,\n",
    "    learning_rate=0.05,\n",
    "    random_state=42\n",
    ")\n",
    "\n",
    "actual_categorical_in_train = [col for col in categorical_features if col in X_train.columns and X_train[col].dtype.name == 'category']\n",
    "\n",
    "# Train the model\n",
    "model_lgb.fit(X_train, y_train, sample_weight=class_weights,categorical_feature=actual_categorical_in_train)\n",
    "# Make predictions on the test set\n",
    "y_pred_lgb = model_lgb.predict(X_test)\n",
    "y_proba_lgb = model_lgb.predict_proba(X_test)[:, 1]\n",
    "\n"
   ]
  },
  {
   "cell_type": "markdown",
   "id": "3db7aeb7",
   "metadata": {},
   "source": [
    "### Evaluation"
   ]
  },
  {
   "cell_type": "code",
   "execution_count": 17,
   "id": "5bd4138f",
   "metadata": {},
   "outputs": [
    {
     "name": "stdout",
     "output_type": "stream",
     "text": [
      "              precision    recall  f1-score   support\n",
      "\n",
      "           0       0.30      0.68      0.41     28101\n",
      "           1       0.88      0.61      0.72    114076\n",
      "\n",
      "    accuracy                           0.62    142177\n",
      "   macro avg       0.59      0.64      0.57    142177\n",
      "weighted avg       0.77      0.62      0.66    142177\n",
      "\n"
     ]
    }
   ],
   "source": [
    "#summary report\n",
    "print(classification_report(y_test, y_pred))"
   ]
  },
  {
   "cell_type": "code",
   "execution_count": 18,
   "id": "e832810a",
   "metadata": {},
   "outputs": [
    {
     "data": {
      "image/png": "[encoded data removed]",
      "text/plain": [
       "<Figure size 640x480 with 2 Axes>"
      ]
     },
     "metadata": {},
     "output_type": "display_data"
    }
   ],
   "source": [
    "# Confusion matrix\n",
    "cm = confusion_matrix(y_test, y_pred_lgb)\n",
    "disp = ConfusionMatrixDisplay(confusion_matrix=cm, display_labels=[\"Bad\", \"Good\"])\n",
    "disp.plot(cmap=\"Blues\")\n",
    "plt.title(\"Confusion Matrix\")\n",
    "plt.show()"
   ]
  },
  {
   "cell_type": "code",
   "execution_count": 19,
   "id": "b81455ee",
   "metadata": {},
   "outputs": [
    {
     "name": "stdout",
     "output_type": "stream",
     "text": [
      "AUC: 0.6876\n"
     ]
    },
    {
     "data": {
      "image/png": "[encoded data removed]",
      "text/plain": [
       "<Figure size 640x480 with 1 Axes>"
      ]
     },
     "metadata": {},
     "output_type": "display_data"
    }
   ],
   "source": [
    "# AUC score\n",
    "auc_score = roc_auc_score(y_test, y_proba)\n",
    "print(f\"AUC: {auc_score:.4f}\")\n",
    "\n",
    "# Optional: plot ROC curve\n",
    "fpr, tpr, thresholds = roc_curve(y_test, y_proba)\n",
    "plt.plot(fpr, tpr, label=f\"AUC = {auc_score:.2f}\")\n",
    "plt.plot([0, 1], [0, 1], linestyle=\"--\", color=\"gray\")\n",
    "plt.xlabel(\"False Positive Rate\")\n",
    "plt.ylabel(\"True Positive Rate\")\n",
    "plt.title(\"ROC Curve\")\n",
    "plt.legend()\n",
    "plt.grid(True)\n",
    "plt.show()"
   ]
  },
  {
   "cell_type": "code",
   "execution_count": 20,
   "id": "3cfb5ab4",
   "metadata": {},
   "outputs": [
    {
     "data": {
      "text/html": [
       "<div>\n",
       "<style scoped>\n",
       "    .dataframe tbody tr th:only-of-type {\n",
       "        vertical-align: middle;\n",
       "    }\n",
       "\n",
       "    .dataframe tbody tr th {\n",
       "        vertical-align: top;\n",
       "    }\n",
       "\n",
       "    .dataframe thead th {\n",
       "        text-align: right;\n",
       "    }\n",
       "</style>\n",
       "<table border=\"1\" class=\"dataframe\">\n",
       "  <thead>\n",
       "    <tr style=\"text-align: right;\">\n",
       "      <th></th>\n",
       "      <th>Feature</th>\n",
       "      <th>Importance</th>\n",
       "    </tr>\n",
       "  </thead>\n",
       "  <tbody>\n",
       "    <tr>\n",
       "      <th>3</th>\n",
       "      <td>Weight</td>\n",
       "      <td>8805</td>\n",
       "    </tr>\n",
       "    <tr>\n",
       "      <th>4</th>\n",
       "      <td>ProposedUnitsPerCarton</td>\n",
       "      <td>7971</td>\n",
       "    </tr>\n",
       "    <tr>\n",
       "      <th>0</th>\n",
       "      <td>SupplierName</td>\n",
       "      <td>3300</td>\n",
       "    </tr>\n",
       "    <tr>\n",
       "      <th>5</th>\n",
       "      <td>ProposedFoldingMethod</td>\n",
       "      <td>2819</td>\n",
       "    </tr>\n",
       "    <tr>\n",
       "      <th>7</th>\n",
       "      <td>Size</td>\n",
       "      <td>1790</td>\n",
       "    </tr>\n",
       "    <tr>\n",
       "      <th>2</th>\n",
       "      <td>Material</td>\n",
       "      <td>1529</td>\n",
       "    </tr>\n",
       "    <tr>\n",
       "      <th>1</th>\n",
       "      <td>GarmentType</td>\n",
       "      <td>1506</td>\n",
       "    </tr>\n",
       "    <tr>\n",
       "      <th>8</th>\n",
       "      <td>Collection</td>\n",
       "      <td>1415</td>\n",
       "    </tr>\n",
       "    <tr>\n",
       "      <th>6</th>\n",
       "      <td>ProposedLayout</td>\n",
       "      <td>865</td>\n",
       "    </tr>\n",
       "  </tbody>\n",
       "</table>\n",
       "</div>"
      ],
      "text/plain": [
       "                  Feature  Importance\n",
       "3                  Weight        8805\n",
       "4  ProposedUnitsPerCarton        7971\n",
       "0            SupplierName        3300\n",
       "5   ProposedFoldingMethod        2819\n",
       "7                    Size        1790\n",
       "2                Material        1529\n",
       "1             GarmentType        1506\n",
       "8              Collection        1415\n",
       "6          ProposedLayout         865"
      ]
     },
     "execution_count": 20,
     "metadata": {},
     "output_type": "execute_result"
    }
   ],
   "source": [
    "# Get feature names and importance values\n",
    "importance_df = pd.DataFrame({\n",
    "    \"Feature\": X_train.columns,\n",
    "    \"Importance\": model_lgb.feature_importances_\n",
    "}).sort_values(by=\"Importance\", ascending=False)\n",
    "\n",
    "# Display top features\n",
    "importance_df"
   ]
  },
  {
   "cell_type": "markdown",
   "id": "7af265d0",
   "metadata": {},
   "source": [
    "## Prediction"
   ]
  },
  {
   "cell_type": "markdown",
   "id": "9981bf9d",
   "metadata": {},
   "source": [
    "### 1. Determine value ranges"
   ]
  },
  {
   "cell_type": "markdown",
   "id": "d5db2716",
   "metadata": {},
   "source": [
    "#### 1.1 Categorical variables"
   ]
  },
  {
   "cell_type": "code",
   "execution_count": 21,
   "id": "c3b77fd3",
   "metadata": {},
   "outputs": [],
   "source": [
    "categorical_columns = [\n",
    "    \"SupplierName\",\n",
    "    \"GarmentType\",\n",
    "    \"Material\",\n",
    "    \"ProposedFoldingMethod\",\n",
    "    \"ProposedLayout\",\n",
    "    \"Size\",\n",
    "    \"Collection\"\n",
    "]\n",
    "\n",
    "# Build dictionary of distinct values\n",
    "categorical_values_dict = {\n",
    "    col: df_input.select(col).unique().sort(col).to_series().to_list()\n",
    "    for col in categorical_columns\n",
    "}"
   ]
  },
  {
   "cell_type": "markdown",
   "id": "2adc5737",
   "metadata": {},
   "source": [
    "#### 1.2 Numerical variables"
   ]
  },
  {
   "cell_type": "code",
   "execution_count": 22,
   "id": "de2952a3",
   "metadata": {},
   "outputs": [],
   "source": [
    "# Get min and max from df_input\n",
    "min_weight = df_input.select(\"Weight\").min().item()\n",
    "max_weight = df_input.select(\"Weight\").max().item()\n",
    "\n",
    "min_units = df_input.select(\"ProposedUnitsPerCarton\").min().item()\n",
    "max_units = df_input.select(\"ProposedUnitsPerCarton\").max().item()\n",
    "\n",
    "# Create ranges dynamically\n",
    "numerical_ranges = {\n",
    "    \"Weight\": list(np.round(np.arange(min_weight, max_weight + 0.01, 0.01), 3)),\n",
    "    \"ProposedUnitsPerCarton\": list(range(int(min_units), int(max_units) + 1))\n",
    "}"
   ]
  },
  {
   "cell_type": "markdown",
   "id": "d5785f89",
   "metadata": {},
   "source": [
    "### 2. Recommendation function"
   ]
  },
  {
   "cell_type": "markdown",
   "id": "d5a47f1e",
   "metadata": {},
   "source": [
    "#### 2.1 Definition of the function"
   ]
  },
  {
   "cell_type": "code",
   "execution_count": 23,
   "id": "90457ae1",
   "metadata": {},
   "outputs": [],
   "source": [
    "def recommend_best_packaging(fixed_inputs, model_lgb, top_n=1):\n",
    "    # Define search space (only for variables you want to optimize)\n",
    "    search_space = {\n",
    "        \"SupplierName\": categorical_values_dict[\"SupplierName\"],\n",
    "        \"ProposedUnitsPerCarton\": numerical_ranges[\"ProposedUnitsPerCarton\"],\n",
    "        \"ProposedFoldingMethod\": categorical_values_dict[\"ProposedFoldingMethod\"],\n",
    "        \"ProposedLayout\": categorical_values_dict[\"ProposedLayout\"]\n",
    "    }\n",
    "\n",
    "    # Generate Cartesian product\n",
    "    keys = list(search_space.keys())\n",
    "    values = list(search_space.values())\n",
    "    grid_df = pd.DataFrame(itertools.product(*values), columns=keys)\n",
    "\n",
    "    # Add fixed input columns\n",
    "    for key, value in fixed_inputs.items():\n",
    "        grid_df[key] = value\n",
    "\n",
    "    # Reorder columns to match model input\n",
    "    model_columns = ['SupplierName', 'GarmentType', 'Material', 'Weight',\n",
    "                     'ProposedUnitsPerCarton', 'ProposedFoldingMethod',\n",
    "                     'ProposedLayout', 'Size', 'Collection']\n",
    "    grid_df = grid_df[model_columns]\n",
    "\n",
    "    # Convert categorical columns to 'category' dtype for the model\n",
    "    # categorical_features should be globally defined (e.g., from CELL 16)\n",
    "    for col_name in categorical_features:\n",
    "        if col_name in grid_df.columns:\n",
    "            grid_df[col_name] = grid_df[col_name].astype('category')\n",
    "\n",
    "    # Predict probabilities\n",
    "    grid_df.loc[:, \"prob_good\"] = model.predict_proba(grid_df)[:, 1]\n",
    "\n",
    "    # Return top N recommendations\n",
    "    return grid_df.sort_values(\"prob_good\", ascending=False).head(top_n)"
   ]
  },
  {
   "cell_type": "markdown",
   "id": "8286eb57",
   "metadata": {},
   "source": [
    "#### 2.2 Test the recommendation"
   ]
  },
  {
   "cell_type": "code",
   "execution_count": 24,
   "id": "909db2db",
   "metadata": {},
   "outputs": [
    {
     "data": {
      "text/html": [
       "<div>\n",
       "<style scoped>\n",
       "    .dataframe tbody tr th:only-of-type {\n",
       "        vertical-align: middle;\n",
       "    }\n",
       "\n",
       "    .dataframe tbody tr th {\n",
       "        vertical-align: top;\n",
       "    }\n",
       "\n",
       "    .dataframe thead th {\n",
       "        text-align: right;\n",
       "    }\n",
       "</style>\n",
       "<table border=\"1\" class=\"dataframe\">\n",
       "  <thead>\n",
       "    <tr style=\"text-align: right;\">\n",
       "      <th></th>\n",
       "      <th>SupplierName</th>\n",
       "      <th>GarmentType</th>\n",
       "      <th>Material</th>\n",
       "      <th>Weight</th>\n",
       "      <th>ProposedUnitsPerCarton</th>\n",
       "      <th>ProposedFoldingMethod</th>\n",
       "      <th>ProposedLayout</th>\n",
       "      <th>Size</th>\n",
       "      <th>Collection</th>\n",
       "      <th>prob_good</th>\n",
       "    </tr>\n",
       "  </thead>\n",
       "  <tbody>\n",
       "    <tr>\n",
       "      <th>4808</th>\n",
       "      <td>SupplierG</td>\n",
       "      <td>Shirt</td>\n",
       "      <td>Cotton</td>\n",
       "      <td>1.0</td>\n",
       "      <td>48</td>\n",
       "      <td>Method2</td>\n",
       "      <td>LayoutD</td>\n",
       "      <td>S</td>\n",
       "      <td>Winter</td>\n",
       "      <td>0.987169</td>\n",
       "    </tr>\n",
       "  </tbody>\n",
       "</table>\n",
       "</div>"
      ],
      "text/plain": [
       "     SupplierName GarmentType Material  Weight  ProposedUnitsPerCarton  \\\n",
       "4808    SupplierG       Shirt   Cotton     1.0                      48   \n",
       "\n",
       "     ProposedFoldingMethod ProposedLayout Size Collection  prob_good  \n",
       "4808               Method2        LayoutD    S     Winter   0.987169  "
      ]
     },
     "execution_count": 24,
     "metadata": {},
     "output_type": "execute_result"
    }
   ],
   "source": [
    "# Define the user input\n",
    "fixed_inputs = {\n",
    "    \"GarmentType\": \"Shirt\",\n",
    "    \"Material\": \"Cotton\",\n",
    "    \"Weight\": 1.00,\n",
    "    \"Size\": \"S\",\n",
    "    \"Collection\": \"Winter\"\n",
    "}\n",
    "\n",
    "# Apply the function\n",
    "recommend_best_packaging(fixed_inputs, model_lgb)"
   ]
  },
  {
   "cell_type": "markdown",
   "id": "5992b436",
   "metadata": {},
   "source": []
  }
 ],
 "metadata": {
  "kernelspec": {
   "display_name": "base",
   "language": "python",
   "name": "python3"
  },
  "language_info": {
   "codemirror_mode": {
    "name": "ipython",
    "version": 3
   },
   "file_extension": ".py",
   "mimetype": "text/x-python",
   "name": "python",
   "nbconvert_exporter": "python",
   "pygments_lexer": "ipython3",
   "version": "3.11.5"
  }
 },
 "nbformat": 4,
 "nbformat_minor": 5
}
